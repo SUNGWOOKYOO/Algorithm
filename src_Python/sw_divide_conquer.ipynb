{
 "cells": [
  {
   "cell_type": "markdown",
   "metadata": {},
   "source": [
    "# chap 4 \n",
    "\n",
    "# find maximum - subarray problem \n",
    "\n",
    "1. brutal force sol :Ω(n^2) 이고, O(n^3)\n",
    "\n",
    "2. better sol :O(n^2)\n",
    "\n",
    "3. using divide and conquer \n",
    "    \n",
    "    [idea]\n",
    "    - max subarray lies among 3 cases : 1. left: A[low..mid] 2. right: A[mid+1..high]  3. cross: A[mid..high] \n",
    "    - T(n) = 2T(n/2) + n = O(nlgn)\n",
    "    \n",
    "4. Linear time algorithm \n",
    "   "
   ]
  },
  {
   "cell_type": "code",
   "execution_count": 1,
   "metadata": {},
   "outputs": [],
   "source": [
    "# 1. brutal force\n",
    "def find_maximum_subarray1(A):\n",
    "    n = len(A)\n",
    "    MaxSum = 0\n",
    "    for i in range(n):                        # 처음위치 i 선택 \n",
    "        for j in range(i,n):                  # 끝 위치 j 선택 \n",
    "            ThisSum = 0\n",
    "            for k in range(i,j+1):            #  A[i..j] 까지의 합  \n",
    "                ThisSum = ThisSum + A[k]\n",
    "            if ThisSum > MaxSum:              #  Max 값을 찾으면 update \n",
    "                MaxSum = ThisSum\n",
    "    return MaxSum\n",
    "\n",
    "# 2. better brutal force\n",
    "def find_maximum_subarray2(A):\n",
    "    n = len(A)\n",
    "    MaxSum = 0\n",
    "    for i in range(n):                        # 처음위치 i 선택 \n",
    "        ThisSum = 0\n",
    "        for j in range(i,n):                  # A[i..j] 까지의 합 \n",
    "            ThisSum = ThisSum + A[j]\n",
    "            if ThisSum > MaxSum:              #  Max 값을 찾으면 update \n",
    "                MaxSum = ThisSum\n",
    "    return MaxSum"
   ]
  },
  {
   "cell_type": "code",
   "execution_count": 2,
   "metadata": {},
   "outputs": [],
   "source": [
    "# 3. divide and conquer method\n",
    "def find_max_crossing_subarray(A, low, mid, high):\n",
    "    max_left = low      # initial value 존재 해야한다. local variable을 output으로 할 수 없음 \n",
    "    max_right = low\n",
    "    \n",
    "    left_sum = -float('inf')\n",
    "    sum = 0\n",
    "    for i in range(mid , low - 1, -1):\n",
    "        sum = sum + A[i]\n",
    "        if sum > left_sum:\n",
    "            left_sum = sum\n",
    "            max_left = i \n",
    "    right_sum = -float('inf')\n",
    "    sum = 0\n",
    "    for j in range(mid+1, high):\n",
    "        sum = sum + A[j]\n",
    "        if sum > right_sum:\n",
    "            right_sum = sum\n",
    "            max_right = j\n",
    "    return max_left, max_right, left_sum + right_sum\n",
    "\n",
    "def find_maximum_subarray(A, low, high):\n",
    "    if high == low:\n",
    "        return low, high, A[low]    # base case: only one element\n",
    "    \n",
    "    else: \n",
    "        mid = (low + high)// 2\n",
    "        \n",
    "        # dividing: T(n/2) + T(n/2)\n",
    "        left_low, left_high, left_sum = find_maximum_subarray(A, low, mid)\n",
    "        right_low, right_high, right_sum = find_maximum_subarray(A, mid+1, high)\n",
    "        \n",
    "        # crossing computing: O(n)\n",
    "        cross_low, cross_high, cross_sum = find_max_crossing_subarray(A, low, mid, high)\n",
    "        \n",
    "        # decision: O(n)\n",
    "        if left_sum >= right_sum and left_sum >= cross_sum:\n",
    "            return left_low, left_high, left_sum\n",
    "        if right_sum >= left_sum and right_sum >= cross_sum:\n",
    "            return right_low, right_high, right_sum\n",
    "        return cross_low, cross_high, cross_sum"
   ]
  },
  {
   "cell_type": "code",
   "execution_count": 3,
   "metadata": {},
   "outputs": [],
   "source": [
    "# 4. linear time algorithm\n",
    "def find_maximum_subarray4(A):\n",
    "    n = len(A)\n",
    "    MaxSum = 0\n",
    "    ThisSum = 0\n",
    "    for j in range(n):                        # 처음위치 i 선택 \n",
    "        ThisSum = ThisSum + A[j]\n",
    "        if ThisSum > MaxSum:              #  Max 값을 찾으면 update \n",
    "            MaxSum = ThisSum\n",
    "        elif ThisSum < 0:\n",
    "            ThisSum = 0\n",
    "    return MaxSum"
   ]
  },
  {
   "cell_type": "code",
   "execution_count": 4,
   "metadata": {},
   "outputs": [
    {
     "name": "stdout",
     "output_type": "stream",
     "text": [
      "43\n",
      "43\n",
      "(7, 10, 43)\n",
      "43\n"
     ]
    }
   ],
   "source": [
    "A  = [13,-3,-25,20,-3,-16,-23,18,20,-7,12,-5,-22,15,-4,7]\n",
    "print(find_maximum_subarray1(A))\n",
    "print(find_maximum_subarray2(A))\n",
    "print(find_maximum_subarray(A,0,14))\n",
    "print(find_maximum_subarray4(A))"
   ]
  }
 ],
 "metadata": {
  "kernelspec": {
   "display_name": "Python 3",
   "language": "python",
   "name": "python3"
  },
  "language_info": {
   "codemirror_mode": {
    "name": "ipython",
    "version": 3
   },
   "file_extension": ".py",
   "mimetype": "text/x-python",
   "name": "python",
   "nbconvert_exporter": "python",
   "pygments_lexer": "ipython3",
   "version": "3.5.4"
  }
 },
 "nbformat": 4,
 "nbformat_minor": 2
}
