{
 "cells": [
  {
   "cell_type": "markdown",
   "metadata": {},
   "source": [
    "# Dynamic programming \n",
    "\n",
    "### 1. top down : recursive call \n",
    "### 2. top down with memoization \n",
    "### 3. bottom up "
   ]
  },
  {
   "cell_type": "markdown",
   "metadata": {},
   "source": [
    "## Rod cutting Problem \n",
    " recursive formula :  $r_n = \\max(\\max_{1 \\le i \\le {n - 1}} (p_i + r_{n-i}), p_n)$"
   ]
  },
  {
   "cell_type": "markdown",
   "metadata": {},
   "source": [
    "- top down \n",
    "    \n",
    "    recursive top down 방식 ; inefficient  \n",
    "    \n",
    "    running time : $T(n) = 2^n$"
   ]
  },
  {
   "cell_type": "code",
   "execution_count": 1,
   "metadata": {},
   "outputs": [],
   "source": [
    "# 길이 n 짜리 rod에 대해 cutting했을때의 최대 가격을 q로 저장 \n",
    "def cutrod(p,n):\n",
    "    if n == 0:\n",
    "        return 0\n",
    "    q = -float('inf')\n",
    "    for i in range(1,n+1):\n",
    "        q = max(q, p[i] + cutrod(p,n-i))  # 모든 경우를 계산하여  optimal 한경우를 q 로 저장 \n",
    "    return q"
   ]
  },
  {
   "cell_type": "markdown",
   "metadata": {},
   "source": [
    "- top down with memoization 방식 ; checking 한 후(저장된 값이 있는지), 저장 값이 없다면 recursive call을 통해 subproblem 푼다.\n",
    "   \n",
    "  running time: $ T(n) = O(n^2) $ \n",
    "  ,because entry size n, choosing n => $ n^2 $\n",
    "    "
   ]
  },
  {
   "cell_type": "code",
   "execution_count": 2,
   "metadata": {},
   "outputs": [],
   "source": [
    "# top down with memoization \n",
    "# r[길이] array에 최대 가격을 메모한다. \n",
    "\n",
    "def cutrod1_memo(p,n):\n",
    "    # let r[0 .. n] be a new array \n",
    "    r = [0 for _ in range(n + 1)]\n",
    "    \n",
    "    for i in range(0,n+1):\n",
    "        r[i] = -float('inf')    # memo 할 r[i] 값을 초기화 한다. \n",
    "    return memo_topdown(p,n,r)  # r[] 에 memo를 하며 topdown 방식으로 문제를 푼다. \n",
    "\n",
    "#subroutine으로 이용\n",
    "def memo_topdown(p,n,r):\n",
    "    if r[n] >= 0:\n",
    "        return r[n]\n",
    "    if n==0:\n",
    "        q = 0\n",
    "        \n",
    "    # 저장된값이 없다면,\n",
    "    else:\n",
    "        q = -float('inf')\n",
    "        for i in range(1,n+1):\n",
    "            q = max(q, p[i] +  memo_topdown(p,n-i,r))    # 계산을 하여 최대값을 q로 지정 여기서 memo한것들은 O(1)시간에 된다.\n",
    "            \n",
    "    # 계산 후 저장        \n",
    "    r[n] = q\n",
    "    return q"
   ]
  },
  {
   "cell_type": "markdown",
   "metadata": {},
   "source": [
    "- bottom up 방식 ; subproblem을 먼저 풀고, 이를 이용한다. memoization 을 통해 할 수 있다. \n",
    "\n",
    "  a problem of size is smaller than subproblem of size j ,if $ i \\le j $ \n",
    "  \n",
    "  running time:  $ T(n) = O(n^2) $ , because doubly nested loop  $ i \\le j \\le n $"
   ]
  },
  {
   "cell_type": "code",
   "execution_count": 3,
   "metadata": {},
   "outputs": [],
   "source": [
    "def cutrod2_memo(p,n):\n",
    "    # let r[0 .. n] be a new array \n",
    "    r = [None for _ in range(n + 1)]\n",
    "    r[0] = 0\n",
    "    \n",
    "    # subproblem에서 부터 total sol을 이끌어낸다. \n",
    "    for j in range(1,n+1):\n",
    "        q= -float('inf')\n",
    "        # i <= j 가 되도록 한다. 또한, r[j - i] 를 통해 subproblem의 solution을 이용 \n",
    "        for i in range(1,j+1):\n",
    "            q = max(q, p[i]+ r[j-i])  # Line 10~11 : subproblem size of j 를 푸는 과정(i = 1 .. j 경우의수에 대해 optimal값 찾음)\n",
    "        r[j] = q\n",
    "    return r[n]\n",
    "        "
   ]
  },
  {
   "cell_type": "code",
   "execution_count": 4,
   "metadata": {},
   "outputs": [
    {
     "name": "stdout",
     "output_type": "stream",
     "text": [
      "1 top down \n",
      "1 topdown with memo \n",
      "1 bottom up \n",
      "5 top down \n",
      "5 topdown with memo \n",
      "5 bottom up \n",
      "8 top down \n",
      "8 topdown with memo \n",
      "8 bottom up \n",
      "10 top down \n",
      "10 topdown with memo \n",
      "10 bottom up \n",
      "13 top down \n",
      "13 topdown with memo \n",
      "13 bottom up \n",
      "17 top down \n",
      "17 topdown with memo \n",
      "17 bottom up \n",
      "18 top down \n",
      "18 topdown with memo \n",
      "18 bottom up \n",
      "22 top down \n",
      "22 topdown with memo \n",
      "22 bottom up \n",
      "25 top down \n",
      "25 topdown with memo \n",
      "25 bottom up \n",
      "30 top down \n",
      "30 topdown with memo \n",
      "30 bottom up \n"
     ]
    }
   ],
   "source": [
    "p = [-1,1,5,8,9,10,17,17,20,24,30]     # python 은 array 가 p[0] ~ p[10] 까지 있으므로 \n",
    "for i in range(1, 11):      # i =  length 를 의미 \n",
    "    sol1 = cutrod(p,i)\n",
    "    sol2 = cutrod1_memo(p,i)\n",
    "    sol3 = cutrod2_memo(p,i)\n",
    "    print(sol1, \"top down \")\n",
    "    print(sol2, \"topdown with memo \")\n",
    "    print(sol3, \"bottom up \")"
   ]
  },
  {
   "cell_type": "markdown",
   "metadata": {},
   "source": [
    "### Hw\n",
    "Length  | 1  2  3  4   5   6   7   8   9   10  11  12  13  14  15  16  17  18  19  20\n",
    "\n",
    "Price    | 1  5  8  9  10  17  17  20  24  25  25  30  32  33  35  37  37  40  42  43\n",
    "\n",
    "\n",
    "1.\t최대가 된 가격을 출력\n",
    "2.\t자른 막대의 길이를 출력\n",
    "ex) (12, 5, 3)\n",
    "Hint) 1-D array 하나를 더 써서 가능"
   ]
  },
  {
   "cell_type": "code",
   "execution_count": 5,
   "metadata": {},
   "outputs": [],
   "source": [
    "def extended_bottom_up_rod_cut(p,n):\n",
    "    r = [0 for _ in range(n + 1)]   # r[] 배열의 초기값 \n",
    "    s = [0 for _ in range(n + 1)]\n",
    "    for j in range(1, n+1):\n",
    "        q = -1\n",
    "        for i in range(1, j+1):\n",
    "            if q < p[i] + r[j-i]:\n",
    "                q = p[i] + r[j-i]\n",
    "                s[j] = i           # price 가 최대가 된 지점에서의 length i 를 s[j]에 저장\n",
    "        r[j] = q                   # (j길이의 토막에서  i길이의 토막을 잘랐을때, 최대가됨)\n",
    "        \n",
    "    return r,s                    # r[j]에는 size j 의 토막 optimal price info 가 들어있고, \n",
    "                                  #s에는 r[j]를 만들때 i길이와 j-i 길이로 분해하는 값을 저장: s[j] = i \n",
    "                   \n",
    "\n",
    "def print_cut_rod_solution(p,n):\n",
    "    r,s = extended_bottom_up_rod_cut(p,n)\n",
    "    while n > 0:\n",
    "        print(s[n])\n",
    "        n = n - s[n]"
   ]
  },
  {
   "cell_type": "code",
   "execution_count": 6,
   "metadata": {},
   "outputs": [
    {
     "name": "stdout",
     "output_type": "stream",
     "text": [
      "[0, 1, 5, 8, 10, 13, 17, 18, 22, 25, 27, 30, 34, 35, 39, 42, 44, 47, 51, 52, 56]\n",
      "[0, 1, 2, 3, 2, 2, 6, 1, 2, 3, 2, 2, 6, 1, 2, 3, 2, 2, 6, 1, 2]\n",
      "1th problem.  20 길이의 토막을 나눌때 최대가 된가격:   56\n",
      "2th problem.   나무토막을 나눈 각각의 길이 \n",
      "2\n",
      "6\n",
      "6\n",
      "6\n"
     ]
    }
   ],
   "source": [
    "p = [-1,1,5,8,9,10,17,17,20,24,25,25,30,32,33,35,37,37,40,42,43]\n",
    "r,s = extended_bottom_up_rod_cut(p,(len(p)-1))\n",
    "print(r)\n",
    "print(s)\n",
    "\n",
    "print(\"1th problem. \", (len(p)-1), \"길이의 토막을 나눌때 최대가 된가격:  \", r[(len(p)-1)] )\n",
    "print(\"2th problem.  \", \"나무토막을 나눈 각각의 길이 \")\n",
    "print_cut_rod_solution(p,(len(p)-1))\n"
   ]
  },
  {
   "cell_type": "markdown",
   "metadata": {},
   "source": [
    "## Matrix-chain multiplication \n",
    ": matrix multiplication 할때, parenthesization 을 어떻게 효율적으로 할 것인가?\n",
    "\n",
    "the number of parenthesization : $ P(n) = \\sum_{k=1}^{n-1} P(k) \\cdot P(n-k) , if ( n \\ge 2 \\ )$\n",
    "\n",
    "let m[i,j] = cost of parenthesization A[i .. j ] , when scalar multiplication \n",
    ",where each matrix $A_i$ is $p_{i-1} \\times p_i$     , that is, $A_i$'s  numbers of col : $ p_i $  \n",
    "\n",
    "note that the cost of \n",
    "$( A_i \\times  .. \\times A_{k} ) \\times (A_{k+1} \\times .. \\times A_{j} )$\n",
    "is  that  $ m[i,k] + m[k+1,j] + p_{i-1}p_k p_j $ \n",
    "\n",
    "recursive formula :  $m[i,j] = \\min_{i \\le k < j}(m[i.k] + m[k+1,j] + p_{i-1} p_k p_j ) \\ , \\ if \\ i < j $\n"
   ]
  },
  {
   "cell_type": "markdown",
   "metadata": {},
   "source": [
    " - top down \n",
    " \n",
    " for $m[1,n],  k = 1 .. n-1$\n",
    " \n",
    "  \n",
    " $ from \\ T(n) \\ge 1 +  \\sum_{k=1}^{n-1}(T(k) + T(n-k) + 1) ,$ \n",
    " \n",
    " \n",
    " $$\n",
    " T(n) = Ω(2^n)\n",
    " $$"
   ]
  },
  {
   "cell_type": "code",
   "execution_count": 7,
   "metadata": {},
   "outputs": [],
   "source": [
    "# 1 .recursive \n",
    "def recursive_matrix_chain(p,i,j,m):\n",
    "    if i==j:\n",
    "        return 0\n",
    "    \n",
    "    # minimum 값을 m[i][j] 에 저장하는데, 똑같은 계산을 반복 하므로  inefficient 하게 계산 \n",
    "    m[i][j] = float('inf')\n",
    "    for k in range(i, j):\n",
    "        q = recursive_matrix_chain(p,i,k,m) + recursive_matrix_chain(p,k+1,j,m) + p[i-1]*p[k]*p[j]\n",
    "        if q < m[i][j]:\n",
    "            m[i][j] = q\n",
    "        \n",
    "    return m[i][j]"
   ]
  },
  {
   "cell_type": "markdown",
   "metadata": {},
   "source": [
    "- topdown with memo\n",
    "$$\n",
    "    T(n) = O(n^3)\n",
    "$$\n",
    "because entry $n^2$, choosing among $n$ "
   ]
  },
  {
   "cell_type": "code",
   "execution_count": 8,
   "metadata": {},
   "outputs": [],
   "source": [
    "# 2. top down with memo \n",
    "import numpy as np\n",
    "\n",
    "def memoized_matrix_chain(p):\n",
    "    n = len(p) - 1 \n",
    "    m = np.ones([len(p),len(p)])*float('inf') # memo 할 matrix 형성 \n",
    "    \n",
    "    return lookup_chain(m,p,1,n) \n",
    "\n",
    "def lookup_chain(m,p,i,j):         # topdown with memo 를 통해 A[i .. j] 에 대한 cost를 구해주는 함수 \n",
    "    if m[i][j] < float('inf'):\n",
    "        return m[i][j]\n",
    "    if i == j:\n",
    "        m[i][j] = 0\n",
    "    else:\n",
    "        for k in range(i, j):\n",
    "            q = lookup_chain(m,p,i,k) + lookup_chain(m,p,k+1,j) + p[i-1]*p[k]*p[j]\n",
    "            if q < m[i][j]:\n",
    "                m[i][j] = q\n",
    "    return m[i][j]"
   ]
  },
  {
   "cell_type": "markdown",
   "metadata": {},
   "source": [
    "- bottom up \n",
    "$$\n",
    "    T(n) = O(n^3)\n",
    "$$\n",
    "three nested loop "
   ]
  },
  {
   "cell_type": "code",
   "execution_count": 9,
   "metadata": {},
   "outputs": [],
   "source": [
    "# 3. bottom up approach \n",
    "def matrix_chain_order(p):\n",
    "    n = len(p) - 1 \n",
    "    m = np.zeros([len(p),len(p)])\n",
    "    s = np.zeros([len(p),len(p)])\n",
    "    for i in range(1,n+1):        # i = j, l = 1 일때 \n",
    "        m[i][i] = 0\n",
    "        \n",
    "    # three nested loop : i < j =< n \n",
    "    for l in range(2,n+1):              # l = j - i + 1   (chain length 를 의미)\n",
    "        for i in range(n-l+2):          \n",
    "            j = i + l - 1 \n",
    "            m[i][j] = float('inf')\n",
    "            for k in range(i,j):\n",
    "                q = m[i][k] + m[k+1][j] + p[i-1]*p[k]*p[j] \n",
    "                if q < m[i][j]:\n",
    "                    m[i][j] = q\n",
    "                    # when we have optimal sol ?  s[i][j] = k !  \n",
    "                    s[i][j] = k \n",
    "    return m,s"
   ]
  },
  {
   "cell_type": "markdown",
   "metadata": {},
   "source": [
    "problem : $  A_1 \\times  .. \\times A_{6} $  \n",
    "information p[i] = $A_i$'s column #"
   ]
  },
  {
   "cell_type": "code",
   "execution_count": 10,
   "metadata": {},
   "outputs": [
    {
     "name": "stdout",
     "output_type": "stream",
     "text": [
      " recursive method\n",
      "15125\n",
      "[[    0     0     0     0     0     0     0]\n",
      " [    0     0 15750  7875  9375 11875 15125]\n",
      " [    0     0     0  2625  4375  7125 10500]\n",
      " [    0     0     0     0   750  2500  5375]\n",
      " [    0     0     0     0     0  1000  3500]\n",
      " [    0     0     0     0     0     0  5000]\n",
      " [    0     0     0     0     0     0     0]]\n",
      " top down method\n",
      "15125.0\n",
      " bottom up method\n",
      "[[    0. 26250. 27000. 11625. 12875. 15125.     0.]\n",
      " [    0.     0. 15750.  7875.  9375. 11875. 15125.]\n",
      " [    0.     0.     0.  2625.  4375.  7125. 10500.]\n",
      " [    0.     0.     0.     0.   750.  2500.  5375.]\n",
      " [    0.     0.     0.     0.     0.  1000.  3500.]\n",
      " [    0.     0.     0.     0.     0.     0.  5000.]\n",
      " [    0.     0.     0.     0.     0.     0.     0.]]\n",
      "[[0. 0. 0. 0. 3. 3. 0.]\n",
      " [0. 0. 1. 1. 3. 3. 3.]\n",
      " [0. 0. 0. 2. 3. 3. 3.]\n",
      " [0. 0. 0. 0. 3. 3. 3.]\n",
      " [0. 0. 0. 0. 0. 4. 5.]\n",
      " [0. 0. 0. 0. 0. 0. 5.]\n",
      " [0. 0. 0. 0. 0. 0. 0.]]\n"
     ]
    }
   ],
   "source": [
    "import numpy as np\n",
    "p = [30,35,15,5,10,20,25]\n",
    "m = [[0 for col in range(len(p))] for row in range(len(p))]\n",
    "# recursive call 을 할때, call 은 (1,6) 부터 하지만, 계산은 overlapping 되며 subproblem 부터 하게 된다. \n",
    "\n",
    "print(\" recursive method\")\n",
    "print(recursive_matrix_chain(p,1,6,m))\n",
    "print(np.array(m))\n",
    "\n",
    "# Top down with memoization \n",
    "print(\" top down method\")\n",
    "print(memoized_matrix_chain(p))\n",
    "\n",
    "# bottom up approach \n",
    "print(\" bottom up method\")\n",
    "[M,S]= matrix_chain_order(p)\n",
    "print(M)\n",
    "print(S)"
   ]
  },
  {
   "cell_type": "markdown",
   "metadata": {},
   "source": [
    "## Longest common subsequence problem \n",
    ": LCS 를 찾아라\n",
    "\n",
    "let  $c[i,j]$ be the length of an LCS of the $X_i \\ and \\ Y_j $\n",
    "\n",
    ">property of Optimal substructure \n",
    "\n",
    ">let $Z = [z_1, z_2, ... ,z_k]$,\n",
    "    $X = [z_1, z_2, ... ,z_m]$,\n",
    "    $Y = [z_1, z_2, ... ,z_n]$,  \n",
    "    where $k = c[m,n]$\n",
    " \n",
    "> if $x_m = y_n $, then $z_k = x_m = y_n$ and $Z_{k-1}$ is an LCS of $X_{m-1}$ and $Y_{n-1}$  \n",
    "> if $x_m \\ne y_n $, then $z_k \\ne x_m$ implies that $Z$ is an LCS of $X_{m-1}$ and $Y$  \n",
    "> if $x_m \\ne y_n $, then $z_k \\ne y_n$ implies that $Z$ is an LCS of $X$ and $Y_{n-1}$  \n",
    "\n",
    "reculsive formula : \n",
    "\n",
    "$$\n",
    "c[i,j] = \\left \\{ \n",
    "\\begin{matrix}\n",
    "c[i-1, j-1] + 1 & \\text{if}~ i, j > 0  \\text{ and } x_i = y_j, \\text{: case 1 }\\\\\n",
    "\\max(c[i, j-1], c[i-1, j]) & \\text{if}~ i, j > 0 \\text{ and } x_i \\ne y_j \\text{ : case 2 }\\\\\n",
    "\\end{matrix}\\right.\n",
    "$$                       "
   ]
  },
  {
   "cell_type": "markdown",
   "metadata": {},
   "source": [
    " - bottom up \n",
    " $$\n",
    " T(n) = O(mn), \\ for \\ inputs \\ : \\ X[1..m], Y[1..n]\n",
    " $$\n",
    " \n",
    " in order to solve c[m][n],\n",
    " \n",
    " we have to fill up $mn$ entries, where each entry takes O(1) time\n",
    " \n",
    " because choosing between 2 previous subproblem "
   ]
  },
  {
   "cell_type": "code",
   "execution_count": 11,
   "metadata": {},
   "outputs": [],
   "source": [
    "# bottom up approach ; three nested loop \n",
    "def LCS_LENGTH(X, Y):\n",
    "    m = len(X)-1\n",
    "    n = len(Y)-1\n",
    "    c = [[None for col in range(len(Y))] for row in range(len(X))]\n",
    "    \n",
    "    for i in range (1, m+1):\n",
    "        c[i][0]= 0\n",
    "    \n",
    "    for j in range (0, n+1):\n",
    "        c[0][j] = 0\n",
    "     \n",
    "    for i in range(1,m+1):\n",
    "        for j in range(1,n+1):\n",
    "            if X[i]==Y[j]:                    # case 1\n",
    "                c[i][j] = c[i-1][j-1]+1\n",
    "                #b[i][j] = \"↖\" \n",
    "            else:                            # case 2 ; X[i] != Y[j]\n",
    "                c[i][j] = max(c[i-1][j], c[i][j-1])\n",
    "                #b[i][j] = \"↑\"  , if c[i-1][j] >= c[i][j-1]\n",
    "                #b[i][j] = \"←\"  , if c[i-1][j] < c[i][j-1]\n",
    "                \n",
    "                \n",
    "    return c"
   ]
  },
  {
   "cell_type": "code",
   "execution_count": 12,
   "metadata": {},
   "outputs": [],
   "source": [
    "def PRINT_LCS(c, X, Y, i, j):\n",
    "    if i==0 or j==0:\n",
    "        return \n",
    "    if X[i]==Y[j]:                            #b[i][j] = \"↖\"\n",
    "        PRINT_LCS(c, X, Y, i - 1, j - 1)\n",
    "        print(X[i])\n",
    "    elif c[i - 1][j] >= c[i][j - 1]:          #b[i][j] = \"↑\" \n",
    "        PRINT_LCS(c, X, Y, i - 1, j)\n",
    "    else:                                     #b[i][j] = \"←\" \n",
    "        PRINT_LCS(c, X, Y, i, j - 1)"
   ]
  },
  {
   "cell_type": "code",
   "execution_count": 13,
   "metadata": {},
   "outputs": [
    {
     "name": "stdout",
     "output_type": "stream",
     "text": [
      "1\n",
      "0\n",
      "0\n",
      "1\n",
      "1\n",
      "0\n",
      "[[0 0 0 0 0 0 0 0 0 0]\n",
      " [0 0 1 1 1 1 1 1 1 1]\n",
      " [0 1 1 2 2 2 2 2 2 2]\n",
      " [0 1 1 2 2 2 3 3 3 3]\n",
      " [0 1 2 2 3 3 3 4 4 4]\n",
      " [0 1 2 3 3 3 4 4 4 5]\n",
      " [0 1 2 3 4 4 4 5 5 5]\n",
      " [0 1 2 3 4 4 5 5 5 6]\n",
      " [0 1 2 3 4 5 5 6 6 6]]\n",
      "B\n",
      "C\n",
      "B\n",
      "A\n",
      "[[0 0 0 0 0 0 0]\n",
      " [0 0 0 0 1 1 1]\n",
      " [0 1 1 1 1 2 2]\n",
      " [0 1 1 2 2 2 2]\n",
      " [0 1 1 2 2 3 3]\n",
      " [0 1 2 2 2 3 3]\n",
      " [0 1 2 2 3 3 4]\n",
      " [0 1 2 2 3 4 4]]\n"
     ]
    }
   ],
   "source": [
    "import numpy as np\n",
    "\n",
    "X = [-1,1,0,0,1,0,1,0,1]        # 크기를 1 값부터 m 값 까지 정해야 하므로 index 0 에 -1 값 을 넣었다.\n",
    "Y = [-1,0,1,0,1,1,0,1,1,0]\n",
    "C1 = LCS_LENGTH(X,Y)   # c[8][9] = 6 ; 길이 6 의 LCS를 찾음 \n",
    "PRINT_LCS(C1, X, Y, len(X)-1, len(Y)-1) # index 0 값을 무시해야 하므로 길이 - 1 을 해야함 \n",
    "print(np.array(C1))   \n",
    "\n",
    "X2 = [-1,'A','B','C','B','D','A','B']\n",
    "Y2 = [-1,'B','D','C','A','B','A']\n",
    "C2 = LCS_LENGTH(X2,Y2)    # c[7][6] = 4 ; 길이 4 의 LCS를 찾음 \n",
    "PRINT_LCS(C2, X2, Y2, len(X2)-1, len(Y2)-1)\n",
    "print(np.array(C2))"
   ]
  },
  {
   "cell_type": "markdown",
   "metadata": {},
   "source": [
    "## Optimal binary search trees Problem \n",
    "\n",
    "> [recall] Binary Search Tree properties  \n",
    "\n",
    ">The left subtree of a node contains only nodes with keys lesser than the node’s key.\n",
    "\n",
    ">The right subtree of a node contains only nodes with keys greater than the node’s key.\n",
    "\n",
    ">The left and right subtree each must also be a binary search tree.\n",
    "\n",
    ">There must be no duplicate nodes.\n",
    "\n",
    ": given each possibility of seaching nodes \n",
    "  \n",
    "  $p_i$ : prob of searching internal nodes($k_i, i = 1, ..., n $)  \n",
    "  \n",
    "  $q_i$ : prob of searching internal nodes($d_i, i = 0, ..., n$)\n",
    "  \n",
    "let $e[i, j]$ is cost of searching a BST\n",
    "$$\n",
    "e[i,j] = \\sum_{l=i}^{j}(depth_T(k_l)+1)p_l + \\sum_{l=i-1}^{j}(depth_T(d_l)+1)q_l \\\\        \n",
    " = p_r + (e[i,r-1] + w(i,r-1)) + (e[r+1,j]+ w(r+1,j)) \\\\ \n",
    " = e[i,r-1] + e[r+1,j] + w(i,j) \\\\\n",
    " ,where \\ w(i,j) = \\sum_{l=i}^{j}p_l + \\sum_{l=i-1}^{j}q_l\n",
    "$$\n",
    "\n",
    " note that \n",
    " \n",
    " r node을 기준으로  {subtree [i .. r-1]} + {r node} + {subtree [r+1 .. j]} 로 나뉜다고 생각하면 \n",
    " [i..j] internal nodes를 가진 subtree 의 $depth_i$ 가 1 증가 함으로써 $e[i,j]에 $ \n",
    " $w(i,j) = \\sum_{l=i}^{j}p_l + \\sum_{l=i-1}^{j}q_l$ 이 추가된다. \n",
    "\n",
    "\n",
    ">Objective:\n",
    "\n",
    ">어떤 Binary Tree에서 각 노드에 접근할 확률이 주어졌을때, \n",
    "\n",
    ">key를 searching 하는데 최소의 cost 로 searching하는 Optimal BST structure를 찾고 싶다! \n",
    "\n",
    "\n",
    "reculsive fomula : \n",
    "$$\n",
    "e[i,j] = \\left \\{ \n",
    "\\begin{matrix}\n",
    "q_{i-1} & \\text{if}~ j = i - 1, \\\\\n",
    "\\min_{i < r \\le j}(e[i,r-1] + e[r+1,j] + w(i,j)) & \\text{if}~ i \\le j. \n",
    "\\end{matrix}\\right.\n",
    "$$\n",
    "\n"
   ]
  },
  {
   "cell_type": "markdown",
   "metadata": {},
   "source": [
    "- bottom up \n",
    "\n",
    "$$\n",
    " T(n) = O(n^3) \n",
    "$$\n",
    " \n",
    " in order to solve c[1][n],\n",
    " \n",
    " we have to fill up $n^2$ entries, where each entry takes O(n) time\n",
    " \n",
    " because choosing among n previous subproblems\n",
    "\n",
    "root array를 통해 몇 번째 노드를 기준으로 분리하는것이 searching 하는데 이득이 되는지 알 수 있다 ."
   ]
  },
  {
   "cell_type": "code",
   "execution_count": 14,
   "metadata": {},
   "outputs": [],
   "source": [
    "# bottom up approach ; three nested loop \n",
    "def Optimal_BST(p,q,n):\n",
    "    e = [[None for j in range(0, n+1)] for i in range(1, n+2+1)]   # 나머지칸을 빈칸으로 두기 위해 i 에 +1 을 하였다. \n",
    "    w = [[None for j in range(0, n+1)] for i in range(1, n+2+1)]\n",
    "    root = [[None for j in range(1, n+1+1)] for i in range(1, n+1+1)]\n",
    "    \n",
    "    for i in range(1,n+2):               # base case \n",
    "        e[i][i-1] = q[i-1]  \n",
    "        w[i][i-1] = q[i-1]\n",
    "    \n",
    "    for l in range(1,n+1):\n",
    "        for i in range(1,n-l+2):\n",
    "            j = i+l-1\n",
    "            e[i][j] = float('inf')     # 무한 대의 값 \n",
    "            w[i][j] = w[i][j-1] + p[j] + q[j]\n",
    "            \n",
    "            for r in range(i, j+1):                       # cost가 min이 되는 r을 찾는다.\n",
    "                t  = e[i][r-1] + e[r+1][j] + w[i][j]\n",
    "                \n",
    "                if t < e[i][j]:\n",
    "                    e[i][j] = t\n",
    "                    root[i][j] = r\n",
    "    \n",
    "    return e, root  "
   ]
  },
  {
   "cell_type": "code",
   "execution_count": 15,
   "metadata": {},
   "outputs": [
    {
     "data": {
      "text/plain": [
       "[[None, None, None, None, None, None],\n",
       " [None, 1, 1, 2, 2, 2],\n",
       " [None, None, 2, 2, 2, 4],\n",
       " [None, None, None, 3, 4, 5],\n",
       " [None, None, None, None, 4, 5],\n",
       " [None, None, None, None, None, 5]]"
      ]
     },
     "execution_count": 15,
     "metadata": {},
     "output_type": "execute_result"
    }
   ],
   "source": [
    "p = [  -1,  0.15,  0.10,  0.05,  0.10,  0.20]\n",
    "q = [0.05,  0.10,  0.05,  0.05,  0.05,  0.10]\n",
    "e,root = Optimal_BST(p,q,len(p)-1)\n",
    "root"
   ]
  },
  {
   "cell_type": "code",
   "execution_count": 16,
   "metadata": {},
   "outputs": [
    {
     "data": {
      "text/plain": [
       "[[None, None, None, None, None, None],\n",
       " [0.05, 0.45000000000000007, 0.9, 1.25, 1.75, 2.75],\n",
       " [None, 0.1, 0.4, 0.7, 1.2, 2.0],\n",
       " [None, None, 0.05, 0.25, 0.6, 1.2999999999999998],\n",
       " [None, None, None, 0.05, 0.30000000000000004, 0.9],\n",
       " [None, None, None, None, 0.05, 0.5],\n",
       " [None, None, None, None, None, 0.1]]"
      ]
     },
     "execution_count": 16,
     "metadata": {},
     "output_type": "execute_result"
    }
   ],
   "source": [
    "e"
   ]
  },
  {
   "cell_type": "markdown",
   "metadata": {},
   "source": [
    "# Greedy Algorithm \n",
    " \n",
    " > greedy choice looks best at the moment. \n",
    " \n",
    " > it makes a locally optimal choice in the hope that this choice will lead to global optimal solution."
   ]
  },
  {
   "cell_type": "markdown",
   "metadata": {},
   "source": [
    "## Activity Selection Problem \n",
    "\n",
    "$S_{ij}$ 의 원소 a_k 는 starting time은 $f_i$ 이후, finishing time은 $s_j$ 이전 인 원소이다. \n",
    "\n",
    "n 개의 원소중 \n",
    "\n",
    "$S_{0,n+1}$ 의 원소 갯수가 최대가 되도록 선택을 하고 싶다! (dummy 원소 $a_0, a_{n+1}$ 두고)\n",
    "\n",
    "c[i.j] : the # of activities in max-size subset of mutually compatible in S[i,j]\n",
    "\n",
    "reculsive formula :\n",
    "\n",
    "$$\n",
    "c[i,j] = \\left \\{ \n",
    "\\begin{matrix}\n",
    "0 & \\text{if}~ S_{ij} \\ is \\ empty, \\\\\n",
    "\\max_{a_k ∈ S_{ij}}(c[i,k] + c[k,j] + 1) & \\text{if}~ S_{ij} \\ is \\ non-empty. \n",
    "\\end{matrix}\\right.\n",
    "$$\n",
    "\n",
    "if we use DP, $T(n) = O(n^2)$, because entries O(n^2), each entry takes O(n)\n",
    "\n",
    "redefine for greedy algorithm \n",
    "\n",
    "$S_{ij} -> S_k $ = {$a_i ∈ S: s_i \\ge f_k $} \n",
    "\n",
    "If we use greedy algorithm, DP formula can be transformed. \n",
    "\n",
    "$$\n",
    "c[0,n+1] = c[0,m_1] + c[m_1, n+1] + 1\\\\ \n",
    "= c[m_2, n+1] + 1 + 1\\\\\n",
    "= c[m_2, n+1] + 1 + 1 + 1\\\\\n",
    "= ... \\\\\n",
    "= c[m_m, n+1] + m \n",
    "$$\n",
    "\n",
    "note that  $c[0,m] = 0, c[m_1,m_2] = 0, ... ,c[m_{m-1},c_m] = 0$\n",
    ", where $m \\le n $\n",
    "\n",
    "entries are decreased by O(n), each entry takes O(1)\n",
    "\n",
    "Therefore, \n",
    "$$\n",
    "T(n) = O(n), \\text{ suppose that prepressing sortng }~ a_k \\text{ with finishing time } \n",
    "$$"
   ]
  },
  {
   "cell_type": "code",
   "execution_count": 17,
   "metadata": {},
   "outputs": [],
   "source": [
    "# 1. recursive version \n",
    "def Recursive_Greedy(s,f,k,n):\n",
    "    m = k+1\n",
    "    \n",
    "    # Find appropriate m for using optimal sol \n",
    "    while m <= n and s[m] < f[k]:\n",
    "        m = m + 1 \n",
    "    \n",
    "    if m <= n:\n",
    "        A = np.array([m]) \n",
    "        return np.append(A, Recursive_Greedy(s,f,m,n))\n",
    "    else:\n",
    "        return None"
   ]
  },
  {
   "cell_type": "code",
   "execution_count": 18,
   "metadata": {},
   "outputs": [],
   "source": [
    "# 2. iterative version \n",
    "def Iterative_Greedy(s,f):\n",
    "    n = s.shape[0] - 2\n",
    "    A = np.array([1]) # A always has a1 \n",
    "    k = 1 \n",
    "    for m in range(2,n+1):\n",
    "        if s[m] >= f[k]:\n",
    "            A = np.append(A, m)\n",
    "            k = m \n",
    "    return A "
   ]
  },
  {
   "cell_type": "code",
   "execution_count": 19,
   "metadata": {},
   "outputs": [
    {
     "name": "stdout",
     "output_type": "stream",
     "text": [
      "Output of the recursive version:   [1 4 8 11 None]\n",
      "Output of the iterative version:   [ 1  4  8 11]\n"
     ]
    }
   ],
   "source": [
    "# n = 11\n",
    "# s[0],f[0] and s[12],f[12] are dummies\n",
    "# Assume that inputs are already sorted : f[1] <= f[2] <= f[3] <= ... <= f[11]\n",
    "\n",
    "import numpy as np \n",
    "s = np.array([-1,1,3,0,5,3,5,6,8,8,2,12,float('Inf')]) \n",
    "f = np.array([0,4,5,6,7,8,9,10,11,12,13,14,-1]) \n",
    "A1 = Recursive_Greedy(s,f,0,s.shape[0]-2)\n",
    "A2 = Iterative_Greedy(s,f)\n",
    "print(\"Output of the recursive version:  \", A1)\n",
    "print(\"Output of the iterative version:  \", A2)"
   ]
  },
  {
   "cell_type": "markdown",
   "metadata": {},
   "source": [
    "# Knapsack Problem \n",
    "\n",
    "0-1 Knapsack problem is not satisfied with Greedy choice property "
   ]
  },
  {
   "cell_type": "markdown",
   "metadata": {},
   "source": [
    "- 0-1 Knapsack Problem through Dynamic programming\n",
    "\n",
    "nW 시간이 걸린다. c[n,W]만큼 loop를 돌면서 작성을 해야하므로, where each entry takes O(1) time\n",
    "> ### notation : \n",
    ">n ; # item \n",
    ">W ; max weight for knapsack  \n",
    ">$c[i][w]$ ; i 는 item index, w 는 possible weight "
   ]
  },
  {
   "cell_type": "code",
   "execution_count": 20,
   "metadata": {},
   "outputs": [],
   "source": [
    "# notation :  n ; # item, W ; max weight for knapsack  \n",
    "# c[i][w] ; i 는 item index, w 는 possible weight \n",
    "\n",
    "# bottom up approach \n",
    "def DP_Knapsack(n,W,weight,v):\n",
    "    \n",
    "    c = np.ones([n+1,W+1]) * -1 # space for memoization \n",
    "    \n",
    "    for w in range(W+1):\n",
    "        c[0][w] = 0 \n",
    "        \n",
    "    for i in range(1,n+1):\n",
    "        #print(i)\n",
    "        for w in range(W+1):\n",
    "            #print(w)\n",
    "            #print(c)\n",
    "            if weight[i] <= w:\n",
    "                c[i][w] = max(c[i-1][w], v[i] + c[i-1][w-weight[i]])\n",
    "            else: \n",
    "                c[i][w] = c[i-1][w]\n",
    "   \n",
    "    return c[n][W]"
   ]
  },
  {
   "cell_type": "code",
   "execution_count": 21,
   "metadata": {},
   "outputs": [
    {
     "name": "stdout",
     "output_type": "stream",
     "text": [
      "solution :   220.0\n"
     ]
    }
   ],
   "source": [
    "import numpy as np\n",
    "w = np.array([-1,1,2,3])\n",
    "v = np.array([-1,60,100,120])\n",
    "W = 5 # maximum wieght for knapsack \n",
    "\n",
    "# Knapsack Problem through Dynamic programming(bottom up approach)\n",
    "sol = DP_Knapsack(w.shape[0]-1,W,w,v)\n",
    "print(\"solution :  \", sol)"
   ]
  },
  {
   "cell_type": "markdown",
   "metadata": {},
   "source": [
    " - Fractional Knapsack Problem through Greedy algorithm \n",
    " \n",
    " Greedy choice : first of all, an item with higer Unit price per weight must be selected \n",
    "\n",
    "sorting 하는데 nlgn 시간이 걸리고, greedy algorithm 하는데 n 시간 걸린다. "
   ]
  },
  {
   "cell_type": "code",
   "execution_count": 22,
   "metadata": {},
   "outputs": [],
   "source": [
    "def fractional_knapsack(value, weight, capacity):\n",
    "    \"\"\"Return maximum value of items and their fractional amounts.\n",
    " \n",
    "    (max_value, fractions) is returned where max_value is the maximum value of\n",
    "    items with total weight not more than capacity.\n",
    "    fractions is a list where fractions[i] is the fraction that should be taken\n",
    "    of item i, where 0 <= i < total number of items.\n",
    " \n",
    "    value[i] is the value of item i and weight[i] is the weight of item i\n",
    "    for 0 <= i < n where n is the number of items.\n",
    " \n",
    "    capacity is the maximum weight.\n",
    "    \"\"\"\n",
    "    # index = [0, 1, 2, ..., n - 1] for n items\n",
    "    index = list(range(len(value)))\n",
    "    # contains ratios of values to weight\n",
    "    ratio = [v/w for v, w in zip(value, weight)]\n",
    "    # index is sorted according to value-to-weight ratio in decreasing order\n",
    "    index.sort(key=lambda i: ratio[i], reverse=True)\n",
    " \n",
    "    max_value = 0\n",
    "    fractions = [0]*len(value)\n",
    "    for i in index:\n",
    "        if weight[i] <= capacity:\n",
    "            fractions[i] = 1\n",
    "            max_value += value[i]\n",
    "            capacity -= weight[i]\n",
    "        else:\n",
    "            fractions[i] = capacity/weight[i]\n",
    "            max_value += value[i]*capacity/weight[i]\n",
    "            break\n",
    " \n",
    "    return max_value, fractions"
   ]
  },
  {
   "cell_type": "code",
   "execution_count": 24,
   "metadata": {},
   "outputs": [
    {
     "name": "stdout",
     "output_type": "stream",
     "text": [
      "Enter number of items: 3\n",
      "Enter the values of the 3 item(s) in order: 60 100 120\n",
      "Enter the positive weights of the 3 item(s) in order: 10 20 30\n",
      "Enter maximum weight: 50\n",
      "The maximum value of items that can be carried: 240.0\n",
      "The fractions in which the items should be taken: [1, 1, 0.6666666666666666]\n"
     ]
    }
   ],
   "source": [
    "n = int(input('Enter number of items: '))\n",
    "value = input('Enter the values of the {} item(s) in order: '\n",
    "              .format(n)).split()\n",
    "value = [int(v) for v in value]\n",
    "weight = input('Enter the positive weights of the {} item(s) in order: '\n",
    "               .format(n)).split()\n",
    "weight = [int(w) for w in weight]\n",
    "capacity = int(input('Enter maximum weight: '))\n",
    " \n",
    "max_value, fractions = fractional_knapsack(value, weight, capacity)\n",
    "print('The maximum value of items that can be carried:', max_value)\n",
    "print('The fractions in which the items should be taken:', fractions)\n",
    "\n",
    "# 3 \n",
    "# 60 100 120 \n",
    "# 10 20 30\n",
    "# 50\n",
    "# result : 240 "
   ]
  },
  {
   "cell_type": "markdown",
   "metadata": {},
   "source": [
    "# Constructing Huffman code \n",
    "\n",
    "Huffman code 를 만들어라. 우선순위 큐(minimum heap 이용) \n",
    "\n",
    "suppose that inputs have to be sorted with freq order \n",
    "\n",
    "$$\n",
    "T(n) = O(nlgn)\n",
    "$$\n",
    "\n",
    "lgn : extracted by Q \n",
    "\n",
    "n : for loop "
   ]
  },
  {
   "cell_type": "code",
   "execution_count": 25,
   "metadata": {},
   "outputs": [],
   "source": [
    "# priority queue(minimum heap + ADT) 필요 \n",
    "\n",
    "def parent(i):\n",
    "    return (i - 1) >> 1 # 2로 나눔 \n",
    "\n",
    "\n",
    "def left(i):\n",
    "    return (i << 1) + 1  # 2 곱함 ; index 0부터 시작이므로 +1\n",
    "\n",
    "\n",
    "def right(i):\n",
    "    return (i << 1) + 2 # 2 곱하고 1더함 ; ndex 0부터 시작이므로 +1\n",
    "\n",
    "\n",
    "def min_heapify(a, i):\n",
    "    min_idx = i\n",
    "    l, r = left(i), right(i)\n",
    "    if l < len(a) and a[l] < a[min_idx]:\n",
    "        min_idx = l\n",
    "    if r < len(a) and a[r] < a[min_idx]:\n",
    "        min_idx = r\n",
    "    if min_idx != i:\n",
    "        a[i], a[min_idx] = a[min_idx], a[i] # swape a[i] with a[min_idx]\n",
    "        min_heapify(a, min_idx)\n",
    "    \n",
    "def build_min_heap(a):\n",
    "    for i in range(int(len(a)/2),-1,-1):\n",
    "        min_heapify(a, i)\n",
    "        \n",
    "########################  ADT #################################################################################\n",
    "\n",
    "def heap_minimum(a):\n",
    "    assert(len(a) > 0)\n",
    "    return a[0] # min-heap 을 따르므로 index 0 일때 가장 minimum \n",
    "\n",
    "\n",
    "def heap_extract_min(a):\n",
    "    assert(len(a) > 0) #양수인지 검사하는 오류 검사 코드 \n",
    "    val = a[0]\n",
    "    a[0] = a[-1] # a 배열의 마지막값을 맨 위로 올림 \n",
    "    del a[-1] # 바뀐 마지막 배열 제거 \n",
    "    min_heapify(a, 0) # min_heapify를 call 하여, min-heap property 유지 ; it takes O(lgn) times  \n",
    "    return val # 아까 저장한 min 값 추출 \n",
    "\n",
    "\n",
    "def heap_decrease_key(a, i, key):  # a[i] 값을 key로 낮추고 min-heap data structure를 따르도록하는 적절한 위치 찾는다 \n",
    "    assert(key <= a[i]) # key값이 a[i] 보다 낮은지 검사한다. \n",
    "    a[i] = key\n",
    "    while i > 0 and a[i] < a[parent(i)]:  # O(lgn) 만큼 소요 ; root까지 올라가며 비교해야하므로 \n",
    "        a[i], a[parent(i)] = a[parent(i)], a[i]\n",
    "        i = parent(i)\n",
    "\n",
    "\n",
    "def min_heap_insert(a, key):\n",
    "    a.append(1e100) # 매우 큰값을 sintinel value로 두고 배열에 끝에 그 값을 추가한다. \n",
    "    heap_decrease_key(a, len(a) - 1, key) # 새로 생긴 값이 적당한 위치를 찾아가게 된다 it takes O(lgn)"
   ]
  },
  {
   "cell_type": "code",
   "execution_count": 26,
   "metadata": {},
   "outputs": [],
   "source": [
    "def Huffman(C):\n",
    "    n = len(C)\n",
    "    build_min_heap(C)\n",
    "    Q = C\n",
    "    print(\"debug1 \", Q)\n",
    "    for i in range(1,n):\n",
    "        x = heap_extract_min(Q)\n",
    "        y = heap_extract_min(Q)\n",
    "        z = x + y \n",
    "        min_heap_insert(Q, z)\n",
    "        print(\"debug2 \", Q)\n",
    "    \n",
    "    print(\"debug3 \",Q)\n",
    "    \n",
    "    return heap_extract_min(Q)"
   ]
  },
  {
   "cell_type": "code",
   "execution_count": 28,
   "metadata": {},
   "outputs": [
    {
     "name": "stdout",
     "output_type": "stream",
     "text": [
      "debug1  [5, 9, 12, 16, 13, 45]\n",
      "debug2  [12, 13, 45, 16, 14]\n",
      "debug2  [14, 16, 45, 25]\n",
      "debug2  [25, 45, 30]\n",
      "debug2  [45, 55]\n",
      "debug2  [100]\n",
      "debug3  [100]\n"
     ]
    },
    {
     "data": {
      "text/plain": [
       "100"
      ]
     },
     "execution_count": 28,
     "metadata": {},
     "output_type": "execute_result"
    }
   ],
   "source": [
    "#C  = [5,9,12,13,16,45] # character 의 freq가 key를 의미\n",
    "C = [45,13,12,16,9,5]   #['a','b','c','d','e','f']\n",
    "Huffman(C)\n",
    "\n",
    "#This result can be used for assigning Huffman cordword  "
   ]
  }
 ],
 "metadata": {
  "kernelspec": {
   "display_name": "Python 3",
   "language": "python",
   "name": "python3"
  },
  "language_info": {
   "codemirror_mode": {
    "name": "ipython",
    "version": 3
   },
   "file_extension": ".py",
   "mimetype": "text/x-python",
   "name": "python",
   "nbconvert_exporter": "python",
   "pygments_lexer": "ipython3",
   "version": "3.5.2"
  }
 },
 "nbformat": 4,
 "nbformat_minor": 2
}
