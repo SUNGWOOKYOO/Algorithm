{
 "cells": [
  {
   "cell_type": "code",
   "execution_count": 7,
   "metadata": {},
   "outputs": [
    {
     "data": {
      "text/plain": [
       "'\\nCreated on July 8, 2019    \\n@author: SungWook Yoo \\n'"
      ]
     },
     "execution_count": 7,
     "metadata": {},
     "output_type": "execute_result"
    }
   ],
   "source": [
    "'''\n",
    "Created on July 8, 2019    \n",
    "@author: SungWook Yoo \n",
    "'''"
   ]
  },
  {
   "cell_type": "markdown",
   "metadata": {},
   "source": [
    "# Selection Algorithm \n",
    "in oder to simplify the problem, <font color=red>assume that array values should be **distinct**</font>."
   ]
  },
  {
   "cell_type": "code",
   "execution_count": 6,
   "metadata": {},
   "outputs": [],
   "source": [
    "import numpy as np\n",
    "# QuickSelect: pick k th smallest element.\n",
    "# assume that array values should be distinct.\n",
    "# it takses average O(n), worst O(n^2) time.\n",
    "# This is because pivot determines reculsive call deviding ratio! \n",
    "def QuickSelect(a, p, r, k):\n",
    "    if p == r:\n",
    "        return a[p]\n",
    "    else:\n",
    "        i = np.random.randint(p, r+1)\n",
    "        a[r], a[i] = a[i], a[r]\n",
    "        # randomized partition with pivot as a[r]\n",
    "        i = p - 1\n",
    "        for j in range(p, r):\n",
    "            if a[j] <= a[r]:\n",
    "                i += 1 \n",
    "                a[i], a[j] = a[j], a[i]\n",
    "        a[i+1], a[r] = a[r], a[i+1]\n",
    "        q = i+1\n",
    "        # divide and conquer for QuickSelect\n",
    "        i = q - p + 1\n",
    "        if k <= i:\n",
    "            return QuickSelect(a, p, q, k)\n",
    "        else:\n",
    "            return QuickSelect(a, q+1, r, k-i)"
   ]
  },
  {
   "cell_type": "code",
   "execution_count": 92,
   "metadata": {},
   "outputs": [
    {
     "data": {
      "text/plain": [
       "[62, 86, 44, 69, 78, 94, 48, 47, 99, 15]"
      ]
     },
     "execution_count": 92,
     "metadata": {},
     "output_type": "execute_result"
    }
   ],
   "source": [
    "import random\n",
    "a = random.sample(range(1, 100), 10)\n",
    "a "
   ]
  },
  {
   "cell_type": "code",
   "execution_count": 23,
   "metadata": {},
   "outputs": [
    {
     "data": {
      "text/plain": [
       "76"
      ]
     },
     "execution_count": 23,
     "metadata": {},
     "output_type": "execute_result"
    }
   ],
   "source": [
    "QuickSelect(a, 0, len(a) - 1, 9)"
   ]
  },
  {
   "cell_type": "markdown",
   "metadata": {},
   "source": [
    "average time complexity analysis\n",
    "$$\n",
    "T(n) = T(n/2) + O(n) = O(n)\n",
    "$$\n",
    "However, worst case time complexity is $O(n^2)$  \n",
    "This is because pivot determines dividing ratio.  \n",
    "so, in a worst case, \n",
    "$$\n",
    "T(n) = T(n-1) + O(n) = O(n^2)\n",
    "$$"
   ]
  },
  {
   "cell_type": "markdown",
   "metadata": {},
   "source": [
    "# Better Algorithm \n",
    "[PseudoCode] kthSmallest using finding Median of Median and tranformed QickSelect algorithm [link](https://www.geeksforgeeks.org/kth-smallestlargest-element-unsorted-array-set-3-worst-case-linear-time/)\n",
    "```C++\n",
    "kthSmallest(arr[0..n-1], k)\n",
    "1) Divide arr[] into ⌈n/5⌉ groups where size of each group is 5 \n",
    "   except possibly the last group which may have less than 5 elements.  \n",
    "\n",
    "2) Sort the above created ⌈n/5⌉ groups and find median \n",
    "   of all groups. Create an auxiliary array 'median[]' and store medians \n",
    "   of all ⌈n/5⌉ groups in this median array.\n",
    "\n",
    "// Recursively call this method to find median of median[0..⌈n/5⌉-1]\n",
    "3) medOfMed = kthSmallest(median[0..⌈n/5⌉-1], ⌈n/10⌉)\n",
    "\n",
    "4) Partition arr[] around medOfMed and obtain its position.\n",
    "     pos = partition(arr, n, medOfMed)\n",
    "\n",
    "5) If pos == k return medOfMed \n",
    "6) If pos > k return kthSmallest(arr[l..pos-1], k) \n",
    "7) If pos < k return kthSmallest(arr[pos+1..r], k-pos+l-1)\n",
    "```"
   ]
  },
  {
   "cell_type": "code",
   "execution_count": 99,
   "metadata": {},
   "outputs": [],
   "source": [
    "\"\"\" helper functions \"\"\"\n",
    "# assume that r-p+1 <= 5\n",
    "def findMedian(a, p, r):\n",
    "    L = []\n",
    "    for i in range(p, r+1):\n",
    "        L.append(a[i])\n",
    "    L.sort()\n",
    "    return L[(r-p+1)//2]\n",
    "\n",
    "def partition(a, p, r, x):\n",
    "    \n",
    "    # we should find out medOfmed's index i value in the a[p..r]\n",
    "    # swap a[i], a[r] in order to make a[r] as a pivot \n",
    "    for i in range(p, r+1): \n",
    "        if a[i] == x: \n",
    "            a[i], a[r] = a[r], a[i]\n",
    "            break\n",
    "    \n",
    "    i = p - 1\n",
    "    for j in range(p, r):\n",
    "        if a[j] <= a[r]:\n",
    "            i += 1 \n",
    "            a[i], a[j] = a[j], a[i]\n",
    "    a[i+1], a[r] = a[r], a[i+1]\n",
    "    return i+1"
   ]
  },
  {
   "cell_type": "code",
   "execution_count": 100,
   "metadata": {},
   "outputs": [],
   "source": [
    "def KthSmallest(a, p, r, k):\n",
    "    # divide A into floor(n/5) groups\n",
    "    # create median array with size floor(n/5)\n",
    "    n = r - p + 1\n",
    "    median = []\n",
    "    i = 0\n",
    "    while i < n//5:\n",
    "        # 5 element can be assigned for each group\n",
    "        median.append(findMedian(a, p+5*i, p+5*i+4))\n",
    "        i += 1\n",
    "    # if last group has n%5 (remainder) elements\n",
    "    if i*5 < n:\n",
    "        median.append(findMedian(a, p+5*i, p+5*i+(n%5-1)))\n",
    "        i += 1\n",
    "    # so, at this time i value means floor(5/n)\n",
    "    if i == 1:\n",
    "        # if median has only one elements, the medOfmed should be median[0]\n",
    "        medOfmed = median[i-1]\n",
    "    else:\n",
    "        # reculsively medOfmed can be found. \n",
    "        # Because median array is generated each recursion, i value should be shrunk more and more \n",
    "        medOfmed = KthSmallest(median, 0, i-1, i//2)\n",
    "    \n",
    "    # at this bottom line, medOfmed can be determined \n",
    "    # if we use the pivot as medofmed value, the number of sorted elements can be 3(floor(n/5)/2 - 2)\n",
    "    q = partition(a, p, r, medOfmed)\n",
    "    # i value means medOfmed's rank in a[...] array \n",
    "    i = q - p + 1 \n",
    "    if i == k:\n",
    "        # if partitioned pivot is the kth Smallest element\n",
    "        return a[q]\n",
    "    elif i > k:\n",
    "        return KthSmallest(a, p, q-1, k)\n",
    "    else:\n",
    "        return KthSmallest(a, q+1, r, k-i)"
   ]
  },
  {
   "cell_type": "code",
   "execution_count": 116,
   "metadata": {},
   "outputs": [
    {
     "name": "stdout",
     "output_type": "stream",
     "text": [
      "1. worst case O(n^2), average O(n) select algorithm's output:  128\n",
      "CPU times: user 125 ms, sys: 0 ns, total: 125 ms\n",
      "Wall time: 126 ms\n",
      "2. worst case O(n) select algorithm's output:  128\n",
      "CPU times: user 312 ms, sys: 0 ns, total: 312 ms\n",
      "Wall time: 326 ms\n"
     ]
    }
   ],
   "source": [
    "a = random.sample(range(1, 10000000), 100000)\n",
    "# print(a)\n",
    "n = len(a)  \n",
    "k = 3\n",
    "%time print(\"1. worst case O(n^2), average O(n) select algorithm's output: \", QuickSelect(a, 0, n - 1, k))\n",
    "%time print(\"2. worst case O(n) select algorithm's output: \", KthSmallest(a, 0, n - 1, k))"
   ]
  },
  {
   "cell_type": "markdown",
   "metadata": {},
   "source": [
    "$T(n/5)$ means reculsive call when finding medOfmed value  \n",
    "when we use medOfmed as a pivot, after partitioning,  \n",
    "assure that at least $3((n/5)/2 - 2)$ elements must be less or larger than medOfmed.  \n",
    "(where, -2 term means except for medOfmed group and last group.)  \n",
    "so, next reculsive call for KthSmallest selcect array size is $n - 3((n/5)/2 - 2) = 7n/10 + 6$ \n",
    "$$\n",
    "\\begin{aligned}\n",
    "T(n) &= T(n/5) + T(n - 3((n/5)/2 - 2)) + O(n)  \\\\\n",
    "    &= T(n/5) + T(7n/10 + 6) + O(n) \\\\\n",
    "    &= O(n)\n",
    "\\end{aligned}\n",
    "$$"
   ]
  },
  {
   "cell_type": "markdown",
   "metadata": {},
   "source": [
    "# Better Quick Sort Algorithm \n",
    "If we find out medOfmed in $O(n)$ time, and the medOfme as a pivot.  \n",
    "at worst case, Quick Sort time complexity $O(nlogn)$"
   ]
  },
  {
   "cell_type": "code",
   "execution_count": 118,
   "metadata": {},
   "outputs": [],
   "source": [
    "def QuickSort(a, p, r):\n",
    "    if p >= r:\n",
    "        return \n",
    "    med = KthSmallest(a, p, r, (r-p+1)//2)\n",
    "    q = partition(a, p, r, med)\n",
    "    \n",
    "    QuickSort(a, p, q-1)\n",
    "    QuickSort(a, q+1, r)"
   ]
  },
  {
   "cell_type": "code",
   "execution_count": 119,
   "metadata": {},
   "outputs": [],
   "source": [
    "QuickSort(a, 0, n-1)"
   ]
  },
  {
   "cell_type": "code",
   "execution_count": 122,
   "metadata": {},
   "outputs": [
    {
     "data": {
      "text/plain": [
       "128"
      ]
     },
     "execution_count": 122,
     "metadata": {},
     "output_type": "execute_result"
    }
   ],
   "source": [
    "# this value should be consist with above values: QuickSelect(a, 0, n - 1, k), KthSmallest(a, 0, n - 1, k)\n",
    "a[k-1]"
   ]
  }
 ],
 "metadata": {
  "kernelspec": {
   "display_name": "Python 3",
   "language": "python",
   "name": "python3"
  },
  "language_info": {
   "codemirror_mode": {
    "name": "ipython",
    "version": 3
   },
   "file_extension": ".py",
   "mimetype": "text/x-python",
   "name": "python",
   "nbconvert_exporter": "python",
   "pygments_lexer": "ipython3",
   "version": "3.7.3"
  }
 },
 "nbformat": 4,
 "nbformat_minor": 4
}
