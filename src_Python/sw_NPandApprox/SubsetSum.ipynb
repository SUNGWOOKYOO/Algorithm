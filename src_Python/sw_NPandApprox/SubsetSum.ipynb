{
 "cells": [
  {
   "cell_type": "markdown",
   "metadata": {},
   "source": [
    "# subset-sum problem \n",
    "\n",
    "\n",
    "## Objective \n",
    "\n",
    "running time  : O(n×|L|)\n",
    "\n",
    "### 1. exponential time approximate algorithm \n",
    "\n",
    "       - |L| = O(2^n)\n",
    "\n",
    "### 2. we want to implement fully polynomial time algorithm \n",
    "\n",
    "       - |L| = O((1/ε)×n×ln(t)) using trimming \n"
   ]
  },
  {
   "cell_type": "code",
   "execution_count": 2,
   "metadata": {},
   "outputs": [],
   "source": [
    "# 1. exponential time approximate algorithm \n",
    "import numpy as np\n",
    "\n",
    "def merge_lists(L1,L2):\n",
    "    merged_L = list(set(L1 + L2))\n",
    "    merged_L.sort()\n",
    "    return merged_L\n",
    "\n",
    "def exact_subset_sum(S,t):\n",
    "    n = len(S)\n",
    "    S = list(S)\n",
    "    S.sort()\n",
    "    L = [[]]\n",
    "    L[0] = [0]  # empty set \n",
    "    temp = []\n",
    "    for i in range(1,n+1):\n",
    "        print(L[i-1],\" 과 \", S[i-1], \"을 merge하여 L[\",i,\"] 을 만듬\" )     # subset이 만들 수 있는 합의 조합들 나열 \n",
    "        temp = merge_lists(L[i-1],list(map(lambda x: x + S[i-1], L[i-1])))\n",
    "        L.append(temp)\n",
    "        #print(L[i],\">> \",i,\"번째 L : 삭제 전 \")\n",
    "        for k in range(len(L[i])- 1,-1,-1):\n",
    "            #print(\"element: \",element,\" test!! \")\n",
    "            if L[i][k] > t:\n",
    "                #print(i,\" 번째 L 에서 element 삭제!!!! \")\n",
    "                L[i].remove(L[i][k])\n",
    "        #print(L[i],\">> \",i,\"번째 L : 삭제 후\")        \n",
    "    #print(L)   \n",
    "    #print(L[n])\n",
    "    return max(L[n])    # S의 subset의 element의 합이 만들수 있는 t와 가장 가까운값 (optimal sol y*) "
   ]
  },
  {
   "cell_type": "code",
   "execution_count": 4,
   "metadata": {},
   "outputs": [
    {
     "name": "stdout",
     "output_type": "stream",
     "text": [
      "[0]  과  101 을 merge하여 L[ 1 ] 을 만듬\n",
      "[0, 101]  과  102 을 merge하여 L[ 2 ] 을 만듬\n",
      "[0, 101, 102, 203]  과  104 을 merge하여 L[ 3 ] 을 만듬\n",
      "[0, 101, 102, 104, 203, 205, 206, 307]  과  201 을 merge하여 L[ 4 ] 을 만듬\n"
     ]
    },
    {
     "data": {
      "text/plain": [
       "307"
      ]
     },
     "execution_count": 4,
     "metadata": {},
     "output_type": "execute_result"
    }
   ],
   "source": [
    "S = set([104,102,201,101])\n",
    "#S = set([1,4,5])\n",
    "#t = 11\n",
    "t = 308\n",
    "exact_subset_sum(S,t)"
   ]
  },
  {
   "cell_type": "code",
   "execution_count": 5,
   "metadata": {},
   "outputs": [],
   "source": [
    "# 2. fully polynomial time (1 + epsilon ) approximate algorithm \n",
    "\n",
    "def trim(L,delta):\n",
    "    m = len(L)\n",
    "    Lp = [L[0]]\n",
    "    last = L[0]\n",
    "    for i in range(1,m): \n",
    "        if L[i] > last*(1 + delta):\n",
    "            Lp.append(L[i])\n",
    "            last = L[i]\n",
    "    print(Lp,\" trim 후\")\n",
    "    return Lp\n",
    "\n",
    "def approx_subset_sum(S,t,epsilon):\n",
    "    \n",
    "    n = len(S)    \n",
    "    L = [[]]\n",
    "    L[0] = [0]  # empty set\n",
    "    \n",
    "    temp = []\n",
    "    for i in range(1,n+1):\n",
    "        print(L[i-1],\" 과 \", S[i-1], \"을 merge하여 L[\",i,\"] 을 만듬\" )     # subset이 만들 수 있는 합의 조합들 나열 \n",
    "        temp = merge_lists(L[i-1],list(map(lambda x: x + S[i-1], L[i-1])))\n",
    "        print(temp,\" >>> merge 결과  \")\n",
    "        temp = trim(temp, epsilon/(2*n))\n",
    "        L.append(temp)\n",
    "        #print(L[i],\" >>> L[\",i,\"]  trim후 \")\n",
    "        \n",
    "        # remove form L[i] every element that is greater than t \n",
    "        print(L[i],\">> \",i,\"번째 L : 삭제 전 \")\n",
    "        for k in range(len(L[i])- 1,-1,-1):\n",
    "            #print(\"element: \",element,\" test!! \")\n",
    "            if L[i][k] > t:\n",
    "                #print(i,\" 번째 L 에서 element 삭제!!!! \")\n",
    "                L[i].remove(L[i][k])\n",
    "        print(L[i],\">> \",i,\"번째 L : 삭제 후\")     \n",
    "    return max(L[n])                            # trimed 된 approximate solution z*"
   ]
  },
  {
   "cell_type": "code",
   "execution_count": 6,
   "metadata": {},
   "outputs": [
    {
     "name": "stdout",
     "output_type": "stream",
     "text": [
      "[0]  과  104 을 merge하여 L[ 1 ] 을 만듬\n",
      "[0, 104]  >>> merge 결과  \n",
      "[0, 104]  trim 후\n",
      "[0, 104] >>  1 번째 L : 삭제 전 \n",
      "[0, 104] >>  1 번째 L : 삭제 후\n",
      "[0, 104]  과  102 을 merge하여 L[ 2 ] 을 만듬\n",
      "[0, 102, 104, 206]  >>> merge 결과  \n",
      "[0, 102, 206]  trim 후\n",
      "[0, 102, 206] >>  2 번째 L : 삭제 전 \n",
      "[0, 102, 206] >>  2 번째 L : 삭제 후\n",
      "[0, 102, 206]  과  201 을 merge하여 L[ 3 ] 을 만듬\n",
      "[0, 102, 201, 206, 303, 407]  >>> merge 결과  \n",
      "[0, 102, 201, 303, 407]  trim 후\n",
      "[0, 102, 201, 303, 407] >>  3 번째 L : 삭제 전 \n",
      "[0, 102, 201, 303] >>  3 번째 L : 삭제 후\n",
      "[0, 102, 201, 303]  과  101 을 merge하여 L[ 4 ] 을 만듬\n",
      "[0, 101, 102, 201, 203, 302, 303, 404]  >>> merge 결과  \n",
      "[0, 101, 201, 302, 404]  trim 후\n",
      "[0, 101, 201, 302, 404] >>  4 번째 L : 삭제 전 \n",
      "[0, 101, 201, 302] >>  4 번째 L : 삭제 후\n"
     ]
    },
    {
     "data": {
      "text/plain": [
       "302"
      ]
     },
     "execution_count": 6,
     "metadata": {},
     "output_type": "execute_result"
    }
   ],
   "source": [
    "S = [104,102,201,101]\n",
    "t = 308\n",
    "approx_subset_sum(S,t,0.4) "
   ]
  }
 ],
 "metadata": {
  "kernelspec": {
   "display_name": "Python 3",
   "language": "python",
   "name": "python3"
  },
  "language_info": {
   "codemirror_mode": {
    "name": "ipython",
    "version": 3
   },
   "file_extension": ".py",
   "mimetype": "text/x-python",
   "name": "python",
   "nbconvert_exporter": "python",
   "pygments_lexer": "ipython3",
   "version": "3.5.2"
  }
 },
 "nbformat": 4,
 "nbformat_minor": 2
}
