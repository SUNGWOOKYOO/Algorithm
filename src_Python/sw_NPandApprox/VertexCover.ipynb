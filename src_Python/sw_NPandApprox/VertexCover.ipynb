{
 "cells": [
  {
   "cell_type": "markdown",
   "metadata": {},
   "source": [
    "# approximation vertex-cover problem \n",
    " \n",
    " 2 approximate algorithm \n",
    " \n",
    " optimal 한 case는 \n",
    " vertex 가 3개가 선택되는 것이다. \n",
    " \n",
    " 2 approximate algorithm 이므로 어떻게 random한 선택을 하느냐에 따라 \n",
    " 3개에서 ~ 최대 6개 까지의 출력을 낼 수 있다, "
   ]
  },
  {
   "cell_type": "code",
   "execution_count": 1,
   "metadata": {},
   "outputs": [],
   "source": [
    "%pwd\n",
    "import WeightGraph\n",
    "%run WeightGraph.py"
   ]
  },
  {
   "cell_type": "code",
   "execution_count": 2,
   "metadata": {},
   "outputs": [],
   "source": [
    "import random \n",
    "\n",
    "def approx_vertex_cover(G):\n",
    "    C = set([])           # set\n",
    "    Ep = G.sort_edge()    # list\n",
    "    print(Ep,\"  Ep list before starting while loop\")\n",
    "    \n",
    "    k = 0\n",
    "    \n",
    "    # O(E) // because all edges can be searched through this while loop \n",
    "    while Ep != []: \n",
    "        [u,v] = Ep.pop(random.randint(0, len(Ep)-1))\n",
    "        Ep.remove([v,u])\n",
    "        print(\"(\",u ,\",\",v ,\") selected and removed \")\n",
    "        print(\"(\",v ,\",\",u ,\") selected and removed \")\n",
    "        C.add(u)\n",
    "        C.add(v)        \n",
    "        \n",
    "        # remove from Ep every edge incident on either u or v  \n",
    "        for [U,V] in Ep:             \n",
    "            print(\"searching \",U,V,\" edge related to edge: \",u,v)\n",
    "            if U == u or U == v or V == u or V == v:\n",
    "                if [U, V] in Ep:\n",
    "                    Ep.remove([U,V])\n",
    "                    print(\"(\",U ,\",\",V ,\") removed\")\n",
    "                if [V, U] in Ep:\n",
    "                    Ep.remove([V,U])\n",
    "                    print(\"(\",V ,\",\",U ,\") removed\")\n",
    "            ## 오류 정정        \n",
    "            elif [U,u] in Ep or [U,v] in Ep \\\n",
    "                    or [u,U] in Ep or [v,U] in Ep \\\n",
    "                    or [V,u] in Ep or [V,v] in Ep \\\n",
    "                    or [u,V] in Ep or [v,V] in Ep: \n",
    "                #print(\"debug ###################\")\n",
    "                continue \n",
    "\n",
    "        print(\">>  \",C ,\"in C set \")\n",
    "        print(\">>>  \", Ep ,\"in Ep list \")\n",
    "    return C "
   ]
  },
  {
   "cell_type": "code",
   "execution_count": 3,
   "metadata": {},
   "outputs": [],
   "source": [
    "vertices = ['a','b','c','d','e','f','g']\n",
    "edges = [{'b'},{'a','c'},{'b','d','e'},{'c','e','f','g'},{'c','d','f'},{'e','d'},{'d'}]\n",
    "weights = [{'b':0 },{'a':0 ,'c':0 },{'b':0 ,'d':0 ,'e':0 },{'c':0 ,'e':0 ,'f':0 ,'g': 0},{'c':0 ,'d':0 ,'f':0 },{'e':0 ,'d':0 },{'d':0 }]\n",
    "g = {}\n",
    "w = {}\n",
    "k = 0\n",
    "for v in (vertices):\n",
    "    g[v] = edges[k]\n",
    "    w[v] = weights[k]  \n",
    "    k = k + 1\n",
    "G = Graph(g,w)"
   ]
  },
  {
   "cell_type": "code",
   "execution_count": 4,
   "metadata": {},
   "outputs": [
    {
     "name": "stdout",
     "output_type": "stream",
     "text": [
      "[['g', 'd'], ['f', 'e'], ['f', 'd'], ['d', 'e'], ['d', 'f'], ['d', 'c'], ['d', 'g'], ['e', 'f'], ['e', 'c'], ['e', 'd'], ['a', 'b'], ['b', 'a'], ['b', 'c'], ['c', 'e'], ['c', 'b'], ['c', 'd']]   Ep list before starting while loop\n",
      "( f , e ) selected and removed \n",
      "( e , f ) selected and removed \n",
      "searching  g d  edge related to edge:  f e\n",
      "searching  f d  edge related to edge:  f e\n",
      "( f , d ) removed\n",
      "( d , f ) removed\n",
      "searching  d c  edge related to edge:  f e\n",
      "searching  d g  edge related to edge:  f e\n",
      "searching  e c  edge related to edge:  f e\n",
      "( e , c ) removed\n",
      "( c , e ) removed\n",
      "searching  a b  edge related to edge:  f e\n",
      "searching  b a  edge related to edge:  f e\n",
      "searching  b c  edge related to edge:  f e\n",
      "searching  c b  edge related to edge:  f e\n",
      "searching  c d  edge related to edge:  f e\n",
      ">>   {'e', 'f'} in C set \n",
      ">>>   [['g', 'd'], ['d', 'e'], ['d', 'c'], ['d', 'g'], ['e', 'd'], ['a', 'b'], ['b', 'a'], ['b', 'c'], ['c', 'b'], ['c', 'd']] in Ep list \n",
      "( d , g ) selected and removed \n",
      "( g , d ) selected and removed \n",
      "searching  d e  edge related to edge:  d g\n",
      "( d , e ) removed\n",
      "( e , d ) removed\n",
      "searching  a b  edge related to edge:  d g\n",
      "searching  b a  edge related to edge:  d g\n",
      "searching  b c  edge related to edge:  d g\n",
      "searching  c b  edge related to edge:  d g\n",
      "searching  c d  edge related to edge:  d g\n",
      "( c , d ) removed\n",
      "( d , c ) removed\n",
      ">>   {'e', 'g', 'f', 'd'} in C set \n",
      ">>>   [['a', 'b'], ['b', 'a'], ['b', 'c'], ['c', 'b']] in Ep list \n",
      "( b , a ) selected and removed \n",
      "( a , b ) selected and removed \n",
      "searching  b c  edge related to edge:  b a\n",
      "( b , c ) removed\n",
      "( c , b ) removed\n",
      ">>   {'f', 'e', 'g', 'a', 'b', 'd'} in C set \n",
      ">>>   [] in Ep list \n"
     ]
    },
    {
     "data": {
      "text/plain": [
       "{'a', 'b', 'd', 'e', 'f', 'g'}"
      ]
     },
     "execution_count": 4,
     "metadata": {},
     "output_type": "execute_result"
    }
   ],
   "source": [
    "approx_vertex_cover(G) "
   ]
  }
 ],
 "metadata": {
  "kernelspec": {
   "display_name": "Python 3",
   "language": "python",
   "name": "python3"
  },
  "language_info": {
   "codemirror_mode": {
    "name": "ipython",
    "version": 3
   },
   "file_extension": ".py",
   "mimetype": "text/x-python",
   "name": "python",
   "nbconvert_exporter": "python",
   "pygments_lexer": "ipython3",
   "version": "3.5.2"
  }
 },
 "nbformat": 4,
 "nbformat_minor": 2
}
