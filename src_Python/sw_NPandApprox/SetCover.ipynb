{
 "cells": [
  {
   "cell_type": "markdown",
   "metadata": {},
   "source": [
    "# set-covering problem \n",
    "\n",
    "### greedy approximation algorithm \n",
    "\n",
    "ln(|X|+ 1) approximation algorithm "
   ]
  },
  {
   "cell_type": "code",
   "execution_count": 1,
   "metadata": {},
   "outputs": [],
   "source": [
    "import numpy as np\n",
    "\n",
    "def greedy_set_cover(X,F):\n",
    "    U = X.copy()\n",
    "    C = set([])\n",
    "    \n",
    "    # total running time :  O(|X||F|min(|X|,|F|))  \n",
    "    while U != set([]):                               # O(min(|X|,|F|))\n",
    "        # select an S ∈ F that maximizes |S∩U|\n",
    "        temp = []\n",
    "        for Si in F:\n",
    "            temp.append(len(Si.intersection(U)))       # O(|X||F|) \n",
    "        mn = np.argmax(temp)\n",
    "        print(\"max number: \",mn)\n",
    "        S = F[mn]\n",
    "        print(\"greedily selected set S : \",S)\n",
    "        U = U - F[mn]\n",
    "        print(\"set U : \",U)\n",
    "        C.add('S'+str(mn))\n",
    "        print(\"set C : \",C)\n",
    "    return C"
   ]
  },
  {
   "cell_type": "code",
   "execution_count": 2,
   "metadata": {},
   "outputs": [],
   "source": [
    "X = set(['e0','e1','e2','e3','e4','e5','e6','e7','e8','e9','e10','e11'])\n",
    "S0 = set(['e0','e1','e2','e3','e4','e5'])\n",
    "S1 = set(['e4','e5','e7','e8'])\n",
    "S2 = set(['e0','e3','e6','e9'])\n",
    "S3 = set(['e1','e4','e6','e7','e10'])\n",
    "S4 = set(['e2','e5','e8','e11'])\n",
    "S5 = set(['e9','e10'])\n",
    "#Fn = set(['S0','S1','S2','S3','S4','S5'])\n",
    "F = [S0,S1,S2,S3,S4,S5]"
   ]
  },
  {
   "cell_type": "code",
   "execution_count": 3,
   "metadata": {},
   "outputs": [
    {
     "name": "stdout",
     "output_type": "stream",
     "text": [
      "max number:  0\n",
      "greedily selected set S :  {'e0', 'e2', 'e4', 'e1', 'e3', 'e5'}\n",
      "set U :  {'e9', 'e6', 'e10', 'e11', 'e7', 'e8'}\n",
      "set C :  {'S0'}\n",
      "max number:  3\n",
      "greedily selected set S :  {'e1', 'e6', 'e10', 'e7', 'e4'}\n",
      "set U :  {'e9', 'e11', 'e8'}\n",
      "set C :  {'S3', 'S0'}\n",
      "max number:  4\n",
      "greedily selected set S :  {'e2', 'e11', 'e5', 'e8'}\n",
      "set U :  {'e9'}\n",
      "set C :  {'S4', 'S3', 'S0'}\n",
      "max number:  2\n",
      "greedily selected set S :  {'e3', 'e0', 'e9', 'e6'}\n",
      "set U :  set()\n",
      "set C :  {'S4', 'S3', 'S2', 'S0'}\n"
     ]
    },
    {
     "data": {
      "text/plain": [
       "{'S0', 'S2', 'S3', 'S4'}"
      ]
     },
     "execution_count": 3,
     "metadata": {},
     "output_type": "execute_result"
    }
   ],
   "source": [
    "greedy_set_cover(X,F)"
   ]
  }
 ],
 "metadata": {
  "kernelspec": {
   "display_name": "Python 3",
   "language": "python",
   "name": "python3"
  },
  "language_info": {
   "codemirror_mode": {
    "name": "ipython",
    "version": 3
   },
   "file_extension": ".py",
   "mimetype": "text/x-python",
   "name": "python",
   "nbconvert_exporter": "python",
   "pygments_lexer": "ipython3",
   "version": "3.5.2"
  }
 },
 "nbformat": 4,
 "nbformat_minor": 2
}
