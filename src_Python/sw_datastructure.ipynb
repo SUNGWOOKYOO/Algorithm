{
 "cells": [
  {
   "cell_type": "markdown",
   "metadata": {},
   "source": [
    "# Data structure Implementation \n"
   ]
  },
  {
   "cell_type": "markdown",
   "metadata": {},
   "source": [
    "# Stack \n",
    "\n",
    "### LIFO "
   ]
  },
  {
   "cell_type": "code",
   "execution_count": 1,
   "metadata": {},
   "outputs": [],
   "source": [
    "# An array based implementation of a Stack.\n",
    "\n",
    "class Stack:\n",
    "    def __init__(self, size=0):\n",
    "        self.size = size\n",
    "        self.arr = []\n",
    "\n",
    "    def push(self, item):\n",
    "        \"\"\"Push an item.\"\"\"\n",
    "        if self.is_full():\n",
    "            print(\"Stack is full.\")\n",
    "        else:\n",
    "            self.arr.append(item)\n",
    "\n",
    "    def pop(self):\n",
    "        \"\"\"Pop an item.\"\"\"\n",
    "        if self.is_empty():\n",
    "            print(\"Stack is already empty.\")\n",
    "        else:\n",
    "            self.arr.pop()\n",
    "\n",
    "    def peek(self):\n",
    "        \"\"\"Fetch the top item.\"\"\"\n",
    "        if self.is_empty():\n",
    "            print(\"Stack is empty.\")\n",
    "        else:\n",
    "            return self.arr[len(self.arr)-1]\n",
    "\n",
    "    def length(self):\n",
    "        \"\"\"Number of items in the stack.\"\"\"\n",
    "        return len(self.arr)\n",
    "\n",
    "    # check if the stack is empty\n",
    "    def is_empty(self):\n",
    "        return len(self.arr) == 0\n",
    "    \n",
    "    # check if the stack is full\n",
    "    def is_full(self):\n",
    "        return len(self.arr) == self.size"
   ]
  },
  {
   "cell_type": "code",
   "execution_count": 2,
   "metadata": {},
   "outputs": [
    {
     "name": "stdout",
     "output_type": "stream",
     "text": [
      "[]\n",
      "[(3, 'a')]\n",
      "[(3, 'a'), (5, 'c')]\n",
      "[(3, 'a'), (5, 'c'), (27, 'k')]\n",
      "Stack is full.\n",
      "[(3, 'a'), (5, 'c')]\n"
     ]
    },
    {
     "data": {
      "text/plain": [
       "False"
      ]
     },
     "execution_count": 2,
     "metadata": {},
     "output_type": "execute_result"
    }
   ],
   "source": [
    "# size를 지정해주고, 그 size만큼만 arr에 저장 할 수 있다. \n",
    "st = Stack(3)   \n",
    "print(st.arr)\n",
    "st.push((3,'a'))\n",
    "print(st.arr)\n",
    "st.push((5,'c'))\n",
    "print(st.arr)\n",
    "st.push((27,'k'))\n",
    "print(st.arr)\n",
    "st.push((31,'p'))\n",
    "\n",
    "# LIFO\n",
    "st.pop()\n",
    "print(st.arr)\n",
    "st.is_full()\n"
   ]
  },
  {
   "cell_type": "markdown",
   "metadata": {},
   "source": [
    "# Queue\n",
    "\n",
    "### FIFO\n"
   ]
  },
  {
   "cell_type": "code",
   "execution_count": 3,
   "metadata": {},
   "outputs": [],
   "source": [
    "class Queue:\n",
    "    def __init__(self, max_size=0):\n",
    "        self.size = max_size\n",
    "        self.arr = []\n",
    "\n",
    "    def enqueue(self, item):\n",
    "        '''Enqueue an element.'''\n",
    "        if self.is_full():\n",
    "            print(\"Queue is full.\")\n",
    "        else:\n",
    "            self.arr.append(item)\n",
    "\n",
    "    def dequeue(self):\n",
    "        '''Pop an item.'''\n",
    "        if self.is_empty():\n",
    "            print(\"Queue is empty.\")\n",
    "        else:\n",
    "            self.arr.pop(0)\n",
    "\n",
    "    def is_empty(self):\n",
    "        '''Return if the Queue is empty or not.'''\n",
    "        return len(self.arr) == 0\n",
    "\n",
    "    def is_full(self):\n",
    "        '''Return if the Queue is full or not.'''\n",
    "        return len(self.arr) == self.size\n",
    "\n",
    "    def head(self):\n",
    "        '''Return the front item.'''\n",
    "        if self.is_empty():\n",
    "            print(\"Queue is empty.\")\n",
    "        else:\n",
    "            print(self.arr[0])\n",
    "\n",
    "    def tail(self):\n",
    "        '''Return the rear item.'''\n",
    "        if self.is_empty():\n",
    "            print(\"Queue is empty.\")\n",
    "        else:\n",
    "            print(self.arr[len(self.arr)-1])\n",
    "            \n",
    "    def length(self):\n",
    "        \"\"\"Return the number of items in the queue.\"\"\"\n",
    "        return len(self.arr)\n"
   ]
  },
  {
   "cell_type": "code",
   "execution_count": 4,
   "metadata": {},
   "outputs": [
    {
     "name": "stdout",
     "output_type": "stream",
     "text": [
      "[]\n",
      "[(3, 'a')]\n",
      "[(3, 'a'), (5, 'c')]\n",
      "[(3, 'a'), (5, 'c'), (27, 'k')]\n",
      "Queue is full.\n",
      "[(5, 'c'), (27, 'k')]\n"
     ]
    },
    {
     "data": {
      "text/plain": [
       "False"
      ]
     },
     "execution_count": 4,
     "metadata": {},
     "output_type": "execute_result"
    }
   ],
   "source": [
    "q = Queue(3)\n",
    "print(q.arr)\n",
    "q.enqueue((3,'a'))\n",
    "print(q.arr)\n",
    "q.enqueue((5,'c'))\n",
    "print(q.arr)\n",
    "q.enqueue((27,'k'))\n",
    "print(q.arr)\n",
    "q.enqueue((31,'p'))\n",
    "\n",
    "# FIFO\n",
    "q.dequeue()\n",
    "print(q.arr)\n",
    "\n",
    "st.is_full()\n"
   ]
  },
  {
   "cell_type": "markdown",
   "metadata": {},
   "source": [
    "# Linked List \n",
    "\n",
    "### doubly linked list 구현 "
   ]
  },
  {
   "cell_type": "code",
   "execution_count": 5,
   "metadata": {},
   "outputs": [],
   "source": [
    "class LinkListNode:\n",
    "    def __init__(self, key, value):\n",
    "        self.key = key\n",
    "        self.value = value\n",
    "        self.next = None\n",
    "        self.prev = None\n",
    "\n",
    "# circular, doubly linked list with a sentinel 구현 \n",
    "class DLinkList:\n",
    "    def __init__(self): # sentinel만을 갖고 있는 node\n",
    "        # dummy node이름이 nil \n",
    "        self.nil = LinkListNode(None, None)\n",
    "        self.nil.next = self.nil\n",
    "        self.nil.prev = self.nil\n",
    "\n",
    "    def insert(self, key, value):\n",
    "        x = LinkListNode(key, value) # 새로운 노드 생성 \n",
    "        x.next = self.nil.next\n",
    "        self.nil.next.prev = x\n",
    "        self.nil.next = x\n",
    "        x.prev = self.nil\n",
    "        \n",
    "\n",
    "    def delete(self, key):\n",
    "        x = self.search(key)\n",
    "        x.prev.next = x.next\n",
    "        x.next.prev = x.prev     # splicing process\n",
    "\n",
    "    # Linear Search Θ(n)\n",
    "    def search(self, key):\n",
    "        x = self.nil.next\n",
    "        while x != self.nil and x.key != key:\n",
    "            x = x.next\n",
    "        if x == self.nil:\n",
    "            return None\n",
    "        return x\n",
    "    \n",
    "    def showlist(self,iteration):\n",
    "        x = self.nil\n",
    "        for i in range(0,iteration):\n",
    "            print(x.key, x.value)\n",
    "            x = x.next"
   ]
  },
  {
   "cell_type": "code",
   "execution_count": 6,
   "metadata": {},
   "outputs": [
    {
     "name": "stdout",
     "output_type": "stream",
     "text": [
      "Debug1 \n",
      "4 a // 5 c\n",
      "5 c // 4 a\n",
      "None None // None None\n",
      "4 a // 5 c\n",
      "5 c\n"
     ]
    }
   ],
   "source": [
    "L = DLinkList()\n",
    "L.insert(5,'c')\n",
    "L.insert(4,'a')\n",
    "print(\"Debug1 \")\n",
    "print(L.nil.next.key, L.nil.next.value ,\"//\", L.nil.prev.key, L.nil.prev.value)\n",
    "print(L.nil.next.next.key, L.nil.next.next.value ,\"//\", L.nil.prev.prev.key, L.nil.prev.prev.value)\n",
    "print(L.nil.next.next.next.key, L.nil.next.next.next.value ,\"//\", L.nil.prev.prev.prev.key, L.nil.prev.prev.prev.value)\n",
    "print(L.nil.next.next.next.next.key, L.nil.next.next.next.next.value ,\"//\", L.nil.prev.prev.prev.prev.key, L.nil.prev.prev.prev.prev.value)\n",
    "print(L.nil.next.next.next.next.next.key, L.nil.next.next.next.next.next.value)"
   ]
  },
  {
   "cell_type": "code",
   "execution_count": 7,
   "metadata": {},
   "outputs": [
    {
     "name": "stdout",
     "output_type": "stream",
     "text": [
      "<__main__.LinkListNode object at 0x7f1bec593518>\n",
      "<__main__.LinkListNode object at 0x7f1bec5936a0>\n",
      "<__main__.LinkListNode object at 0x7f1bec593668>\n",
      "<__main__.LinkListNode object at 0x7f1bec593048>\n",
      "<__main__.LinkListNode object at 0x7f1bec5935f8>\n",
      "<__main__.LinkListNode object at 0x7f1bec593630>\n",
      "<__main__.LinkListNode object at 0x7f1bec5935c0>\n",
      "<__main__.LinkListNode object at 0x7f1bec5934a8>\n",
      "<__main__.LinkListNode object at 0x7f1bec593518>\n",
      "<__main__.LinkListNode object at 0x7f1bec5936a0>\n",
      "debug \n",
      "None None\n",
      "27 n\n",
      "27 m\n",
      "9 l\n",
      "25 m\n",
      "11 p\n",
      "13 k\n",
      "5 c\n",
      "None None\n",
      "27 n\n",
      "27 m\n",
      "9 l\n",
      "25 m\n",
      "11 p\n",
      "13 k\n"
     ]
    }
   ],
   "source": [
    "L = DLinkList()\n",
    "L.insert(5,'c')\n",
    "L.insert(4,'a')\n",
    "L.insert(13,'k')\n",
    "L.delete(4)     # key = 4 인것을 찾아 지움 \n",
    "L.insert(11,'p')\n",
    "L.insert(25,'m')\n",
    "L.insert(9,'l')\n",
    "L.insert(27,'m')\n",
    "L.insert(27,'n')  # key = 27 인 노드의 value m -> n으로 변경 \n",
    "# dummy node(nil)(27,'n') ->(27,'m') -> (9,'l') -> (25,'m') -> (11,'p') ->(13,'k') ->((4,'a') deleted)-> (5,'c')  \n",
    "\n",
    "print(L.nil)\n",
    "print(L.nil.next)\n",
    "print(L.nil.next.next)\n",
    "print(L.nil.next.next.next)\n",
    "print(L.nil.next.next.next.next)\n",
    "print(L.nil.next.next.next.next.next)\n",
    "print(L.nil.next.next.next.next.next.next)\n",
    "print(L.nil.next.next.next.next.next.next.next)\n",
    "print(L.nil.next.next.next.next.next.next.next.next)\n",
    "print(L.nil.next.next.next.next.next.next.next.next.next)\n",
    "\n",
    "print(\"debug \")\n",
    "L.showlist(15)"
   ]
  },
  {
   "cell_type": "markdown",
   "metadata": {},
   "source": [
    "# Tree "
   ]
  },
  {
   "cell_type": "code",
   "execution_count": 8,
   "metadata": {},
   "outputs": [],
   "source": [
    "class Node:\n",
    "    def __init__(self,key,data=None):\n",
    "        self.left = None\n",
    "        self.right = None\n",
    "        self.parent = None\n",
    "        self.key = key \n",
    "        self.data = data\n",
    "\n",
    "    \n",
    "class BinaryTree:\n",
    "    def __init__(self):\n",
    "        self.root = Node(None,None) \n",
    "    def insertleft(self,key,data=None):\n",
    "        self.root.left = Node(key, data) \n",
    "    def insertright(self,key,data=None):\n",
    "        self.root.right = Node(key, data)"
   ]
  },
  {
   "cell_type": "code",
   "execution_count": 9,
   "metadata": {},
   "outputs": [
    {
     "name": "stdout",
     "output_type": "stream",
     "text": [
      "None\n",
      "3 a\n",
      "2 b\n"
     ]
    }
   ],
   "source": [
    "bt = BinaryTree()\n",
    "\n",
    "bt.insertleft(3,'a')\n",
    "bt.insertright(2,'b')\n",
    "\n",
    "print(bt.root.key)\n",
    "print(bt.root.left.key, bt.root.left.data)\n",
    "print(bt.root.right.key, bt.root.right.data)\n"
   ]
  },
  {
   "cell_type": "markdown",
   "metadata": {},
   "source": [
    "# DisjointSet\n",
    "\n",
    "disjoint set implementation \n",
    "\n",
    "disjoint set has representative for each set \n",
    "\n",
    "ADT :  Make_set, Find_set, Union\n",
    "\n",
    "it can be implemented by Linked List or Forests \n",
    "\n",
    "I will use Forests \n",
    "\n",
    " - representative is a root that has parents as itself \n",
    " - using heuristics (Union by rank, Path compression)\n",
    "    즉, union function에서 link 에서 union by rank heuristic을 이용하고, \n",
    "        find set에서 path compression heuristic을 이용하여 \n",
    "        \n",
    "   Disjointset을 구성하는데 running time을 \n",
    "   O(m*alpha(n)) \n",
    "   \n",
    "   ,where alpha(n) <= 4, m is at most 2n - 1  로 향상 시켰다. \n",
    "   \n",
    "   That is, it takes O(n) time approximately "
   ]
  },
  {
   "cell_type": "code",
   "execution_count": 10,
   "metadata": {},
   "outputs": [],
   "source": [
    "class Treenode:\n",
    "    def __init__(self, nodename = 'unkown'):\n",
    "        self.d = 0\n",
    "        self.p = self\n",
    "        self.rank = 0\n",
    "        self.name =  nodename\n",
    "        \n",
    "class DisjointSetForest:\n",
    "\n",
    "    def make_set(self, x):\n",
    "        x.p = x\n",
    "        x.rank = 0\n",
    "      \n",
    "    def union(self, x, y):\n",
    "        self.link(self.find_set(x), self.find_set(y))  \n",
    "\n",
    "    def link(self, x, y):\n",
    "        if x.rank > y.rank: # y 의 rank 가 x 보다 작으면, x를 y.p로 한다 (x가 representative가 됨)  \n",
    "            y.p = x \n",
    "        else:               # y 의 rank 가  x 보다 같거나 크면, y를 x.p 로 한다. (y를 representative 로 하고, y rank만 1증가) \n",
    "            x.p = y\n",
    "            if x.rank == y.rank:  \n",
    "                y.rank = y.rank + 1 \n",
    "                \n",
    "    def find_set(self, x):\n",
    "        if x != x.p:\n",
    "            x.p  = self.find_set(x.p)\n",
    "        return x.p"
   ]
  },
  {
   "cell_type": "code",
   "execution_count": 11,
   "metadata": {},
   "outputs": [
    {
     "name": "stdout",
     "output_type": "stream",
     "text": [
      "0 0 c e\n",
      "1 0 c c\n",
      "1 0 0 c c h c e h\n",
      "1 0 0 c c c c e h\n"
     ]
    }
   ],
   "source": [
    "c = Treenode('c')\n",
    "e = Treenode('e')\n",
    "h = Treenode('h')\n",
    "b = Treenode('b')\n",
    "D = DisjointSetForest()\n",
    "D.make_set(c)\n",
    "D.make_set(e)\n",
    "D.make_set(h)\n",
    "D.make_set(b)     #  n = 4 make_set operation \n",
    "\n",
    "print(c.rank, e.rank, c.p.name, e.p.name)\n",
    "D.union(e,c)\n",
    "print(c.rank, e.rank, c.p.name, e.p.name)\n",
    "\n",
    "print(c.rank, e.rank, h.rank, c.p.name, e.p.name, h.p.name, c.name, e.name, h.name)\n",
    "D.union(e,h)\n",
    "print(c.rank, e.rank, h.rank, c.p.name, e.p.name, h.p.name, c.name, e.name, h.name)\n",
    "\n",
    "D.union(e,b)\n",
    "                  # at most n - 1 union operation "
   ]
  },
  {
   "cell_type": "code",
   "execution_count": 13,
   "metadata": {},
   "outputs": [
    {
     "name": "stdout",
     "output_type": "stream",
     "text": [
      "a\n",
      "b\n",
      "c\n"
     ]
    }
   ],
   "source": [
    "A = DisjointSetForest()\n",
    "for m in ['a','b','c']:\n",
    "    m = Treenode(m)\n",
    "    A.make_set(m)\n",
    "    print(A.find_set(m).name)"
   ]
  },
  {
   "cell_type": "markdown",
   "metadata": {},
   "source": [
    "# BST implementation \n",
    "\n",
    "reference from : https://www.laurentluce.com/posts/binary-search-tree-library-in-python/"
   ]
  },
  {
   "cell_type": "code",
   "execution_count": 16,
   "metadata": {},
   "outputs": [],
   "source": [
    "class Node:\n",
    "    def __init__(self, key):\n",
    "        self.key = key \n",
    "        self.left = None\n",
    "        self.right = None\n",
    "    \n",
    "    def insert(self, key):\n",
    "        if key < self.key:\n",
    "            if self.left is None:\n",
    "                self.left = Node(key)\n",
    "            else:\n",
    "                self.left.insert(key)\n",
    "        elif key > self.key:\n",
    "            if self.right is None:\n",
    "                self.right = Node(key)\n",
    "            else:\n",
    "                self.right.insert(key)\n",
    "        else: \n",
    "            self.key = key\n",
    "    \n",
    "    def lookup(self, key, parent=None):\n",
    "        if key < self.key:\n",
    "            if self.left is None:\n",
    "                return None, None\n",
    "            return self.left.lookup(key, self)\n",
    "        elif key > self.key:\n",
    "            if self.right is None:\n",
    "                return None, None\n",
    "            return self.right.lookup(key, self)\n",
    "        else:\n",
    "            return self, parent \n",
    "    \n",
    "    # subroutine for delete method  \n",
    "    def children_count(self):\n",
    "        cnt = 0\n",
    "        if self.left is not None:\n",
    "            cnt += 1\n",
    "        if self.right is not None:\n",
    "            cnt += 1\n",
    "        return cnt\n",
    "    \n",
    "    def delete(self, key):\n",
    "        node, parent = self.lookup(key)\n",
    "        if node is not None:\n",
    "            children_count = node.children_count()\n",
    "            \n",
    "        if children_count == 0:\n",
    "            if parent is not None:\n",
    "                if parent.left is node:\n",
    "                    parent.left = None\n",
    "                else:\n",
    "                    parent.right = None\n",
    "                del node \n",
    "            else:\n",
    "                self.key = None\n",
    "                \n",
    "        elif children_count == 1:\n",
    "            # if node has 1 child\n",
    "            # replace node with its child\n",
    "            if node.left:\n",
    "                n = node.left\n",
    "            else:\n",
    "                n = node.right\n",
    "            if parent is not None:\n",
    "                if parent.left is node:\n",
    "                    parent.left = n\n",
    "                else:\n",
    "                    parent.right = n\n",
    "                del node\n",
    "            else:\n",
    "                self.left = n.left\n",
    "                self.right = n.right\n",
    "                self.key = n.key\n",
    "\n",
    "        \n",
    "        else:\n",
    "            # if node has 2 children\n",
    "            # find its successor\n",
    "            parent = node\n",
    "            successor = node.right\n",
    "            while successor.left is not None:\n",
    "                parent = successor\n",
    "                successor = successor.left\n",
    "            # replace node data by its successor data\n",
    "            node.key = successor.key\n",
    "            # fix successor's parent's child\n",
    "            if parent.left == successor:\n",
    "                parent.left = successor.right\n",
    "            else:\n",
    "                parent.right = successor.right\n",
    "\n",
    "\n",
    "    def print_tree(self):\n",
    "        \"\"\"\n",
    "        print tree content inorder\n",
    "        \"\"\"\n",
    "        if self.left is not None:\n",
    "            self.left.print_tree()\n",
    "        print(self.key)\n",
    "        if self.right is not None:\n",
    "            self.right.print_tree()"
   ]
  },
  {
   "cell_type": "code",
   "execution_count": 17,
   "metadata": {},
   "outputs": [],
   "source": [
    "# making a BST \n",
    "root = Node(8)\n",
    "root.insert(3)\n",
    "root.insert(10)\n",
    "root.insert(1)\n",
    "root.insert(6)\n",
    "root.insert(7)\n",
    "root.insert(14)\n",
    "root.insert(13)"
   ]
  },
  {
   "cell_type": "code",
   "execution_count": 18,
   "metadata": {},
   "outputs": [
    {
     "name": "stdout",
     "output_type": "stream",
     "text": [
      "8 None\n",
      "14 10\n"
     ]
    }
   ],
   "source": [
    "node, parent = root.lookup(8)\n",
    "print(node.key , parent)\n",
    "\n",
    "node, parent = root.lookup(14)\n",
    "print(node.key , parent.key)"
   ]
  },
  {
   "cell_type": "code",
   "execution_count": 19,
   "metadata": {},
   "outputs": [
    {
     "name": "stdout",
     "output_type": "stream",
     "text": [
      "1\n",
      "6\n",
      "7\n",
      "8\n",
      "10\n",
      "13\n",
      "14\n"
     ]
    }
   ],
   "source": [
    "root.delete(3)\n",
    "root.print_tree()"
   ]
  }
 ],
 "metadata": {
  "kernelspec": {
   "display_name": "Python 3",
   "language": "python",
   "name": "python3"
  },
  "language_info": {
   "codemirror_mode": {
    "name": "ipython",
    "version": 3
   },
   "file_extension": ".py",
   "mimetype": "text/x-python",
   "name": "python",
   "nbconvert_exporter": "python",
   "pygments_lexer": "ipython3",
   "version": "3.5.2"
  }
 },
 "nbformat": 4,
 "nbformat_minor": 2
}
