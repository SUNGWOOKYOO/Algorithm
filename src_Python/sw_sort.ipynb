{
 "cells": [
  {
   "cell_type": "markdown",
   "metadata": {},
   "source": [
    "# Algorithm Summary "
   ]
  },
  {
   "cell_type": "markdown",
   "metadata": {},
   "source": [
    "# insertion sort \n",
    "\n",
    "O($n^2$)"
   ]
  },
  {
   "cell_type": "code",
   "execution_count": 1,
   "metadata": {},
   "outputs": [],
   "source": [
    "# decreasing order version \n",
    "def insertion_sort(a):\n",
    "    for j in range(1, len(a)):\n",
    "        key = a[j]\n",
    "        i = j - 1\n",
    "        #그전 순서보다 현재가 크면 swap하며 while문을 돌게 된다. 아니면, remain \n",
    "        while i >= 0 and a[i] < key:\n",
    "        #while i >= 0 and a[i] > key:    \n",
    "            a[i + 1] = a[i]\n",
    "            i -= 1\n",
    "        a[i + 1] = key"
   ]
  },
  {
   "cell_type": "code",
   "execution_count": 2,
   "metadata": {},
   "outputs": [],
   "source": [
    "# increasing order version \n",
    "def insertion_sort(a):\n",
    "    for j in range(1, len(a)):\n",
    "        key = a[j]\n",
    "        i = j - 1\n",
    "        #그전 순서보다 현재가 크면 swap하며 while문을 돌게 된다. 아니면, remain \n",
    "        while i >= 0 and a[i] > key:    \n",
    "            a[i + 1] = a[i]\n",
    "            i -= 1\n",
    "        a[i + 1] = key"
   ]
  },
  {
   "cell_type": "code",
   "execution_count": 3,
   "metadata": {},
   "outputs": [
    {
     "name": "stdout",
     "output_type": "stream",
     "text": [
      "[(26, 'a'), (31, 'b'), (41, 'c'), (41, 'd'), (58, 'e'), (59, 'f')]\n"
     ]
    }
   ],
   "source": [
    "A = [(31,'b'),(41,'c'),(59,'f'),(26,'a'),(41,'d'),(58,'e')]\n",
    "insertion_sort(A)\n",
    "print(A)"
   ]
  },
  {
   "cell_type": "markdown",
   "metadata": {},
   "source": [
    "# linear search \n",
    "\n",
    "it takes O(n) time"
   ]
  },
  {
   "cell_type": "code",
   "execution_count": 4,
   "metadata": {},
   "outputs": [],
   "source": [
    "# v는 item값, return index값 \n",
    "def linear_search(a, v):\n",
    "    for i in range(len(a)):\n",
    "        if a[i] == v:\n",
    "            return i\n",
    "    return None"
   ]
  },
  {
   "cell_type": "code",
   "execution_count": 5,
   "metadata": {},
   "outputs": [
    {
     "data": {
      "text/plain": [
       "4"
      ]
     },
     "execution_count": 5,
     "metadata": {},
     "output_type": "execute_result"
    }
   ],
   "source": [
    "linear_search(A, (58,'e'))"
   ]
  },
  {
   "cell_type": "markdown",
   "metadata": {},
   "source": [
    "# merge sort\n",
    "\n",
    "time complexity analysis through recursion tree \n",
    "\n",
    "T(n) = 2T(n/2) + n \n",
    "\n",
    "     = ...\n",
    "     \n",
    "     = 2^k T(n/2^k) + kn \n",
    "     \n",
    "     = O(nlgn)    because n/2^k = 1 < = > k = lgn "
   ]
  },
  {
   "cell_type": "code",
   "execution_count": 6,
   "metadata": {},
   "outputs": [],
   "source": [
    "# A[p..r] 까지 A[p..q] , A[q+1..r] 로 divide 를 통해 sorting을 한다.  \n",
    "# increasing order merge \n",
    "def merge(A,p,q,r):  # O(n) time\n",
    "    n1 = q - p + 1 \n",
    "    n2 = r - q \n",
    "    # let L[0..n1] and R[0.. n2] be new arrays\n",
    "    L = [] \n",
    "    R = []\n",
    "    for i in range(n1):    # L[0.. n1-1] <- A[p..q] \n",
    "        L.append(A[p + i])  \n",
    "    for j in range(n2):\n",
    "        R.append(A[q + j + 1])  # R[0.. n2-1] <- A[q+1..r]\n",
    "    L.append(float('inf'))\n",
    "    R.append(float('inf')) \n",
    "    i = 0 \n",
    "    j = 0\n",
    "    # merge L[i] and R[j] in order to sort A[p.. q]\n",
    "    for k in range(p,r+1):\n",
    "        if L[i] <= R[j]:\n",
    "            A[k] = L[i]\n",
    "            i += 1\n",
    "        else: \n",
    "            A[k] = R[j]\n",
    "            j += 1 "
   ]
  },
  {
   "cell_type": "code",
   "execution_count": 7,
   "metadata": {},
   "outputs": [],
   "source": [
    "# A[p..r] 까지 A[p..q] , A[q+1..r] 로 divide 를 통해 sorting을 한다.  \n",
    "# decreasing order merge \n",
    "def merge(A,p,q,r):  # O(n) time\n",
    "    n1 = q - p + 1 \n",
    "    n2 = r - q \n",
    "    # let L[0..n1] and R[0.. n2] be new arrays\n",
    "    L = [] \n",
    "    R = []\n",
    "    for i in range(n1):    # L[0.. n1-1] <- A[p..q] \n",
    "        L.append(A[p + i])  \n",
    "    for j in range(n2):\n",
    "        R.append(A[q + j + 1])  # R[0.. n2-1] <- A[q+1..r]\n",
    "    L.append(-float('inf'))\n",
    "    R.append(-float('inf')) \n",
    "    i = 0 \n",
    "    j = 0\n",
    "    # merge L[i] and R[j] in order to sort A[p.. q]\n",
    "    for k in range(p,r+1):\n",
    "        if L[i] >= R[j]:\n",
    "            A[k] = L[i]\n",
    "            i += 1\n",
    "        else: \n",
    "            A[k] = R[j]\n",
    "            j += 1 "
   ]
  },
  {
   "cell_type": "code",
   "execution_count": 8,
   "metadata": {},
   "outputs": [],
   "source": [
    "# devide, conquer, combine을 통해 recursive하게 sorting을 한다. \n",
    "def merge_sort(A,p,r):  # A[p..r]까지 sorting \n",
    "    if p < r:\n",
    "        q = (p + r)// 2     # devide A[p .. q], A[q+1 .. r] in order to make size as similiar as possible \n",
    "        merge_sort(A,p,q)\n",
    "        merge_sort(A,q+1,r)\n",
    "        merge(A,p,q,r)\n",
    "# total running time : O(nlgn)\n",
    "    "
   ]
  },
  {
   "cell_type": "code",
   "execution_count": 9,
   "metadata": {},
   "outputs": [
    {
     "data": {
      "text/plain": [
       "[57, 52, 49, 41, 38, 26, 9, 8, 5, 4, 3, 3, 2, 2, 1]"
      ]
     },
     "execution_count": 9,
     "metadata": {},
     "output_type": "execute_result"
    }
   ],
   "source": [
    "A = [3,41,52,26,38,57,9,49,8,2,4,5,1,2,3] \n",
    "# tuple 은 사용할 수 없다. 왜냐하면 A[0] = (31,'b') 이런 식이기 때문에 \n",
    "#A = [(31,'b'),(41,'c'),(59,'f'),(26,'a'),(41,'d'),(58,'e')] \n",
    "merge_sort(A,0,14)\n",
    "A"
   ]
  },
  {
   "cell_type": "markdown",
   "metadata": {},
   "source": [
    "# binary search \n",
    "\n",
    " assume that A is already sorted \n",
    " \n",
    " T(n) = T(n/2) + 1 \n",
    "      = O(lgn)"
   ]
  },
  {
   "cell_type": "code",
   "execution_count": 10,
   "metadata": {},
   "outputs": [],
   "source": [
    "# assume that A is sorted by increasing order \n",
    "def binary_search(A,low,high,X):\n",
    "    if low == high:\n",
    "        if A[low] == X:\n",
    "            return low\n",
    "        else:\n",
    "            return print(\"Not found\")\n",
    "    else: \n",
    "        mid = (low + high)// 2 \n",
    "        print(mid,A[mid],X)\n",
    "        if A[mid] > X:\n",
    "            return binary_search(A,low,mid-1,X)\n",
    "        else:\n",
    "            return binary_search(A,mid+1,high,X)\n"
   ]
  },
  {
   "cell_type": "code",
   "execution_count": 11,
   "metadata": {},
   "outputs": [],
   "source": [
    "# assume that A is sorted by decreasing order \n",
    "def binary_search(A,low,high,X):\n",
    "    if low == high:\n",
    "        if A[low] == X:\n",
    "            return low\n",
    "        else:\n",
    "            return print(\"Not found\")\n",
    "    else: \n",
    "        mid = (low + high)// 2 \n",
    "        print(mid,A[mid],X)\n",
    "        if A[mid] < X:\n",
    "            return binary_search(A,low,mid-1,X)\n",
    "        else:\n",
    "            return binary_search(A,mid+1,high,X)"
   ]
  },
  {
   "cell_type": "code",
   "execution_count": 12,
   "metadata": {},
   "outputs": [
    {
     "name": "stdout",
     "output_type": "stream",
     "text": [
      "[57, 52, 49, 41, 38, 26, 9, 8, 5, 4, 3, 3, 2, 2, 1]\n",
      "7 8 9\n",
      "3 41 9\n",
      "5 26 9\n"
     ]
    },
    {
     "data": {
      "text/plain": [
       "6"
      ]
     },
     "execution_count": 12,
     "metadata": {},
     "output_type": "execute_result"
    }
   ],
   "source": [
    "print(A)\n",
    "binary_search(A,0,14,9)"
   ]
  },
  {
   "cell_type": "markdown",
   "metadata": {},
   "source": [
    "# heap sort \n",
    "\n",
    "running time : O($nlgn$)\n",
    "\n",
    "because heapify running time : O(lgn)  <=  T(n) <= T(2n/3) + Θ(1) // 2n/3 input recursive + swapping(Θ(1))"
   ]
  },
  {
   "cell_type": "code",
   "execution_count": 13,
   "metadata": {},
   "outputs": [],
   "source": [
    "class heap:\n",
    "    \n",
    "    def __init__(self,a):\n",
    "        self.heap_size = len(a) - 1 # index 는 0 ~ len(a) - 1 이므로 \n",
    "        \n",
    "        # mutable variable : self.h가 heap class의 function에 의해 바뀌면 a도 바뀐다. \n",
    "        self.h = a  \n",
    "    \n",
    "    # Binary shifting 으로 생각  python 에서는 index 0 부터 사용 하므로 \n",
    "    def parent(self,i):\n",
    "        if i <= self.heap_size:\n",
    "            return (i - 1) >> 1 \n",
    "        else: return i # heapify 연산에서 if 문에서 비교 연산에 대해 결과가 Flase가 나와야하고, 마지막에 i로 largest(smalliest) 결정\n",
    "\n",
    "\n",
    "    def left(self, i):\n",
    "        if (((i << 1) + 1) <= self.heap_size):\n",
    "            return (i << 1) + 1  # 2 곱함 ; index 0부터 시작이므로 +1\n",
    "        else: return i \n",
    "\n",
    "    def right(self, i):\n",
    "        if (((i<<1) + 2) <= self.heap_size):\n",
    "            return (i << 1) + 2 # 2 곱하고 1더함 ; ndex 0부터 시작이므로 +1\n",
    "        else: return i \n",
    "\n",
    "    \n",
    "    # T(n) <= T(2n/3) + Θ(1)\n",
    "    def min_heapify(self, i):\n",
    "     \n",
    "        # smallest = argmin{a[i] , a[l], a[r]} \n",
    "        l, r = self.left(i), self.right(i) \n",
    "        if (l <= len(self.h)) and (self.h[l] < self.h[i]):\n",
    "            smallest = l\n",
    "        else: smallest = i \n",
    "        if (r <= len(self.h)) and (self.h[r] < self.h[smallest]):\n",
    "            smallest = r\n",
    "    \n",
    "        # i 가 smallest 가 아니라면 a[smallest] 와 swap     \n",
    "        if smallest != i:\n",
    "            self.h[i], self.h[smallest] = self.h[smallest], self.h[i] # swape a[i] with a[min_idx]\n",
    "            self.min_heapify(smallest)             # recursive call \n",
    "    \n",
    "        # worst case running time : O(lgn)   \n",
    "        \n",
    "    def max_heapify(self, i):\n",
    "\n",
    "        # largest = argmax{a[i] , a[l], a[r]} \n",
    "        l, r = self.left(i), self.right(i) \n",
    "        if (l <= len(self.h)) and (self.h[l] > self.h[i]):\n",
    "            largest = l\n",
    "        else: largest = i \n",
    "        if (r <= len(self.h)) and (self.h[r] > self.h[largest]):\n",
    "            largest = r\n",
    "        \n",
    "        #print(largest, i ,\"// largest, i : debug2\")\n",
    "        # i 가 largest가 아니라면 a[largest] 와 swap \n",
    "        # i = largest이면, recursive call 하지 않는다. 위치 그대로 (same key가 있다면 그대로 위치 )\n",
    "        if largest != i:\n",
    "            self.h[i], self.h[largest] = self.h[largest], self.h[i] # swape a[i] with a[max_idx]\n",
    "            self.max_heapify(largest)             # recursive call \n",
    "        # worst case running time : O(lgn)\n",
    "    \n",
    "    # internal nodes 만 heapify call하면 heap property 모두 만족되게 된다..\n",
    "    def build_min_heap(self):\n",
    "        self.heap_size = len(self.h) - 1\n",
    "        for i in range((len(self.h)-1)//2,-1,-1):\n",
    "            self.min_heapify(i)\n",
    "            \n",
    "        #running time : O(nlgn ) -> tighter upper bound : O(n)\n",
    "        \n",
    "    def build_max_heap(self):\n",
    "        self.heap_size = len(self.h) - 1\n",
    "        for i in range((len(self.h)-1)//2,-1,-1):\n",
    "            self.max_heapify(i)\n",
    "            \n",
    "        # running time : O(nlgn) 인데 tighter한 upper bound is O(n)\n",
    "            \n",
    "    def size(self):\n",
    "        return (self.heap_size + 1)\n",
    "            \n",
    "    \"\"\" heap sort implementation using heap\"\"\"\n",
    "    def heapsort_do(self):      # decreasing order\n",
    "        # preprocessing\n",
    "        T = self.h.copy()   # sorting 하면 heap property 특성이 깨지기 때문에 \n",
    "        temph = heap(T)\n",
    "        \n",
    "        # using min heap \n",
    "        temph.build_min_heap()                     # min heap 을 만들고, \n",
    "        for i in range(len(temph.h)-1, -1, -1):          # for loop 에서 heap property를 유지시키며, decreasing order로 sorting \n",
    "            temph.h[0], temph.h[i] = temph.h[i], temph.h[0]                # 그 과정에서 heap에 들어간 array는 점점 줄어든다. \n",
    "            temph.heap_size = temph.heap_size - 1    # [[ heap영역      ]  sorting된 data]  : total data\n",
    "            temph.min_heapify(0)                  # [[null]   sorting completed       ]\n",
    "        # running time : O(nlgn)\n",
    "        return T\n",
    "    \n",
    "    def heapsort_io(self):      # decreasing order\n",
    "        # preprocessing\n",
    "        T = self.h.copy()   # sorting 하면 heap property 특성이 깨지기 때문에 \n",
    "        temph = heap(T)\n",
    "        \n",
    "        # using min heap \n",
    "        temph.build_max_heap()                     # min heap 을 만들고, \n",
    "        for i in range(len(temph.h)-1, -1, -1):          # for loop 에서 heap property를 유지시키며, decreasing order로 sorting \n",
    "            temph.h[0], temph.h[i] = temph.h[i], temph.h[0]                # 그 과정에서 heap에 들어간 array는 점점 줄어든다. \n",
    "            temph.heap_size = temph.heap_size - 1    # [[ heap영역      ]  sorting된 data]  : total data\n",
    "            temph.max_heapify(0)                  # [[null]   sorting completed       ]\n",
    "        # running time : O(nlgn)\n",
    "        return T\n",
    "    \n",
    "\n",
    "\"\"\" heap property를 만족시키는 것을 유지 하도록 해야한다. \"\"\"    \n",
    "class priority_queue_min(heap):\n",
    "    \n",
    "    def __init__(self, a):\n",
    "        self.heap_size = len(a) - 1 # index 는 0 ~ len(a) - 1 이므로 \n",
    "        \n",
    "        # self.h have to always maintain min-heap property\n",
    "        # self.h is a mutable type \n",
    "        self.h = a\n",
    "        self.build_min_heap()  \n",
    "    \n",
    "    \n",
    "    # ※ self.h 는 min heap property를 만족하는 array여야 한다.\n",
    "    def heap_minimum(self):\n",
    "        return self.h[0]\n",
    "    \n",
    "    def heap_extract_min(self):\n",
    "        if self.heap_size < 0:\n",
    "            print(\"heap underflow: empty array\")\n",
    "            return None\n",
    "        mn = self.h[0] # heap 에 root 에 있는 min 값 \n",
    "        \n",
    "        # mn 값을 빼왔으니, 제일 뒤에있는 index에 있는 element를 빼와서 haep property를 만족하도록 한다.\n",
    "        self.h[0] = self.h[len(self.h) - 1]\n",
    "        self.heap_size = self.heap_size - 1\n",
    "        self.min_heapify(0)\n",
    "        \n",
    "        del self.h[self.heap_size + 1]\n",
    "\n",
    "        #runnig time: O(lgn)\n",
    "        return mn \n",
    "         \n",
    "    \n",
    "    \n",
    "    \"\"\" prim Algorithm을 위해 정의(Dijkstra algorithm에서도 쓰임) \n",
    "        key_update는 decrease_key function과 동일하게 동작한다. \n",
    "        decrease key는 O(lgn)시간이 걸리도록 할 수 있지만, \n",
    "        tuple의 값에 대해서 구현하기 어려워서 brutal force 방식으로 만듦 \n",
    "    \"\"\"\n",
    "    # heap property를 만족시키면서 self.h[idex]의 (key, value) = item 을 바꿈  \n",
    "    def key_update(self, idex, newitem):\n",
    "        if idex == None:\n",
    "            return \n",
    "        self.h[idex] = newitem\n",
    "        self.build_min_heap()   \n",
    "        \n",
    "    def find_index(self, value):\n",
    "        for k in range(self.size()):\n",
    "            if self.h[k][1] == value:\n",
    "                return k \n",
    "            \n",
    "    def heap_included(self, v):\n",
    "        for k in range(self.size()):\n",
    "            if self.h[k][1] == v:\n",
    "                return True \n",
    "            \n",
    "\"\"\" heap property를 만족시키는 것을 유지 하도록 해야한다. \"\"\"    \n",
    "class priority_queue_max(heap):\n",
    "    \n",
    "    def __init__(self, a):\n",
    "        self.heap_size = len(a) - 1 # index 는 0 ~ len(a) - 1 이므로 \n",
    "        \n",
    "        # self.h have to always maintain min-heap property\n",
    "        # self.h is a mutable type \n",
    "        self.h = a\n",
    "        self.build_max_heap()  \n",
    "    \n",
    "    \n",
    "    # ※ self.h 는 min heap property를 만족하는 array여야 한다.\n",
    "    def heap_maximum(self):\n",
    "        return self.h[0]\n",
    "    \n",
    "    def heap_extract_max(self):\n",
    "        if self.heap_size < 0:\n",
    "            print(\"heap underflow: empty array\")\n",
    "            return None\n",
    "        mx = self.h[0] # heap 에 root 에 있는 min 값 \n",
    "        \n",
    "        # mx 값을 빼왔으니, 제일 뒤에있는 index에 있는 element를 빼와서 haep property를 만족하도록 한다.\n",
    "        self.h[0] = self.h[len(self.h) - 1]\n",
    "        self.heap_size = self.heap_size - 1\n",
    "        self.max_heapify(0)\n",
    "        \n",
    "        del self.h[self.heap_size + 1]\n",
    "\n",
    "        #runnig time: O(lgn)  //  because max_heapify fucntion requires O(lgn)\n",
    "        return mx \n",
    "         \n",
    "    \"\"\"tuple 에 대해서는 동작 안함 \"\"\"\n",
    "    # index i 의 key를 증가시켜도 여전히 children은 heap property 를 만족한다.\n",
    "    # 하지만, parent는 property를 만족시키는것을 유지하도록 해야한다. \n",
    "    def heap_increase_key(self, i, key):\n",
    "        if key < self.h[i]:\n",
    "            print(\"error: new key is smaller than current key \")\n",
    "        self.h[i] = key \n",
    "        # parent를 property를 만족시키는것을 유지하도록함\n",
    "        # 증가시킨 key값 a[i] 보다 parent의 key가 작다면, property를 유지하도록 바꿔야함(root 까지)\n",
    "        while i>0 and self.h[self.parent(i)] < self.h[i]: \n",
    "            self.h[i], self.h[self.parent(i)] = self.h[self.parent(i)], self.h[i] \n",
    "            i = self.parent(i)\n",
    "        # running time O(lgn)\n",
    "    \n",
    "    def max_heap_insert(self, key):\n",
    "        self.heap_size = self.heap_size + 1\n",
    "        self.h.append(-1*float('inf')) # 최소값으로 지정 (heap property 위배 안 되야 하므로)\n",
    "        self.heap_increase_key(self.heap_size, key)\n",
    "        # running time O(lgn)\n",
    "    \n",
    "    \n",
    "    \n",
    "    \"\"\" prim Algorithm을 위해 정의(Dijkstra algorithm에서도 쓰임) \n",
    "        key_update는 decrease_key function과 동일하게 동작한다. \n",
    "        decrease key는 O(lgn)시간이 걸리도록 할 수 있지만, \n",
    "        tuple의 값에 대해서 구현하기 어려워서 brutal force 방식으로 만듦 \n",
    "    \"\"\"\n",
    "    # heap property를 만족시키면서 self.h[idex]의 (key, value) = item 을 바꿈  \n",
    "    def key_update_min(self, idex, newitem):\n",
    "        if idex == None:\n",
    "            return \n",
    "        self.h[idex] = newitem\n",
    "        self.build_min_heap()   \n",
    "    def key_update_max(self, idex, newitem):\n",
    "        if idex == None:\n",
    "            return \n",
    "        self.h[idex] = newitem\n",
    "        self.build_max_heap()   \n",
    "        \n",
    "    def find_index(self, value):\n",
    "        for k in range(self.size()):\n",
    "            if self.h[k][1] == value:\n",
    "                return k \n",
    "            \n",
    "    def heap_included(self, v):\n",
    "        for k in range(self.size()):\n",
    "            if self.h[k][1] == v:\n",
    "                return True "
   ]
  },
  {
   "cell_type": "code",
   "execution_count": 14,
   "metadata": {},
   "outputs": [
    {
     "name": "stdout",
     "output_type": "stream",
     "text": [
      "[(68, 'c'), (65, 'b'), (32, 'i'), (31, 'd'), (26, 'j'), (24, 'f'), (21, 'a'), (19, 'g'), (14, 'h'), (13, 'e')]\n",
      "[(13, 'e'), (14, 'h'), (19, 'g'), (21, 'a'), (24, 'f'), (26, 'j'), (31, 'd'), (32, 'i'), (65, 'b'), (68, 'c')]\n",
      "[(21, 'a'), (65, 'b'), (68, 'c'), (31, 'd'), (13, 'e'), (24, 'f'), (19, 'g'), (14, 'h'), (32, 'i'), (26, 'j')]\n"
     ]
    }
   ],
   "source": [
    "A = [(21,'a'), (65,'b'), (68,'c'), (31,'d'), (13,'e'), (24,'f'), (19,'g'), (14,'h'), (32,'i'), (26,'j')]\n",
    "h = heap(A)\n",
    "print(h.heapsort_do())  \n",
    "print(h.heapsort_io())\n",
    "print(A)"
   ]
  },
  {
   "cell_type": "code",
   "execution_count": 15,
   "metadata": {},
   "outputs": [
    {
     "name": "stdout",
     "output_type": "stream",
     "text": [
      "[(13, 'e'), (14, 'h'), (19, 'g'), (21, 'a'), (26, 'j'), (24, 'f'), (68, 'c'), (31, 'd'), (32, 'i'), (65, 'b')]\n",
      "[(14, 'h'), (21, 'a'), (19, 'g'), (31, 'd'), (26, 'j'), (24, 'f'), (68, 'c'), (65, 'b'), (32, 'i')]\n"
     ]
    }
   ],
   "source": [
    "pq_min = priority_queue_min(A)\n",
    "\n",
    "print(pq_min.h)\n",
    "pq_min.heap_extract_min()\n",
    "print(A)"
   ]
  },
  {
   "cell_type": "code",
   "execution_count": 16,
   "metadata": {},
   "outputs": [
    {
     "name": "stdout",
     "output_type": "stream",
     "text": [
      "[(68, 'c'), (65, 'b'), (24, 'f'), (32, 'i'), (26, 'j'), (14, 'h'), (19, 'g'), (31, 'd'), (21, 'a')]\n",
      "[(65, 'b'), (32, 'i'), (24, 'f'), (31, 'd'), (26, 'j'), (14, 'h'), (19, 'g'), (21, 'a')]\n"
     ]
    }
   ],
   "source": [
    "pq_max = priority_queue_max(A)\n",
    "print(pq_max.h)\n",
    "pq_max.heap_extract_max()\n",
    "print(A)"
   ]
  },
  {
   "cell_type": "code",
   "execution_count": 17,
   "metadata": {},
   "outputs": [
    {
     "name": "stdout",
     "output_type": "stream",
     "text": [
      "[(68, 'c'), (65, 'b'), (24, 'f'), (32, 'i'), (26, 'j'), (21, 'a'), (19, 'g'), (14, 'h'), (31, 'd'), (13, 'e')]\n",
      "[(84, 'd'), (68, 'c'), (24, 'f'), (65, 'b'), (26, 'j'), (21, 'a'), (19, 'g'), (14, 'h'), (32, 'i'), (13, 'e')]\n"
     ]
    }
   ],
   "source": [
    "A = [(21,'a'), (65,'b'), (68,'c'), (31,'d'), (13,'e'), (24,'f'), (19,'g'), (14,'h'), (32,'i'), (26,'j')]\n",
    "pq_max = priority_queue_max(A)\n",
    "print(A)\n",
    "pq_max.key_update_max(pq_max.find_index('d'), (84,'d'))\n",
    "print(A)"
   ]
  },
  {
   "cell_type": "code",
   "execution_count": 18,
   "metadata": {},
   "outputs": [
    {
     "name": "stdout",
     "output_type": "stream",
     "text": [
      "[68, 65, 24, 32, 26, 21, 19, 14, 31, 13]\n",
      "[68, 65, 30, 32, 26, 24, 19, 14, 31, 13]\n",
      "[68, 65, 30, 32, 35, 24, 19, 14, 31, 13, 26]\n",
      "[68, 65, 30, 32, 35, 24, 19, 14, 31, 13, 26]\n",
      "10\n"
     ]
    }
   ],
   "source": [
    " \"\"\"tuple 에 대해서는 동작 안함 \"\"\"\n",
    "A = [21, 65, 68, 31, 13, 24, 19, 14, 32, 26]\n",
    "#A = [(21,'a'), (65,'b'), (68,'c'), (31,'d'), (13,'e'), (24,'f'), (19,'g'), (14,'h'), (32,'i'), (26,'j')]\n",
    "\n",
    "pq_max = priority_queue_max(A)\n",
    "print(A)\n",
    "pq_max.heap_increase_key(5,30)\n",
    "print(A)\n",
    "\n",
    "pq_max.max_heap_insert(35)\n",
    "print(A)\n",
    "print(pq_max.h)\n",
    "print(pq_max.heap_size)\n",
    "#print(pq_max.size())"
   ]
  },
  {
   "cell_type": "markdown",
   "metadata": {},
   "source": [
    "# Quick sort \n",
    "\n",
    "divide and conquer and combine approach \n",
    "\n",
    "time complexity analysis : partition procedure 가 어떤 index를 내놓느냐에 따라 다르다.\n",
    "\n",
    " 𝑇(𝑛)=max_(0≤𝑞≤𝑛−1) (𝑇(𝑞)+𝑇(𝑛−𝑞−1))+\"Ɵ(n) \"\n",
    "\n",
    "    - worst case : T(n) = O(n^2)  , because n-1, 1 로 나뉨\n",
    "    \n",
    "    - best case  : T(n) = O(nlgn) , because always n/2, n/2 로 나뉨\n",
    "    \n",
    "    \n",
    "using randomized quick sort : running time = O(nlgn)"
   ]
  },
  {
   "cell_type": "code",
   "execution_count": 19,
   "metadata": {},
   "outputs": [],
   "source": [
    "# increasing order \n",
    "def partition(a, p, r):\n",
    "    x = a[r]\n",
    "    i = p - 1\n",
    "    \n",
    "    # for 문에서 linear searching을 하며, a[p..r-1] 을 p[r]과 비교하여 작으면 왼쪽, 크면 오른쪽으로 partitioning : O(n)\n",
    "    for j in range(p, r):\n",
    "        if a[j] <= x: # inequality 반대로 reverse \n",
    "            i += 1\n",
    "            a[i], a[j] = a[j], a[i]\n",
    "        \n",
    "    i += 1\n",
    "    a[i], a[r] = a[r], a[i]\n",
    "    return i"
   ]
  },
  {
   "cell_type": "code",
   "execution_count": 20,
   "metadata": {},
   "outputs": [],
   "source": [
    "# decreasing order \n",
    "def partition(a, p, r):\n",
    "    x = a[r]\n",
    "    i = p - 1\n",
    "    \n",
    "    # for 문에서 linear searching을 하며, a[p..r-1] 을 p[r]과 비교하여 작으면 왼쪽, 크면 오른쪽으로 partitioning : O(n)\n",
    "    for j in range(p, r):\n",
    "        if a[j] >= x: # inequality 반대로 reverse \n",
    "            i += 1\n",
    "            a[i], a[j] = a[j], a[i]\n",
    "        \n",
    "    i += 1\n",
    "    a[i], a[r] = a[r], a[i]\n",
    "    return i"
   ]
  },
  {
   "cell_type": "code",
   "execution_count": 21,
   "metadata": {},
   "outputs": [],
   "source": [
    "def quicksort(a, p, r):\n",
    "    if p < r :   # p >= r 이 되면 종료 \n",
    "        q = partition(a, p, r)\n",
    "        quicksort(a, p, q -1)              \n",
    "        quicksort(a, q + 1, r)"
   ]
  },
  {
   "cell_type": "code",
   "execution_count": 22,
   "metadata": {},
   "outputs": [],
   "source": [
    "import random\n",
    "\n",
    "def randomized_partition(a, p, r):\n",
    "    i = random.randint(p, r)\n",
    "    a[r], a[i] = a[i], a[r]\n",
    "    return partition(a, p, r)\n",
    "\n",
    "\n",
    "def randomized_quicksort(a, p, r):\n",
    "    if p < r:\n",
    "        q = randomized_partition(a, p, r)\n",
    "        randomized_quicksort(a, p, q-1)\n",
    "        randomized_quicksort(a, q+1, r)"
   ]
  },
  {
   "cell_type": "code",
   "execution_count": 23,
   "metadata": {},
   "outputs": [
    {
     "name": "stdout",
     "output_type": "stream",
     "text": [
      "[(68, 'c'), (65, 'b'), (32, 'i'), (31, 'd'), (26, 'j'), (24, 'f'), (21, 'a'), (19, 'g'), (14, 'h'), (13, 'e')]\n"
     ]
    }
   ],
   "source": [
    "A = [(21,'a'), (65,'b'), (68,'c'), (31,'d'), (13,'e'), (24,'f'), (19,'g'), (14,'h'), (32,'i'), (26,'j')]\n",
    "quicksort(A,0,9)\n",
    "print(A) "
   ]
  },
  {
   "cell_type": "code",
   "execution_count": 24,
   "metadata": {},
   "outputs": [
    {
     "name": "stdout",
     "output_type": "stream",
     "text": [
      "[(68, 'c'), (65, 'b'), (32, 'i'), (31, 'd'), (26, 'j'), (24, 'f'), (21, 'a'), (19, 'g'), (14, 'h'), (13, 'e')]\n"
     ]
    }
   ],
   "source": [
    "A = [(21,'a'), (65,'b'), (68,'c'), (31,'d'), (13,'e'), (24,'f'), (19,'g'), (14,'h'), (32,'i'), (26,'j')]\n",
    "randomized_quicksort(A,0,9)\n",
    "print(A)"
   ]
  },
  {
   "cell_type": "markdown",
   "metadata": {},
   "source": [
    "# counting sort \n",
    "\n",
    " Linear time algorithm using many memories \n",
    " \n",
    " ※ inputs(A[]: keys) have to be non-negative inputs <= k \n",
    "     , C[0.. k] memeories are used \n",
    " \n",
    "    A는 양수여야 한다. \n",
    "    마지막 for loop가 stable이어야 radix sort에서 쓸 수 있다\n",
    "    (stable : input에서 먼저 나타난 것이 output에서도 먼저 나타난다.). \n",
    "    O(n + k)"
   ]
  },
  {
   "cell_type": "code",
   "execution_count": 25,
   "metadata": {},
   "outputs": [],
   "source": [
    "def counting_sort(A,B,k):\n",
    "    C = [None] * (k+1) \n",
    "    for i in range(k+1):\n",
    "        C[i] = 0\n",
    "    \n",
    "    for j in range(len(A)):\n",
    "        C[A[j]] = C[A[j]] + 1\n",
    "    for i in range(1,k+1):\n",
    "        C[i] = C[i] + C[i-1]\n",
    "        \n",
    "    # 이 for loop부분이 내림 차순이어야 stable algorithm이 된다.     \n",
    "    for j in range(len(A)-1, -1,-1):\n",
    "        B[C[A[j]]-1] = A[j]\n",
    "        C[A[j]] = C[A[j]] - 1\n",
    "        #print(A)\n",
    "        #print(B,j)\n",
    "        #print(C)\n",
    "        "
   ]
  },
  {
   "cell_type": "code",
   "execution_count": 26,
   "metadata": {},
   "outputs": [
    {
     "data": {
      "text/plain": [
       "[0, 0, 1, 1, 3, 3, 4, 100]"
      ]
     },
     "execution_count": 26,
     "metadata": {},
     "output_type": "execute_result"
    }
   ],
   "source": [
    "import numpy as np\n",
    "#A = [21, 65, 68, 31, 13, 24, 19, 14, 32, 26]\n",
    "# tuple에서 사용 할 수 없다.\n",
    "#A = [(21,'a'), (65,'b'), (68,'c'), (31,'d'), (13,'e'), (24,'f'), (19,'g'), (14,'h'), (32,'i'), (26,'j')]\n",
    "A = [1,4,100,3,1,0,3,0]\n",
    "B = [None]*len(A)\n",
    "k = A[np.argmax(A)]\n",
    "#k = 68\n",
    "\n",
    "counting_sort(A,B,k)\n",
    "B"
   ]
  },
  {
   "cell_type": "markdown",
   "metadata": {},
   "source": [
    "# radix sort \n",
    "\n",
    " ### ※ stable한 subroutine을 사용해야 한다. \n",
    " ### LSD 부터 MSD순으로 sorting한다.\n",
    " ### non negative 값을 가져야한다.\n",
    " n개의 d digit에 대해 각 element는 k 이하여야한다. \n",
    " \n",
    " runnning time: O(d(n+k))\n",
    " \n",
    " e.g for n d(= 4) digit inputs(xxx.xxx.xxx.xxx ip address),   \n",
    "                                   \n",
    "     each digit takes on 0 ~ 255 value k = 2^8 (8 bit, r =8), that is, d = b/r = 2^8/8 = 4  "
   ]
  },
  {
   "cell_type": "code",
   "execution_count": 27,
   "metadata": {},
   "outputs": [],
   "source": [
    "import numpy as np\n",
    "# A 는 d × n numpy array input: n d digit \n",
    "\n",
    "# A의 각 자리수를 이용하여 정렬 하는 것이므로 행을 변경 하면 안된다.\n",
    "def radix_sort_error(A,d):\n",
    "    B = -np.ones([len(A), len(A[0])])\n",
    "    #print(B)\n",
    "    for i in range(d-1,-1,-1):\n",
    "        k = A[np.argmax(A[:, i])][i]\n",
    "        #print(k)\n",
    "        counting_sort(A[:, i],B[:, i],k)\n",
    "        print(B, \"Debug###\")\n",
    "        \n",
    "        \n",
    "# counting sort가 stable 함을 이용하여 각 자리수를 이용한 sorting을 한다.\n",
    "def counting_sort_with_digit(A,B,k,d):\n",
    "    C = [None] * (k+1)  \n",
    "    for i in range(k+1):\n",
    "        C[i] = 0\n",
    "    \n",
    "    for j in range(len(A)):\n",
    "        C[int(A[:, d][j])] = C[int(A[:, d][j])] + 1\n",
    "    for i in range(1,k+1):\n",
    "        C[i] = C[i] + C[i-1]\n",
    "        \n",
    "    # 이 for loop부분이 내림 차순이어야 stable algorithm이 된다.     \n",
    "    for j in range(len(A)-1, -1,-1):\n",
    "        B[int(C[int(A[:, d][j])]-1)] = A[j]\n",
    "        C[int(A[:, d][j])] = C[int(A[:, d][j])] - 1\n",
    "\n",
    "        \n",
    "# A 는 d × n numpy array input: n d digit \n",
    "def radix_sort(A,d):\n",
    "    \n",
    "    for i in range(d-1,-1,-1):\n",
    "        B = -np.ones([len(A), len(A[0])])\n",
    "        k = int(A[np.argmax(A[:, i])][i])\n",
    "        counting_sort_with_digit(A,B,k,i)\n",
    "        A = B                               # output 이 새로운 input이 되어야함\n",
    "        print(B, \"Debug###\")\n",
    "        "
   ]
  },
  {
   "cell_type": "code",
   "execution_count": 28,
   "metadata": {},
   "outputs": [
    {
     "name": "stdout",
     "output_type": "stream",
     "text": [
      "[[ -1.  -1.  -1.   3.]\n",
      " [ -1.  -1.  -1.   9.]\n",
      " [ -1.  -1.  -1.  25.]\n",
      " [ -1.  -1.  -1. 200.]] Debug###\n",
      "[[ -1.  -1.  20.   3.]\n",
      " [ -1.  -1. 158.   9.]\n",
      " [ -1.  -1. 178.  25.]\n",
      " [ -1.  -1. 195. 200.]] Debug###\n",
      "[[ -1.  86.  20.   3.]\n",
      " [ -1.  86. 158.   9.]\n",
      " [ -1. 180. 178.  25.]\n",
      " [ -1. 200. 195. 200.]] Debug###\n",
      "[[100.  86.  20.   3.]\n",
      " [192.  86. 158.   9.]\n",
      " [198. 180. 178.  25.]\n",
      " [244. 200. 195. 200.]] Debug###\n",
      " >> error 정정\n",
      "[[198. 200. 178.   3.]\n",
      " [100.  86.  20.   9.]\n",
      " [192. 180. 158.  25.]\n",
      " [244.  86. 195. 200.]] Debug###\n",
      "[[100.  86.  20.   9.]\n",
      " [192. 180. 158.  25.]\n",
      " [198. 200. 178.   3.]\n",
      " [244.  86. 195. 200.]] Debug###\n",
      "[[100.  86.  20.   9.]\n",
      " [244.  86. 195. 200.]\n",
      " [192. 180. 158.  25.]\n",
      " [198. 200. 178.   3.]] Debug###\n",
      "[[100.  86.  20.   9.]\n",
      " [192. 180. 158.  25.]\n",
      " [198. 200. 178.   3.]\n",
      " [244.  86. 195. 200.]] Debug###\n"
     ]
    }
   ],
   "source": [
    "import numpy as np\n",
    "# n = 4, d = 3 inputs \n",
    "#A = np.array([[2,4,6],[9,2,5],[2,3,8],[9,2,3]])\n",
    "A = np.array([[244,86,195,200],[198,200,178,3],[192,180,158,25],[100,86,20,9]])\n",
    "\n",
    "radix_sort_error(A,len(A[0]))\n",
    "print(\" >> error 정정\")\n",
    "radix_sort(A,len(A[0]))"
   ]
  },
  {
   "cell_type": "markdown",
   "metadata": {},
   "source": [
    "# bucket sort \n",
    "\n",
    "assume that inputs ∋ [0,1) and inputs are generated by random process \n",
    "\n",
    "average running time: O(n)\n",
    "\n",
    "버켓에 list형식으로 담아 정렬한다. "
   ]
  },
  {
   "cell_type": "code",
   "execution_count": 29,
   "metadata": {},
   "outputs": [],
   "source": [
    "import math\n",
    "import numpy as np\n",
    "\n",
    "def bucket_sort(A):\n",
    "    n = len(A)\n",
    "    B = [None] * n\n",
    "    C = []\n",
    "    \n",
    "    # O(n) \n",
    "    for i in range(n):\n",
    "        B[i] = list([])\n",
    "    for i in range(n):\n",
    "        B[math.floor(n*A[i])].append(A[i])  \n",
    "        \n",
    "    #     \n",
    "    for i in range(n):\n",
    "        B[i].sort()\n",
    "    \n",
    "    # concatenate the lists B[0..n-1] togeter in order \n",
    "    for i in range(n):\n",
    "        if B[i] != []:\n",
    "            for j in range(len(B[i])):\n",
    "                C.append(B[i][j])\n",
    "    return C"
   ]
  },
  {
   "cell_type": "code",
   "execution_count": null,
   "metadata": {},
   "outputs": [],
   "source": [
    "import random\n",
    "A = [None] * 10\n",
    "for i in range(len(A)):\n",
    "    A[i] = random.random()\n",
    "print(A)\n",
    "print(\"#### sorting후\")    \n",
    "bucket_sort(A)\n",
    "\n"
   ]
  },
  {
   "cell_type": "markdown",
   "metadata": {},
   "source": [
    "# i th order statistic "
   ]
  },
  {
   "cell_type": "markdown",
   "metadata": {},
   "source": [
    "# using array(insertion sort)\n",
    "\n",
    "index >= 1"
   ]
  },
  {
   "cell_type": "code",
   "execution_count": 84,
   "metadata": {},
   "outputs": [],
   "source": [
    "# increasing order version \n",
    "def insertion_sort(a):\n",
    "    for j in range(1, len(a)):\n",
    "        key = a[j]\n",
    "        i = j - 1\n",
    "        #그전 순서보다 현재가 크면 swap하며 while문을 돌게 된다. 아니면, remain \n",
    "        while i >= 0 and a[i] > key:    \n",
    "            a[i + 1] = a[i]\n",
    "            i -= 1\n",
    "        a[i + 1] = key"
   ]
  },
  {
   "cell_type": "code",
   "execution_count": 148,
   "metadata": {},
   "outputs": [],
   "source": [
    "# increasing order version   : ith smallest order element\n",
    "def find_ith_order_with_insertion_sort(A,index):\n",
    "    R = [None]*index\n",
    "    i = 0\n",
    "    \n",
    "    for j in range(len(A)):\n",
    "    \n",
    "        if j <= index - 1:\n",
    "            R[j] = A[j]\n",
    "            key = R[j]\n",
    "            i = j - 1\n",
    "        else:\n",
    "            if R[index - 1] >= A[j]:\n",
    "                R[index - 1] = A[j]\n",
    "            key = R[index - 1]\n",
    "            i = index - 2 \n",
    "            \n",
    "        while i>=0 and R[i] > key:\n",
    "            R[i+1] = R[i]\n",
    "            i -= 1\n",
    "            R[i + 1] = key \n",
    "        #print(R)\n",
    "    return R[index-1]"
   ]
  },
  {
   "cell_type": "code",
   "execution_count": 151,
   "metadata": {},
   "outputs": [
    {
     "name": "stdout",
     "output_type": "stream",
     "text": [
      "5\n"
     ]
    },
    {
     "data": {
      "text/plain": [
       "[1, 2, 3, 4, 5, 6, 9, 10, 11, 12, 13, 15]"
      ]
     },
     "execution_count": 151,
     "metadata": {},
     "output_type": "execute_result"
    }
   ],
   "source": [
    "A  = [3,2,1,6,13,5,12,15,11,10,4,9]\n",
    "\n",
    "print(find_ith_order_with_insertion_sort(A,5))\n",
    "insertion_sort(A)\n",
    "A"
   ]
  },
  {
   "cell_type": "markdown",
   "metadata": {},
   "source": [
    "# using heap "
   ]
  },
  {
   "cell_type": "code",
   "execution_count": 188,
   "metadata": {},
   "outputs": [],
   "source": [
    "# Find ith smallest order element\n",
    "def find_ith_order_with_heap(A,index):\n",
    "    h = heap(A[0:index]) \n",
    "    h.build_max_heap()\n",
    "    \n",
    "    for j in range(index,len(A)):\n",
    "        if h.h[0] > A[j]:\n",
    "            h.h[0] = A[j]\n",
    "            #print(A[j], \"insert !! and heapify \")\n",
    "            h.max_heapify(0)\n",
    "            #print(h.h, \"result\")\n",
    "        #print(h.h)\n",
    "    return h.h[0]"
   ]
  },
  {
   "cell_type": "code",
   "execution_count": 196,
   "metadata": {},
   "outputs": [
    {
     "data": {
      "text/plain": [
       "(41, 'c')"
      ]
     },
     "execution_count": 196,
     "metadata": {},
     "output_type": "execute_result"
    }
   ],
   "source": [
    "#A = [3,2,1,6,13,5,12,15,11,10,4,9]\n",
    "A = [(31,'b'),(41,'c'),(59,'f'),(26,'a'),(41,'d'),(58,'e')]\n",
    "find_ith_order_with_heap(A,3)"
   ]
  },
  {
   "cell_type": "markdown",
   "metadata": {},
   "source": [
    "# using quick sort \n",
    "\n",
    "using devide and conquer technique\n",
    "\n",
    "index >=1\n",
    "\n",
    "randomized partition을 쓰면 E[T(n)] = O(n)"
   ]
  },
  {
   "cell_type": "code",
   "execution_count": 205,
   "metadata": {},
   "outputs": [],
   "source": [
    "# increasing order \n",
    "def partition(a, p, r):\n",
    "    x = a[r]\n",
    "    i = p - 1\n",
    "    \n",
    "    # for 문에서 linear searching을 하며, a[p..r-1] 을 p[r]과 비교하여 작으면 왼쪽, 크면 오른쪽으로 partitioning : O(n)\n",
    "    for j in range(p, r):\n",
    "        if a[j] <= x: # inequality 반대로 reverse \n",
    "            i += 1\n",
    "            a[i], a[j] = a[j], a[i]\n",
    "        \n",
    "    i += 1\n",
    "    a[i], a[r] = a[r], a[i]\n",
    "    return i\n",
    "\n",
    "def randomized_partition(a, p, r):\n",
    "    i = random.randint(p, r)\n",
    "    a[r], a[i] = a[i], a[r]\n",
    "    return partition(a, p, r)\n",
    "\n",
    "def quicksort(a, p, r):\n",
    "    if p < r :   # p >= r 이 되면 종료 \n",
    "        q = partition(a, p, r)\n",
    "        quicksort(a, p, q -1)              \n",
    "        quicksort(a, q + 1, r)"
   ]
  },
  {
   "cell_type": "code",
   "execution_count": 206,
   "metadata": {},
   "outputs": [],
   "source": [
    "def find_ith_order_with_qick(A,p,r,i):\n",
    "    if p == r:\n",
    "        return A[p]\n",
    "    q = partition(A,p,r)\n",
    "    k = q - p + 1       # [1 ..p p+1 ..r] 에서 k는 p .. r 까지의 갯수 \n",
    "    \n",
    "    if i == k: \n",
    "        return A[q]\n",
    "    \n",
    "    elif i < k:\n",
    "        return find_ith_order_with_qick(A,p,q-1,i)\n",
    "    else:\n",
    "        return find_ith_order_with_qick(A,q+1,r,i-k)\n",
    "        \n",
    "def find_ith_order_with_randomqick(A,p,r,i):\n",
    "    if p == r:\n",
    "        return A[p]\n",
    "    q = randomized_partition(A,p,r)\n",
    "    k = q - p + 1       # [1 ..p p+1 ..r] 에서 k는 p .. r 까지의 갯수 \n",
    "    \n",
    "    if i == k: \n",
    "        return A[q]\n",
    "    \n",
    "    elif i < k:\n",
    "        return find_ith_order_with_qick(A,p,q-1,i)\n",
    "    else:\n",
    "        return find_ith_order_with_qick(A,q+1,r,i-k)\n",
    "        "
   ]
  },
  {
   "cell_type": "code",
   "execution_count": 210,
   "metadata": {},
   "outputs": [
    {
     "name": "stdout",
     "output_type": "stream",
     "text": [
      "10\n",
      "10\n"
     ]
    }
   ],
   "source": [
    "A = [3,2,1,6,13,5,12,15,11,10,4,9]\n",
    "print(find_ith_order_with_qick(A,0,11,8))\n",
    "print(find_ith_order_with_randomqick(A,0,11,8))"
   ]
  }
 ],
 "metadata": {
  "kernelspec": {
   "display_name": "Python 3",
   "language": "python",
   "name": "python3"
  },
  "language_info": {
   "codemirror_mode": {
    "name": "ipython",
    "version": 3
   },
   "file_extension": ".py",
   "mimetype": "text/x-python",
   "name": "python",
   "nbconvert_exporter": "python",
   "pygments_lexer": "ipython3",
   "version": "3.5.2"
  }
 },
 "nbformat": 4,
 "nbformat_minor": 2
}
