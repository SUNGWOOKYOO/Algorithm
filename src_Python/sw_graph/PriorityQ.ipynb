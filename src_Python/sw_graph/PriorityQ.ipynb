{
 "cells": [
  {
   "cell_type": "markdown",
   "metadata": {},
   "source": [
    "# Priority Queue implementation for Graph algorithm"
   ]
  },
  {
   "cell_type": "code",
   "execution_count": 1,
   "metadata": {},
   "outputs": [
    {
     "name": "stdout",
     "output_type": "stream",
     "text": [
      "/home/swyoo\n",
      "\u001b[0m\u001b[01;34mDesktop\u001b[0m/    \u001b[01;34mDownloads\u001b[0m/     examples.desktop  \u001b[01;34mPictures\u001b[0m/  \u001b[01;34mTemplates\u001b[0m/\n",
      "\u001b[01;34mDocuments\u001b[0m/  \u001b[01;34menvironments\u001b[0m/  \u001b[01;34mMusic\u001b[0m/            \u001b[01;34mPublic\u001b[0m/    \u001b[01;34mVideos\u001b[0m/\n",
      "/home/swyoo/environments/my_env/CLRS-master/swyoo/sw_graph\n",
      "ApSP_FindingSP.ipynb      PriorityQ.py\n",
      "ApSP_FloydWarshall.ipynb  \u001b[0m\u001b[01;34m__pycache__\u001b[0m/\n",
      "ApSP_Johnson.ipynb        SsSP_BellmanFord.ipynb\n",
      "BasicGraph.ipynb          SsSP_DAG.ipynb\n",
      "BasicGraph.py             SsSP_Dijkstra.ipynb\n",
      "BFS.ipynb                 SsSP_Relaxation .ipynb\n",
      "DFS.ipynb                 StronglyConnectedComponents.ipynb\n",
      "MST_Kruskal.ipynb         TopologicalSort.ipynb\n",
      "MST_Prim.ipynb            WeightGraph.ipynb\n",
      "PriorityQ.ipynb           WeightGraph.py\n"
     ]
    }
   ],
   "source": [
    "%cd \n",
    "%ls\n",
    "%cd environments/my_env/CLRS-master/swyoo/sw_graph\n",
    "%ls"
   ]
  },
  {
   "cell_type": "code",
   "execution_count": 3,
   "metadata": {},
   "outputs": [
    {
     "name": "stdout",
     "output_type": "stream",
     "text": [
      "Overwriting PriorityQ.py\n"
     ]
    }
   ],
   "source": [
    "%%writefile PriorityQ.py\n",
    "\n",
    "class heap:\n",
    "    \n",
    "    def __init__(self,a):\n",
    "        self.heap_size = len(a) - 1 # index 는 0 ~ len(a) - 1 이므로 \n",
    "        \n",
    "        # mutable variable \n",
    "        self.h = a \n",
    "    \n",
    "    # Binary shifting 으로 생각  python 에서는 index 0 부터 사용 하므로 \n",
    "    def parent(self,i):\n",
    "        if i <= self.heap_size:\n",
    "            return (i - 1) >> 1 \n",
    "        else: return i # heapify 연산에서 if 문에서 비교 연산에 대해 결과가 Flase가 나와야하고, 마지막에 i로 largest(smalliest) 결정\n",
    "\n",
    "\n",
    "    def left(self, i):\n",
    "        if (((i << 1) + 1) <= self.heap_size):\n",
    "            return (i << 1) + 1  # 2 곱함 ; index 0부터 시작이므로 +1\n",
    "        else: return i \n",
    "\n",
    "    def right(self, i):\n",
    "        if (((i<<1) + 2) <= self.heap_size):\n",
    "            return (i << 1) + 2 # 2 곱하고 1더함 ; ndex 0부터 시작이므로 +1\n",
    "        else: return i \n",
    "\n",
    "    \n",
    "    def min_heapify(self, i):\n",
    "     \n",
    "        # smallest = argmin{a[i] , a[l], a[r]} \n",
    "        l, r = self.left(i), self.right(i) \n",
    "        if (l <= len(self.h)) and (self.h[l] < self.h[i]):\n",
    "            smallest = l\n",
    "        else: smallest = i \n",
    "        if (r <= len(self.h)) and (self.h[r] < self.h[smallest]):\n",
    "            smallest = r\n",
    "    \n",
    "        # i 가 smallest 가 아니라면 a[smallest] 와 swap     \n",
    "        if smallest != i:\n",
    "            self.h[i], self.h[smallest] = self.h[smallest], self.h[i] # swape a[i] with a[min_idx]\n",
    "            self.min_heapify(smallest)             # recursive call \n",
    "    \n",
    "        # worst case running time : O(lgn)   \n",
    "    \n",
    "    def build_min_heap(self):\n",
    "        self.heap_size = len(self.h) - 1\n",
    "        for i in range((len(self.h)-1)//2,-1,-1):\n",
    "            self.min_heapify(i)\n",
    "            \n",
    "        #running time : O(nlgn ) -> tighter upper bound : O(n)\n",
    "            \n",
    "    def size(self):\n",
    "        return (self.heap_size + 1)\n",
    "            \n",
    "    \"\"\" heap sort implementation using heap\"\"\"\n",
    "    def heapsort(self):\n",
    "        \n",
    "        # using min heap \n",
    "        self.build_min_heap()                     # min heap 을 만들고, \n",
    "        for i in range(len(self.h)-1, -1, -1):          # for loop 에서 heap property를 유지시키며, decreasing order로 sorting \n",
    "            self.h[0], self.h[i] = self.h[i], self.h[0]                # 그 과정에서 heap에 들어간 array는 점점 줄어든다. \n",
    "            self.heap_size = self.heap_size - 1    # [[ heap영역      ]  sorting된 data]  : total data\n",
    "            self.min_heapify(0)                  # [[null]   sorting completed       ]\n",
    "        # running time : O(nlgn)\n",
    "        \n",
    "        return self.h\n",
    "    \n",
    "class priority_queue(heap):\n",
    "    \n",
    "    def __init__(self, a):\n",
    "        self.heap_size = len(a) - 1 # index 는 0 ~ len(a) - 1 이므로 \n",
    "        \n",
    "        # self.h have to always maintain min-heap property\n",
    "        # self.h is a mutable type \n",
    "        self.h = a\n",
    "        self.build_min_heap()  \n",
    "    \n",
    "    \n",
    "    # ※ self.h 는 min heap property를 만족하는 array여야 한다.\n",
    "    def heap_minimum(self):\n",
    "        return self.h[0]\n",
    "    \n",
    "    def heap_extract_min(self):\n",
    "        if self.heap_size < 0:\n",
    "            print(\"heap underflow: empty array\")\n",
    "            return None\n",
    "        mn = self.h[0] # heap 에 root 에 있는 min 값 \n",
    "        \n",
    "        # mn 값을 빼왔으니, 제일 뒤에있는 index에 있는 element를 빼와서 haep property를 만족하도록 한다.\n",
    "        self.h[0] = self.h[len(self.h) - 1]\n",
    "        self.heap_size = self.heap_size - 1\n",
    "        self.min_heapify(0)\n",
    "        \n",
    "        del self.h[self.heap_size + 1]\n",
    "\n",
    "        #runnig time: O(lgn)\n",
    "        return mn \n",
    "         \n",
    "    \n",
    "    \n",
    "    \"\"\" prim Algorithm을 위해 정의(Dijkstra algorithm에서도 쓰임) \n",
    "        key_update는 decrease_key function과 동일하게 동작한다. \n",
    "        decrease key는 O(lgn)시간이 걸리도록 할 수 있지만, \n",
    "        tuple의 값에 대해서 구현하기 어려워서 brutal force 방식으로 만듦 \n",
    "    \"\"\"\n",
    "    # heap property를 만족시키면서 self.h[idex]의 (key, value) = item 을 바꿈  \n",
    "    def key_update(self, idex, newitem):\n",
    "        if idex == None:\n",
    "            return \n",
    "        self.h[idex] = newitem\n",
    "        self.build_min_heap()   \n",
    "        \n",
    "    def find_index(self, value):\n",
    "        for k in range(self.size()):\n",
    "            if self.h[k][1] == value:\n",
    "                return k \n",
    "            \n",
    "    def heap_included(self, v):\n",
    "        for k in range(self.size()):\n",
    "            if self.h[k][1] == v:\n",
    "                return True \n",
    "            \n",
    "print(\"I'm Priority Queue for Graph Algorithm\")"
   ]
  },
  {
   "cell_type": "code",
   "execution_count": 4,
   "metadata": {},
   "outputs": [
    {
     "name": "stdout",
     "output_type": "stream",
     "text": [
      "BasicGraph.ipynb  DFS.ipynb        \u001b[0m\u001b[01;34m__pycache__\u001b[0m/\r\n",
      "BasicGraph.py     PriorityQ.ipynb  StronglyConnectedComponents.ipynb\r\n",
      "BFS.ipynb         PriorityQ.py     TopologicalSort.ipynb\r\n"
     ]
    }
   ],
   "source": [
    "%ls"
   ]
  },
  {
   "cell_type": "code",
   "execution_count": 6,
   "metadata": {},
   "outputs": [
    {
     "name": "stdout",
     "output_type": "stream",
     "text": [
      "I'm Priority Queue for Graph Algorithm\n"
     ]
    }
   ],
   "source": [
    "%run PriorityQ.py"
   ]
  },
  {
   "cell_type": "code",
   "execution_count": 7,
   "metadata": {},
   "outputs": [
    {
     "data": {
      "text/plain": [
       "'/home/swyoo/environments/my_env/CLRS-master/swyoo/sw_graph'"
      ]
     },
     "execution_count": 7,
     "metadata": {},
     "output_type": "execute_result"
    }
   ],
   "source": [
    "%pwd"
   ]
  },
  {
   "cell_type": "code",
   "execution_count": 9,
   "metadata": {},
   "outputs": [],
   "source": [
    "import PriorityQ"
   ]
  },
  {
   "cell_type": "code",
   "execution_count": 11,
   "metadata": {},
   "outputs": [],
   "source": [
    "pq = priority_queue([3,2])"
   ]
  }
 ],
 "metadata": {
  "kernelspec": {
   "display_name": "Python 3",
   "language": "python",
   "name": "python3"
  },
  "language_info": {
   "codemirror_mode": {
    "name": "ipython",
    "version": 3
   },
   "file_extension": ".py",
   "mimetype": "text/x-python",
   "name": "python",
   "nbconvert_exporter": "python",
   "pygments_lexer": "ipython3",
   "version": "3.5.2"
  }
 },
 "nbformat": 4,
 "nbformat_minor": 2
}
