{
 "cells": [
  {
   "cell_type": "markdown",
   "metadata": {},
   "source": [
    "# Topological sort \n",
    "\n",
    "running time O(V + E) using DFS"
   ]
  },
  {
   "cell_type": "code",
   "execution_count": 2,
   "metadata": {},
   "outputs": [
    {
     "name": "stdout",
     "output_type": "stream",
     "text": [
      "hi! I'm BasicGraph.py file \n"
     ]
    }
   ],
   "source": [
    "%pwd\n",
    "import BasicGraph\n",
    "%run BasicGraph.py"
   ]
  },
  {
   "cell_type": "code",
   "execution_count": 4,
   "metadata": {},
   "outputs": [],
   "source": [
    "\"\"\" DFS Algorithm running time : Θ(|V|+ |E|), 왜냐면, white 인 경우만 DFS_vist을 하므로\"\"\"\n",
    "# except DFS_vist, T = Θ(|V|)\n",
    "def DFS(G, a = []): # a = [] 이면 순서를 dict.keys() 순으로, o.w list (a)  순으로 searching \n",
    "    \n",
    "    # running time O(V + E)\n",
    "    \n",
    "    for u in list(G.graph_dict.keys()):   \n",
    "        G.nm[u].color = 'white'\n",
    "        G.nm[u].pi = None\n",
    "        \n",
    "    G.time = 0\n",
    "    \n",
    "    print(\"Debug sorting \", a)\n",
    "    if a == []:\n",
    "        print(G.graph_dict.keys(),\" 순으로 searching 하게 된다.\")\n",
    "        for u in list(G.graph_dict.keys()): \n",
    "            if G.nm[u].color == 'white':\n",
    "                DFS_visit(G,u)\n",
    "    else:\n",
    "        print(a,\" 순으로 searching 하게 된다.\")\n",
    "        for u in a: \n",
    "            if G.nm[u].color == 'white':\n",
    "                DFS_visit(G,u)\n",
    "    \n",
    "    for x in list(G.graph_dict.keys()):\n",
    "        print(\"vertex name: \", G.nm[x].name)\n",
    "        print(\"color 값: \", G.nm[x].color)\n",
    "        print(\"d 값: \", G.nm[x].d)\n",
    "        print(\"f 값: \", G.nm[x].f)\n",
    "        print(\"pi 값: \", G.nm[x].pi)\n",
    "    \n",
    "# each DFS_vist, T = Θ(|V|)    \n",
    "def DFS_visit(G,u):\n",
    "    G.time  = G.time + 1 \n",
    "    G.nm[u].d = G.time \n",
    "    G.nm[u].color = 'gray'\n",
    "    \n",
    "    print(G.graph_dict[u] ,\" 순으로 vertex\", u, \" 의 adjoint list를 searching 하게 된다.\")\n",
    "    for v in list(G.graph_dict[u]):\n",
    "        if G.nm[v].color == 'white':\n",
    "            G.nm[v].pi  = u\n",
    "            DFS_visit(G,v)\n",
    "    G.nm[u].color = 'black'\n",
    "    G.time = G.time + 1 \n",
    "    G.nm[u].f = G.time    "
   ]
  },
  {
   "cell_type": "code",
   "execution_count": 5,
   "metadata": {},
   "outputs": [],
   "source": [
    "import operator\n",
    "\n",
    "# graph 에서 모든 edge들의 우선순위를 지켜주는 linear ordering 을 찾아 주었다. \n",
    "# DAG(directed Acyclic graph) 에서 사용 \n",
    "def Topological_sort(G,l = []):\n",
    "    \n",
    "    print(\"Topological_sort사용\")\n",
    "    DFS(G,l)\n",
    "    \n",
    "    #print(G.nodes) \n",
    "    #print(G.nm)\n",
    "\n",
    "    # node object로 dictionary 만듦a\n",
    "    topo = {}\n",
    "    for k in range(len(list(G.graph_dict.keys()))):\n",
    "        topo[G.nodes[k].name] = G.nodes[k].f\n",
    "    \n",
    "    print(topo, \"topo값 \")\n",
    "    temp = sorted(topo.items(), key = operator.itemgetter(1), reverse = True)\n",
    "    print(temp, \"temp 길이 \", len(temp),\"sort 이후 \")\n",
    "    \n",
    "    srt = []\n",
    "    for m in range(0,len(temp)):\n",
    "        srt.append(temp[m][0])\n",
    "    \n",
    "    print(srt, \"Topological sort 결과 \")\n",
    "    \n",
    "    return srt "
   ]
  },
  {
   "cell_type": "code",
   "execution_count": 6,
   "metadata": {},
   "outputs": [
    {
     "name": "stdout",
     "output_type": "stream",
     "text": [
      "Topological_sort사용\n",
      "Debug sorting  ['u', 'v', 'x', 'y', 'w', 'z']\n",
      "['u', 'v', 'x', 'y', 'w', 'z']  순으로 searching 하게 된다.\n",
      "{'x', 'v'}  순으로 vertex u  의 adjoint list를 searching 하게 된다.\n",
      "{'v'}  순으로 vertex x  의 adjoint list를 searching 하게 된다.\n",
      "{'y'}  순으로 vertex v  의 adjoint list를 searching 하게 된다.\n",
      "{'x'}  순으로 vertex y  의 adjoint list를 searching 하게 된다.\n",
      "{'y', 'z'}  순으로 vertex w  의 adjoint list를 searching 하게 된다.\n",
      "{'z'}  순으로 vertex z  의 adjoint list를 searching 하게 된다.\n",
      "vertex name:  x\n",
      "color 값:  black\n",
      "d 값:  2\n",
      "f 값:  7\n",
      "pi 값:  u\n",
      "vertex name:  y\n",
      "color 값:  black\n",
      "d 값:  4\n",
      "f 값:  5\n",
      "pi 값:  v\n",
      "vertex name:  v\n",
      "color 값:  black\n",
      "d 값:  3\n",
      "f 값:  6\n",
      "pi 값:  x\n",
      "vertex name:  w\n",
      "color 값:  black\n",
      "d 값:  9\n",
      "f 값:  12\n",
      "pi 값:  None\n",
      "vertex name:  u\n",
      "color 값:  black\n",
      "d 값:  1\n",
      "f 값:  8\n",
      "pi 값:  None\n",
      "vertex name:  z\n",
      "color 값:  black\n",
      "d 값:  10\n",
      "f 값:  11\n",
      "pi 값:  w\n",
      "{'x': 7, 'y': 5, 'v': 6, 'w': 12, 'u': 8, 'z': 11} topo값 \n",
      "[('w', 12), ('z', 11), ('u', 8), ('x', 7), ('v', 6), ('y', 5)] temp 길이  6 sort 이후 \n",
      "['w', 'z', 'u', 'x', 'v', 'y'] Topological sort 결과 \n",
      "['w', 'z', 'u', 'x', 'v', 'y']\n"
     ]
    }
   ],
   "source": [
    "g = {'u': set(['v', 'x']),\n",
    "     'v': set(['y']),\n",
    "     'w': set(['y', 'z']),\n",
    "     'x': set(['v']),\n",
    "     'y': set(['x']),\n",
    "     'z': set(['z'])}\n",
    "\n",
    "G=Graph(g)\n",
    "\n",
    "a = []\n",
    "a = Topological_sort(G,['u','v','x','y','w','z'])\n",
    "print(a)\n",
    "\n",
    "# ※ search 순서에 따라 다른 값을 가지게 된다! \n"
   ]
  }
 ],
 "metadata": {
  "kernelspec": {
   "display_name": "Python 3",
   "language": "python",
   "name": "python3"
  },
  "language_info": {
   "codemirror_mode": {
    "name": "ipython",
    "version": 3
   },
   "file_extension": ".py",
   "mimetype": "text/x-python",
   "name": "python",
   "nbconvert_exporter": "python",
   "pygments_lexer": "ipython3",
   "version": "3.5.2"
  }
 },
 "nbformat": 4,
 "nbformat_minor": 2
}
