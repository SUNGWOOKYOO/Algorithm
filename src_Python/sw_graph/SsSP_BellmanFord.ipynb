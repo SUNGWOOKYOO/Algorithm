{
 "cells": [
  {
   "cell_type": "markdown",
   "metadata": {},
   "source": [
    "# BellmanFord Algorithm \n",
    "\n",
    "기본가정: no negative weight cycle \n",
    "\n",
    "running time: \n",
    "T = O(|V||E|)"
   ]
  },
  {
   "cell_type": "code",
   "execution_count": 2,
   "metadata": {},
   "outputs": [],
   "source": [
    "import WeightGraph\n",
    "%run WeightGraph.py"
   ]
  },
  {
   "cell_type": "code",
   "execution_count": 3,
   "metadata": {},
   "outputs": [],
   "source": [
    "def BellmanFord(G,s):\n",
    "    srt = G.sort_edge()\n",
    "    \n",
    "    G.initialize_single_source('s')\n",
    "    \n",
    "    \"\"\" Finding the single src shortest parth from s to each vertex\"\"\"\n",
    "    # iteration |V| - 1 \n",
    "    for i in range(len(G.graph_dict.keys())):           # O(V) * \n",
    "        # each edge (u,v) ∈ G.E\n",
    "        for [u,v] in srt:                               # O(E)\n",
    "               G.relax(u,v)           \n",
    "        \n",
    "    # test whether ∃ negative weight cycle \n",
    "    for [u,v] in srt:\n",
    "        if G.nm[v].d > G.nm[u].d + G.nm[u].edge[v]:\n",
    "            return False\n",
    "    \n",
    "    # T = O(|V||E|)\n",
    "    return True"
   ]
  },
  {
   "cell_type": "code",
   "execution_count": 4,
   "metadata": {},
   "outputs": [
    {
     "name": "stdout",
     "output_type": "stream",
     "text": [
      "※ BellmanFord Algorithm result :  True\n",
      "{'x': {'t'}, 'y': {'x', 'z'}, 's': {'y', 't'}, 't': {'x', 'z', 'y'}, 'z': {'x', 's'}}\n",
      " node dictionary : \n",
      "{'x': <__main__.node object at 0x7fc3780eb128>, 'y': <__main__.node object at 0x7fc3780eb160>, 's': <__main__.node object at 0x7fc3780eb0b8>, 't': <__main__.node object at 0x7fc3780eb0f0>, 'z': <__main__.node object at 0x7fc3780eb198>}\n",
      ">> [  x  node Info] : \n",
      "x , edge:  {'t': -2}\n",
      "x , pi:  y\n",
      "x , d:  4\n",
      ">> [  y  node Info] : \n",
      "y , edge:  {'x': -3, 'z': 9}\n",
      "y , pi:  s\n",
      "y , d:  7\n",
      ">> [  s  node Info] : \n",
      "s , edge:  {'y': 7, 't': 6}\n",
      "s , pi:  None\n",
      "s , d:  0\n",
      ">> [  t  node Info] : \n",
      "t , edge:  {'x': 5, 'z': -4, 'y': 8}\n",
      "t , pi:  x\n",
      "t , d:  2\n",
      ">> [  z  node Info] : \n",
      "z , edge:  {'x': 7, 's': 2}\n",
      "z , pi:  t\n",
      "z , d:  -2\n"
     ]
    }
   ],
   "source": [
    "vertices = ['s','t','x','y','z']\n",
    "edges = [{'t','y'},{'x','y','z'},{'t'},{'x','z'},{'s','x'}]\n",
    "weights = [{'t': 6, 'y': 7 }, {'x': 5  ,'y': 8 ,'z': -4 }, {'t': -2 }, {'x': -3 ,'z': 9 }, {'s': 2 ,'x': 7 }]\n",
    "g = {}\n",
    "w = {}\n",
    "k = 0\n",
    "for v in (vertices):\n",
    "    g[v] = edges[k]\n",
    "    w[v] = weights[k]  \n",
    "    k = k + 1\n",
    "\n",
    "G = Graph(g,w)\n",
    "print(\"※ BellmanFord Algorithm result : \", BellmanFord(G,'s'))\n",
    "G.showinfo()"
   ]
  }
 ],
 "metadata": {
  "kernelspec": {
   "display_name": "Python 3",
   "language": "python",
   "name": "python3"
  },
  "language_info": {
   "codemirror_mode": {
    "name": "ipython",
    "version": 3
   },
   "file_extension": ".py",
   "mimetype": "text/x-python",
   "name": "python",
   "nbconvert_exporter": "python",
   "pygments_lexer": "ipython3",
   "version": "3.5.2"
  }
 },
 "nbformat": 4,
 "nbformat_minor": 2
}
