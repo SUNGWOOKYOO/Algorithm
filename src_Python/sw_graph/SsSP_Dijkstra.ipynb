{
 "cells": [
  {
   "cell_type": "markdown",
   "metadata": {},
   "source": [
    "# Dijkstra's Algorithm \n",
    "\n",
    "모든 edge가 non negative 이어야한다. \n",
    "\n",
    "using priority Queue \n",
    "\n",
    "running time : O(( |V| + |E| )lg|V| )"
   ]
  },
  {
   "cell_type": "code",
   "execution_count": 2,
   "metadata": {},
   "outputs": [
    {
     "name": "stdout",
     "output_type": "stream",
     "text": [
      "I'm Priority Queue for Graph Algorithm\n"
     ]
    }
   ],
   "source": [
    "import PriorityQ\n",
    "%run PriorityQ.py\n",
    "import WeightGraph\n",
    "%run WeightGraph.py"
   ]
  },
  {
   "cell_type": "code",
   "execution_count": 3,
   "metadata": {},
   "outputs": [],
   "source": [
    "def Dijstra(G,s):\n",
    "    G.initialize_single_source(s)\n",
    "    S = []\n",
    "    \n",
    "    D = []\n",
    "    for v in list(G.graph_dict.keys()): \n",
    "        D.append((G.nm[v].d, G.nm[v].name))\n",
    "    Q = priority_queue(D)                   \n",
    "    print(Q.h)\n",
    "    \n",
    "    while Q.size() != 0: \n",
    "        \n",
    "        u = Q.heap_extract_min()[1]                      # O(VlgV)\n",
    "        print(\" >> \", u, \" vertex 꺼냄\")\n",
    "        S.append(u)\n",
    "        \n",
    "        # relaxation을 통해 v.d 를 update 한다.(queue의 값 역시 update 필요)\n",
    "        # for each vertex v ∈ G.adj[u]\n",
    "        for v in list(G.graph_dict[u]):                   #\n",
    "            G.relax(u,v)\n",
    "            #print(Q.find_index(v), (G.nm[v].d, v))\n",
    "            Q.key_update(Q.find_index(v),(G.nm[v].d, v))  #  O(ElgV)\n",
    "        \n",
    "        print(Q.h)\n",
    "        print(\" >> Q's size: \", Q.size())   \n",
    "    \n",
    "    print(\"shortest path가 결정된 vertices set : \",S)\n",
    "    # running time : O(( |V| + |E| )lg|V| )"
   ]
  },
  {
   "cell_type": "code",
   "execution_count": 5,
   "metadata": {},
   "outputs": [],
   "source": [
    "vertices = ['s','t','x','y','z']\n",
    "edges = [{'t','y'},{'x','y'},{'z'},{'t','x','z'},{'s','x'}]\n",
    "weights = [{'t':10,'y':5},{'x':1,'y':2},{'z':4},{'t':3,'x':9,'z':2},{'s':7,'x':6}]\n",
    "g = {}\n",
    "w = {}\n",
    "k = 0\n",
    "for v in (vertices):\n",
    "    g[v] = edges[k]\n",
    "    w[v] = weights[k]  \n",
    "    k = k + 1\n",
    "G = Graph(g,w)\n"
   ]
  },
  {
   "cell_type": "code",
   "execution_count": 6,
   "metadata": {},
   "outputs": [
    {
     "name": "stdout",
     "output_type": "stream",
     "text": [
      "[(0, 's'), (inf, 't'), (inf, 'z'), (inf, 'y'), (inf, 'x')]\n",
      " >>  s  vertex 꺼냄\n",
      "[(5, 'y'), (10, 't'), (inf, 'z'), (inf, 'x')]\n",
      " >> Q's size:  4\n",
      " >>  y  vertex 꺼냄\n",
      "[(7, 'z'), (14, 'x'), (8, 't')]\n",
      " >> Q's size:  3\n",
      " >>  z  vertex 꺼냄\n",
      "[(8, 't'), (13, 'x')]\n",
      " >> Q's size:  2\n",
      " >>  t  vertex 꺼냄\n",
      "[(9, 'x')]\n",
      " >> Q's size:  1\n",
      " >>  x  vertex 꺼냄\n",
      "[]\n",
      " >> Q's size:  0\n",
      "shortest path가 결정된 vertices set :  ['s', 'y', 'z', 't', 'x']\n",
      "{'z': {'s', 'x'}, 'y': {'z', 't', 'x'}, 's': {'y', 't'}, 't': {'y', 'x'}, 'x': {'z'}}\n",
      " node dictionary : \n",
      "{'z': <__main__.node object at 0x7f9ae039ac18>, 'y': <__main__.node object at 0x7f9ae039abe0>, 's': <__main__.node object at 0x7f9ae039ab38>, 't': <__main__.node object at 0x7f9ae039ab70>, 'x': <__main__.node object at 0x7f9ae039aba8>}\n",
      ">> [  z  node Info] : \n",
      "z , edge:  {'s': 7, 'x': 6}\n",
      "z , pi:  y\n",
      "z , d:  7\n",
      ">> [  y  node Info] : \n",
      "y , edge:  {'z': 2, 't': 3, 'x': 9}\n",
      "y , pi:  s\n",
      "y , d:  5\n",
      ">> [  s  node Info] : \n",
      "s , edge:  {'y': 5, 't': 10}\n",
      "s , pi:  None\n",
      "s , d:  0\n",
      ">> [  t  node Info] : \n",
      "t , edge:  {'y': 2, 'x': 1}\n",
      "t , pi:  y\n",
      "t , d:  8\n",
      ">> [  x  node Info] : \n",
      "x , edge:  {'z': 4}\n",
      "x , pi:  t\n",
      "x , d:  9\n"
     ]
    }
   ],
   "source": [
    "Dijstra(G,'s')\n",
    "G.showinfo()"
   ]
  }
 ],
 "metadata": {
  "kernelspec": {
   "display_name": "Python 3",
   "language": "python",
   "name": "python3"
  },
  "language_info": {
   "codemirror_mode": {
    "name": "ipython",
    "version": 3
   },
   "file_extension": ".py",
   "mimetype": "text/x-python",
   "name": "python",
   "nbconvert_exporter": "python",
   "pygments_lexer": "ipython3",
   "version": "3.5.2"
  }
 },
 "nbformat": 4,
 "nbformat_minor": 2
}
