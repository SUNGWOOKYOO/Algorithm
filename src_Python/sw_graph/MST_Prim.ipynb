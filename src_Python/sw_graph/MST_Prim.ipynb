{
 "cells": [
  {
   "cell_type": "markdown",
   "metadata": {},
   "source": [
    "# Prim's Algorithm "
   ]
  },
  {
   "cell_type": "code",
   "execution_count": 1,
   "metadata": {},
   "outputs": [
    {
     "data": {
      "text/plain": [
       "'/home/swyoo/environments/my_env/CLRS-master/swyoo/sw_graph'"
      ]
     },
     "execution_count": 1,
     "metadata": {},
     "output_type": "execute_result"
    }
   ],
   "source": [
    "%pwd"
   ]
  },
  {
   "cell_type": "code",
   "execution_count": 3,
   "metadata": {},
   "outputs": [
    {
     "name": "stdout",
     "output_type": "stream",
     "text": [
      "I'm Priority Queue for Graph Algorithm\n"
     ]
    }
   ],
   "source": [
    "import WeightGraph\n",
    "%run WeightGraph.py\n",
    "import PriorityQ\n",
    "%run PriorityQ.py"
   ]
  },
  {
   "cell_type": "code",
   "execution_count": 4,
   "metadata": {},
   "outputs": [],
   "source": [
    "def Mst_prim(G,r):\n",
    "    \n",
    "    for u in list(G.graph_dict.keys()):\n",
    "        #G.nm[u].key = random.randrange(1e+10,1e+11)\n",
    "        G.nm[u].key = float('inf')\n",
    "        G.nm[u].pi = None\n",
    "    \n",
    "    G.nm[r].key = 0 \n",
    "    \n",
    "    \n",
    "    data = []\n",
    "    for u in list(G.graph_dict.keys()):\n",
    "        data.append((G.nm[u].key, G.nm[u].name))\n",
    "           \n",
    "    Q = priority_queue(data) \n",
    "    print(Q.h)\n",
    "    \n",
    "    \n",
    "    while Q.size() != 0: \n",
    "\n",
    "        u = Q.heap_extract_min()[1]\n",
    "        print(\" >>>>>\", u,\" vertex 꺼냄\")\n",
    "        \n",
    "        for v in list(G.graph_dict[u]): # adj[u]\n",
    "            \n",
    "            print(u, \"vertex 에 대해서 adjoint list 조사 :  \", v ,\" vertex\")\n",
    "            if Q.heap_included(v) and G.nm[u].edge[v] < G.nm[v].key:\n",
    "                \n",
    "                print(v, \"vertex의 key값 update w(\", u,\", \", v, \") edge 에 대한 값 으로 \" )\n",
    "                G.nm[v].pi = u \n",
    "                G.nm[v].key = G.nm[u].edge[v]\n",
    "        \n",
    "                Q.key_update(Q.find_index(v),(G.nm[v].key, v))\n",
    "            \n",
    "                print(Q.h)\n",
    "                print(\" >> Q's size: \", Q.size()) \n",
    "                "
   ]
  },
  {
   "cell_type": "code",
   "execution_count": 6,
   "metadata": {},
   "outputs": [
    {
     "name": "stdout",
     "output_type": "stream",
     "text": [
      "[(0, 'a'), (inf, 'c'), (inf, 'b'), (inf, 'd'), (inf, 'f'), (inf, 'e'), (inf, 'h'), (inf, 'g'), (inf, 'i')]\n",
      " >>>>> a  vertex 꺼냄\n",
      "a vertex 에 대해서 adjoint list 조사 :   b  vertex\n",
      "b vertex의 key값 update w( a ,  b ) edge 에 대한 값 으로 \n",
      "[(4, 'b'), (inf, 'c'), (inf, 'e'), (inf, 'd'), (inf, 'f'), (inf, 'i'), (inf, 'h'), (inf, 'g')]\n",
      " >> Q's size:  8\n",
      "a vertex 에 대해서 adjoint list 조사 :   h  vertex\n",
      "h vertex의 key값 update w( a ,  h ) edge 에 대한 값 으로 \n",
      "[(4, 'b'), (inf, 'c'), (8, 'h'), (inf, 'd'), (inf, 'f'), (inf, 'i'), (inf, 'e'), (inf, 'g')]\n",
      " >> Q's size:  8\n",
      " >>>>> b  vertex 꺼냄\n",
      "b vertex 에 대해서 adjoint list 조사 :   c  vertex\n",
      "c vertex의 key값 update w( b ,  c ) edge 에 대한 값 으로 \n",
      "[(8, 'c'), (8, 'h'), (inf, 'e'), (inf, 'd'), (inf, 'f'), (inf, 'i'), (inf, 'g')]\n",
      " >> Q's size:  7\n",
      "b vertex 에 대해서 adjoint list 조사 :   h  vertex\n",
      "b vertex 에 대해서 adjoint list 조사 :   a  vertex\n",
      " >>>>> c  vertex 꺼냄\n",
      "c vertex 에 대해서 adjoint list 조사 :   f  vertex\n",
      "f vertex의 key값 update w( c ,  f ) edge 에 대한 값 으로 \n",
      "[(4, 'f'), (8, 'h'), (inf, 'e'), (inf, 'g'), (inf, 'd'), (inf, 'i')]\n",
      " >> Q's size:  6\n",
      "c vertex 에 대해서 adjoint list 조사 :   b  vertex\n",
      "c vertex 에 대해서 adjoint list 조사 :   d  vertex\n",
      "d vertex의 key값 update w( c ,  d ) edge 에 대한 값 으로 \n",
      "[(4, 'f'), (7, 'd'), (inf, 'e'), (inf, 'g'), (8, 'h'), (inf, 'i')]\n",
      " >> Q's size:  6\n",
      "c vertex 에 대해서 adjoint list 조사 :   i  vertex\n",
      "i vertex의 key값 update w( c ,  i ) edge 에 대한 값 으로 \n",
      "[(2, 'i'), (7, 'd'), (4, 'f'), (inf, 'g'), (8, 'h'), (inf, 'e')]\n",
      " >> Q's size:  6\n",
      " >>>>> i  vertex 꺼냄\n",
      "i vertex 에 대해서 adjoint list 조사 :   g  vertex\n",
      "g vertex의 key값 update w( i ,  g ) edge 에 대한 값 으로 \n",
      "[(4, 'f'), (6, 'g'), (inf, 'e'), (7, 'd'), (8, 'h')]\n",
      " >> Q's size:  5\n",
      "i vertex 에 대해서 adjoint list 조사 :   c  vertex\n",
      "i vertex 에 대해서 adjoint list 조사 :   h  vertex\n",
      "h vertex의 key값 update w( i ,  h ) edge 에 대한 값 으로 \n",
      "[(4, 'f'), (6, 'g'), (inf, 'e'), (7, 'd'), (7, 'h')]\n",
      " >> Q's size:  5\n",
      " >>>>> f  vertex 꺼냄\n",
      "f vertex 에 대해서 adjoint list 조사 :   c  vertex\n",
      "f vertex 에 대해서 adjoint list 조사 :   e  vertex\n",
      "e vertex의 key값 update w( f ,  e ) edge 에 대한 값 으로 \n",
      "[(6, 'g'), (7, 'd'), (10, 'e'), (7, 'h')]\n",
      " >> Q's size:  4\n",
      "f vertex 에 대해서 adjoint list 조사 :   d  vertex\n",
      "f vertex 에 대해서 adjoint list 조사 :   g  vertex\n",
      "g vertex의 key값 update w( f ,  g ) edge 에 대한 값 으로 \n",
      "[(2, 'g'), (7, 'd'), (10, 'e'), (7, 'h')]\n",
      " >> Q's size:  4\n",
      " >>>>> g  vertex 꺼냄\n",
      "g vertex 에 대해서 adjoint list 조사 :   f  vertex\n",
      "g vertex 에 대해서 adjoint list 조사 :   i  vertex\n",
      "g vertex 에 대해서 adjoint list 조사 :   h  vertex\n",
      "h vertex의 key값 update w( g ,  h ) edge 에 대한 값 으로 \n",
      "[(1, 'h'), (7, 'd'), (10, 'e')]\n",
      " >> Q's size:  3\n",
      " >>>>> h  vertex 꺼냄\n",
      "h vertex 에 대해서 adjoint list 조사 :   b  vertex\n",
      "h vertex 에 대해서 adjoint list 조사 :   g  vertex\n",
      "h vertex 에 대해서 adjoint list 조사 :   i  vertex\n",
      "h vertex 에 대해서 adjoint list 조사 :   a  vertex\n",
      " >>>>> d  vertex 꺼냄\n",
      "d vertex 에 대해서 adjoint list 조사 :   f  vertex\n",
      "d vertex 에 대해서 adjoint list 조사 :   e  vertex\n",
      "e vertex의 key값 update w( d ,  e ) edge 에 대한 값 으로 \n",
      "[(9, 'e')]\n",
      " >> Q's size:  1\n",
      "d vertex 에 대해서 adjoint list 조사 :   c  vertex\n",
      " >>>>> e  vertex 꺼냄\n",
      "e vertex 에 대해서 adjoint list 조사 :   f  vertex\n",
      "e vertex 에 대해서 adjoint list 조사 :   d  vertex\n"
     ]
    }
   ],
   "source": [
    "g = {'a': set(['b','h']),\n",
    "     'b': set(['a','h','c']),\n",
    "     'c': set(['b', 'i','f','d']),\n",
    "     'd': set(['c','e','f']),\n",
    "     'e': set(['d','f']),\n",
    "     'f': set(['g','c','d','e']),\n",
    "     'g': set(['h','i','f']),\n",
    "     'h': set(['a','b','i','g']),\n",
    "     'i': set(['c','h','g'])}\n",
    "\n",
    "w = {'a': {'b': 4, 'h': 8},\n",
    "     'b': {'a': 4, 'h': 11, 'c': 8},\n",
    "     'c': {'b': 8 , 'i': 2, 'f' : 4 ,'d' : 7},\n",
    "     'd': {'c': 7 ,'e': 9 ,'f': 14 },\n",
    "     'e': {'d': 9 ,'f': 10 },\n",
    "     'f': {'g': 2,'c': 4 ,'d': 14 ,'e': 10 },\n",
    "     'g': {'h': 1 ,'i': 6 ,'f': 2},\n",
    "     'h': {'a': 8 ,'b': 11,'i': 7 ,'g': 1 },\n",
    "     'i': {'c': 2 ,'h': 7,'g': 6}}\n",
    "\n",
    "\n",
    "G = Graph(g,w)\n",
    "Mst_prim(G,'a')\n"
   ]
  },
  {
   "cell_type": "code",
   "execution_count": 7,
   "metadata": {},
   "outputs": [
    {
     "name": "stdout",
     "output_type": "stream",
     "text": [
      "d , pi:  c\n",
      "c , pi:  b\n",
      "h , pi:  g\n",
      "a , pi:  None\n",
      "f , pi:  c\n",
      "e , pi:  d\n",
      "b , pi:  a\n",
      "g , pi:  f\n",
      "i , pi:  c\n"
     ]
    }
   ],
   "source": [
    "for v in list(G.graph_dict.keys()):\n",
    "    print(v, \", pi: \", G.nm[v].pi)"
   ]
  }
 ],
 "metadata": {
  "kernelspec": {
   "display_name": "Python 3",
   "language": "python",
   "name": "python3"
  },
  "language_info": {
   "codemirror_mode": {
    "name": "ipython",
    "version": 3
   },
   "file_extension": ".py",
   "mimetype": "text/x-python",
   "name": "python",
   "nbconvert_exporter": "python",
   "pygments_lexer": "ipython3",
   "version": "3.5.2"
  }
 },
 "nbformat": 4,
 "nbformat_minor": 2
}
