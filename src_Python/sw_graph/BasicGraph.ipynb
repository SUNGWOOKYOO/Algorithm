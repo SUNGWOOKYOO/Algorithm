{
 "cells": [
  {
   "cell_type": "markdown",
   "metadata": {},
   "source": [
    "# Elementary Graph \n",
    "\n",
    "it can be used in elementary graph algorithm part \n",
    "\n",
    "my objective is to use BasicGraph.py whenever I want to make use of it by importing "
   ]
  },
  {
   "cell_type": "code",
   "execution_count": 1,
   "metadata": {},
   "outputs": [
    {
     "name": "stdout",
     "output_type": "stream",
     "text": [
      "/home/swyoo\n",
      "\u001b[0m\u001b[01;34mDesktop\u001b[0m/    \u001b[01;34mDownloads\u001b[0m/     examples.desktop  \u001b[01;34mPictures\u001b[0m/  \u001b[01;34mTemplates\u001b[0m/\n",
      "\u001b[01;34mDocuments\u001b[0m/  \u001b[01;34menvironments\u001b[0m/  \u001b[01;34mMusic\u001b[0m/            \u001b[01;34mPublic\u001b[0m/    \u001b[01;34mVideos\u001b[0m/\n",
      "/home/swyoo/environments/my_env/CLRS-master/swyoo/sw_graph\n",
      "add.py  BasicGraph.ipynb  BasicGraph.py  BFS.ipynb  \u001b[0m\u001b[01;34m__pycache__\u001b[0m/\n"
     ]
    }
   ],
   "source": [
    "%cd \n",
    "%ls\n",
    "%cd environments/my_env/CLRS-master/swyoo/sw_graph\n",
    "%ls"
   ]
  },
  {
   "cell_type": "code",
   "execution_count": 2,
   "metadata": {},
   "outputs": [
    {
     "name": "stdout",
     "output_type": "stream",
     "text": [
      "Overwriting BasicGraph.py\n"
     ]
    }
   ],
   "source": [
    "%%writefile BasicGraph.py\n",
    "\n",
    "# node로 구현 \n",
    "class node: \n",
    "    \n",
    "    def __init__ (self, name):\n",
    "        self.name = name\n",
    "        self.d = 0 \n",
    "        self.f = 0\n",
    "        self.pi = 0  \n",
    "        self.color = 'unknown'\n",
    "\n",
    "class Graph: \n",
    "    \n",
    "    time = 0\n",
    "    \n",
    "    def __init__(self, graph_dict=None):\n",
    "        if graph_dict == None:\n",
    "            graph_dict = {}\n",
    "        self.graph_dict = graph_dict\n",
    "        \n",
    "        # node object로 list 만듦\n",
    "        self.nodes = []\n",
    "        for n in list(self.graph_dict.keys()):\n",
    "            self.nodes.append(node(n))\n",
    "        \n",
    "        # node object로 dictionary 만듦\n",
    "        self.nm = {}\n",
    "        for k in range(len(list(self.graph_dict.keys()))):\n",
    "            self.nm[self.nodes[k].name] = self.nodes[k]\n",
    "    \n",
    "    def showinfo(self):    \n",
    "        for x in list(self.graph_dict.keys()):\n",
    "            print(\"vertex name\", self.nm[x].name)\n",
    "            print(\"color 값\", self.nm[x].color)\n",
    "            print(\"d 값\", self.nm[x].d)\n",
    "            print(\"pi 값\", self.nm[x].pi)\n",
    "        \n",
    "print(\"hi! I'm BasicGraph.py file \")"
   ]
  },
  {
   "cell_type": "code",
   "execution_count": 3,
   "metadata": {},
   "outputs": [
    {
     "name": "stdout",
     "output_type": "stream",
     "text": [
      "add.py  BasicGraph.ipynb  BasicGraph.py  BFS.ipynb  \u001b[0m\u001b[01;34m__pycache__\u001b[0m/\r\n"
     ]
    }
   ],
   "source": [
    "%ls"
   ]
  },
  {
   "cell_type": "code",
   "execution_count": 4,
   "metadata": {},
   "outputs": [
    {
     "name": "stdout",
     "output_type": "stream",
     "text": [
      "hi! I'm BasicGraph.py file \n"
     ]
    }
   ],
   "source": [
    "%run BasicGraph.py"
   ]
  },
  {
   "cell_type": "code",
   "execution_count": 5,
   "metadata": {},
   "outputs": [
    {
     "data": {
      "text/plain": [
       "'/home/swyoo/environments/my_env/CLRS-master/swyoo/sw_graph'"
      ]
     },
     "execution_count": 5,
     "metadata": {},
     "output_type": "execute_result"
    }
   ],
   "source": [
    "%pwd"
   ]
  },
  {
   "cell_type": "code",
   "execution_count": 6,
   "metadata": {},
   "outputs": [
    {
     "name": "stdout",
     "output_type": "stream",
     "text": [
      "hi! I'm BasicGraph.py file \n"
     ]
    }
   ],
   "source": [
    "import BasicGraph"
   ]
  },
  {
   "cell_type": "code",
   "execution_count": 7,
   "metadata": {},
   "outputs": [
    {
     "name": "stdout",
     "output_type": "stream",
     "text": [
      "vertex name v\n",
      "color 값 unknown\n",
      "d 값 0\n",
      "pi 값 0\n",
      "vertex name t\n",
      "color 값 unknown\n",
      "d 값 0\n",
      "pi 값 0\n",
      "vertex name w\n",
      "color 값 unknown\n",
      "d 값 0\n",
      "pi 값 0\n",
      "vertex name r\n",
      "color 값 unknown\n",
      "d 값 0\n",
      "pi 값 0\n",
      "vertex name x\n",
      "color 값 unknown\n",
      "d 값 0\n",
      "pi 값 0\n",
      "vertex name s\n",
      "color 값 unknown\n",
      "d 값 0\n",
      "pi 값 0\n",
      "vertex name y\n",
      "color 값 unknown\n",
      "d 값 0\n",
      "pi 값 0\n",
      "vertex name u\n",
      "color 값 unknown\n",
      "d 값 0\n",
      "pi 값 0\n"
     ]
    }
   ],
   "source": [
    "g = {'r': set(['s', 'v']),\n",
    "     's': set(['r', 'w']),\n",
    "     't': set(['u', 'w', 'x']),\n",
    "     'u': set(['t', 'w', 'x']),\n",
    "     'v': set(['r']),\n",
    "     'w': set(['s', 't', 'x']),\n",
    "     'x': set(['t', 'u', 'w', 'y']),\n",
    "     'y': set(['u', 'x'])}\n",
    "\n",
    "G = Graph(g)\n",
    "G.showinfo()"
   ]
  }
 ],
 "metadata": {
  "kernelspec": {
   "display_name": "Python 3",
   "language": "python",
   "name": "python3"
  },
  "language_info": {
   "codemirror_mode": {
    "name": "ipython",
    "version": 3
   },
   "file_extension": ".py",
   "mimetype": "text/x-python",
   "name": "python",
   "nbconvert_exporter": "python",
   "pygments_lexer": "ipython3",
   "version": "3.5.2"
  }
 },
 "nbformat": 4,
 "nbformat_minor": 2
}
