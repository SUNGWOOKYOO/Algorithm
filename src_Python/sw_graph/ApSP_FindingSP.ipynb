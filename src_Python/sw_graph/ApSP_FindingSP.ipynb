{
 "cells": [
  {
   "cell_type": "markdown",
   "metadata": {},
   "source": [
    "# Finding all pair shortest path \n",
    "\n",
    "graph's node has a number \n",
    "\n",
    "    self.nodes[G.nm[v].number].number \n",
    "\n",
    "graph class has W matrix make function \n",
    "\n",
    "def Myweight():\n",
    "    if self.nm[u].edge[v] is not None: # from u to v weight\n",
    "        W[self.nm[u].number][self.nm[v].number] = self.nm[u].edge[v]\n",
    "        "
   ]
  },
  {
   "cell_type": "code",
   "execution_count": 4,
   "metadata": {},
   "outputs": [],
   "source": [
    "import WeightGraph\n",
    "%run WeightGraph.py"
   ]
  },
  {
   "cell_type": "code",
   "execution_count": 6,
   "metadata": {},
   "outputs": [],
   "source": [
    "g = {'a': set(['b','c','e']),\n",
    "     'b': set(['d','e']),\n",
    "     'c': set(['b']),\n",
    "     'd': set(['a','c']),\n",
    "     'e': set(['d'])}\n",
    "\n",
    "w = {'a': {'b':3, 'c':8, 'e':-4},\n",
    "     'b': {'d':1, 'e':7},\n",
    "     'c': {'b':4},\n",
    "     'd': {'a':2, 'c':-5},\n",
    "     'e': {'d':6}}\n",
    "\n",
    "\n",
    "G = Graph(g,w)"
   ]
  },
  {
   "cell_type": "code",
   "execution_count": 8,
   "metadata": {},
   "outputs": [],
   "source": [
    "import numpy as np \n",
    "from time import *  \n",
    "\n",
    "\"\"\" compute L' <= L using W  // running time : O(n^3)\"\"\"\n",
    "def extend_shortest_paths(L,W):\n",
    "    n = len(L)\n",
    "    nL = np.ones((n,n))\n",
    "    \n",
    "    for i in range(n):\n",
    "        for j in range(n):\n",
    "            nL[i][j] = float('inf')\n",
    "            for k in range(n):\n",
    "                nL[i][j] = min(nL[i][j], L[i][k] + W[k][j])\n",
    "    return nL\n",
    "\n",
    "\"\"\" compute L(n-1) // running time : O(n^4) bottom up approach(DP) \"\"\"\n",
    "def show_all_pairs_shortest_paths(W):\n",
    "    start_time = time()\n",
    "    n = len(W)\n",
    "    L1 = W\n",
    "    Lpm = L1                                  #Lpm = Lm-1 meanning  \n",
    "    for m in range(2,n):\n",
    "        Lm = np.ones((n,n))\n",
    "        Lm = extend_shortest_paths(Lpm,W)\n",
    "        Lpm = Lm\n",
    "    print(\"---it takes %s seconds ---\" % (time() - start_time))\n",
    "    return Lm \n",
    "\n",
    "\"\"\" L(n-1 ) 이 shortest path weight 이므로, 그 이후 아무리 계산해도, 변하지 않음을 이용하여 \n",
    "    running time 개선 : O(n^3 × lgn)\"\"\"\n",
    "def faster_all_pairs_shortest_paths(W):\n",
    "    start_time = time()\n",
    "    n = len(W)\n",
    "    L1 = W\n",
    "    Lm = L1\n",
    "    m = 1\n",
    "    while m < n - 1:                                      # this loop takes O(lgn * n^3)\n",
    "        L2m = np.ones((n,n))\n",
    "        L2m = extend_shortest_paths(Lm,Lm)                # O(n^3)\n",
    "        Lm = L2m\n",
    "        m = m*2\n",
    "    print(\"---it takes %s seconds ---\" % (time() - start_time))\n",
    "    return Lm "
   ]
  },
  {
   "cell_type": "code",
   "execution_count": 10,
   "metadata": {},
   "outputs": [
    {
     "name": "stdout",
     "output_type": "stream",
     "text": [
      "(node.number :  0 , node.name :  a  )\n",
      "(node.number :  1 , node.name :  b  )\n",
      "(node.number :  2 , node.name :  c  )\n",
      "(node.number :  3 , node.name :  d  )\n",
      "(node.number :  4 , node.name :  e  )\n",
      "[[ 0.  3.  8. inf -4.]\n",
      " [inf  0. inf  1.  7.]\n",
      " [inf  4.  0. inf inf]\n",
      " [ 2. inf -5.  0. inf]\n",
      " [inf inf inf  6.  0.]]\n"
     ]
    }
   ],
   "source": [
    "W = G.myweight()\n",
    "print(W)"
   ]
  },
  {
   "cell_type": "code",
   "execution_count": 11,
   "metadata": {},
   "outputs": [
    {
     "data": {
      "text/plain": [
       "array([[ 0.,  3.,  8.,  2., -4.],\n",
       "       [ 3.,  0., -4.,  1.,  7.],\n",
       "       [inf,  4.,  0.,  5., 11.],\n",
       "       [ 2., -1., -5.,  0., -2.],\n",
       "       [ 8., inf,  1.,  6.,  0.]])"
      ]
     },
     "execution_count": 11,
     "metadata": {},
     "output_type": "execute_result"
    }
   ],
   "source": [
    "result1 = extend_shortest_paths(W,W)\n",
    "result1"
   ]
  },
  {
   "cell_type": "code",
   "execution_count": 13,
   "metadata": {},
   "outputs": [
    {
     "name": "stdout",
     "output_type": "stream",
     "text": [
      "---it takes 0.0014624595642089844 seconds ---\n"
     ]
    },
    {
     "data": {
      "text/plain": [
       "array([[ 0.,  1., -3.,  2., -4.],\n",
       "       [ 3.,  0., -4.,  1., -1.],\n",
       "       [ 7.,  4.,  0.,  5.,  3.],\n",
       "       [ 2., -1., -5.,  0., -2.],\n",
       "       [ 8.,  5.,  1.,  6.,  0.]])"
      ]
     },
     "execution_count": 13,
     "metadata": {},
     "output_type": "execute_result"
    }
   ],
   "source": [
    "result2 = show_all_pairs_shortest_paths(W)\n",
    "result2"
   ]
  },
  {
   "cell_type": "code",
   "execution_count": 14,
   "metadata": {},
   "outputs": [
    {
     "name": "stdout",
     "output_type": "stream",
     "text": [
      "---it takes 0.0009698867797851562 seconds ---\n"
     ]
    },
    {
     "data": {
      "text/plain": [
       "array([[ 0.,  1., -3.,  2., -4.],\n",
       "       [ 3.,  0., -4.,  1., -1.],\n",
       "       [ 7.,  4.,  0.,  5.,  3.],\n",
       "       [ 2., -1., -5.,  0., -2.],\n",
       "       [ 8.,  5.,  1.,  6.,  0.]])"
      ]
     },
     "execution_count": 14,
     "metadata": {},
     "output_type": "execute_result"
    }
   ],
   "source": [
    "result3 = faster_all_pairs_shortest_paths(W)\n",
    "result3"
   ]
  }
 ],
 "metadata": {
  "kernelspec": {
   "display_name": "Python 3",
   "language": "python",
   "name": "python3"
  },
  "language_info": {
   "codemirror_mode": {
    "name": "ipython",
    "version": 3
   },
   "file_extension": ".py",
   "mimetype": "text/x-python",
   "name": "python",
   "nbconvert_exporter": "python",
   "pygments_lexer": "ipython3",
   "version": "3.5.2"
  }
 },
 "nbformat": 4,
 "nbformat_minor": 2
}
