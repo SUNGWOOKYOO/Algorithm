{
 "cells": [
  {
   "cell_type": "markdown",
   "metadata": {},
   "source": [
    "# relaxation "
   ]
  },
  {
   "cell_type": "code",
   "execution_count": 4,
   "metadata": {},
   "outputs": [],
   "source": [
    "\"\"\"\n",
    "%pwd\n",
    "import WeightGraph\n",
    "%run WeightGraph.py\n",
    "\"\"\"\n",
    "\n",
    "# node로 구현 \n",
    "class node: \n",
    "    \n",
    "    def __init__(self, name):\n",
    "        self.name = name\n",
    "        self.d = 0 \n",
    "        self.f = 0\n",
    "        self.pi = 0  \n",
    "        self.key = 0\n",
    "        self.color = 'unknown'\n",
    "        self.edge = {}\n",
    "        \n",
    "class Graph: \n",
    "    \n",
    "    time = 0\n",
    "    \n",
    "    def __init__(self, graph_dict=None, w = None):\n",
    "        if graph_dict == None:\n",
    "            graph_dict = {}\n",
    "        self.graph_dict = graph_dict\n",
    "        \n",
    "        # node object로 list 만듦\n",
    "        self.nodes = []\n",
    "        for n in list(self.graph_dict.keys()):\n",
    "            self.nodes.append(node(n))\n",
    "        \n",
    "        # node object로 dictionary 만듦\n",
    "        self.nm = {}\n",
    "        for k in range(len(list(self.graph_dict.keys()))):\n",
    "            self.nm[self.nodes[k].name] = self.nodes[k]\n",
    "        \n",
    "        # edge 를 w 에 의해 부여 \n",
    "        for j in range(len(list(self.graph_dict.keys()))):  # j vertex\n",
    "            for i in self.graph_dict[self.nodes[j].name]:      # i edge \n",
    "                self.nodes[j].edge[i] = w[self.nodes[j].name][i]             # allocate weight \n",
    "    \n",
    "    \"\"\" single src shortest path operation \"\"\"\n",
    "    def initialize_single_source(self,s):\n",
    "        for v in list(self.graph_dict.keys()):\n",
    "            self.nm[v].d = float('inf')\n",
    "            self.nm[v].pi = None\n",
    "        self.nm[s].d = 0\n",
    "        # T = O(V)\n",
    "\n",
    "    def relax(self,u,v):\n",
    "        if self.nm[v].d > self.nm[u].d + self.nm[u].edge[v]:\n",
    "            self.nm[v].d = self.nm[u].d + self.nm[u].edge[v]\n",
    "            self.nm[v].pi = self.nm[u].name\n",
    "        # T = O(1)\n",
    "        \n",
    "    def showinfo(self):\n",
    "        print(self.graph_dict)\n",
    "        print(\" node dictionary : \")\n",
    "        print(self.nm)\n",
    "        \n",
    "        for v in list(G.graph_dict.keys()):\n",
    "            print(\">> [ \",v, \" node Info] : \")\n",
    "            print(v, \", edge: \", G.nm[v].edge)\n",
    "            print(v, \", pi: \", G.nm[v].pi)\n",
    "            print(v, \", d: \", G.nm[v].d)"
   ]
  },
  {
   "cell_type": "code",
   "execution_count": 6,
   "metadata": {},
   "outputs": [
    {
     "name": "stdout",
     "output_type": "stream",
     "text": [
      "{'y': {'x', 'z'}, 't': {'y', 'x', 'z'}, 's': {'y', 't'}, 'x': {'t'}, 'z': {'s', 'x'}}\n",
      "{'y': {'x': -3, 'z': 9}, 't': {'y': 8, 'x': 5, 'z': -4}, 's': {'y': 7, 't': 6}, 'x': {'t': -2}, 'z': {'s': 2, 'x': 7}}\n"
     ]
    }
   ],
   "source": [
    "vertices = ['s','t','x','y','z']\n",
    "edges = [{'t','y'},{'x','y','z'},{'t'},{'x','z'},{'s','x'}]\n",
    "weights = [{'t': 6, 'y': 7 }, {'x': 5  ,'y': 8 ,'z': -4 }, {'t': -2 }, {'x': -3 ,'z': 9 }, {'s': 2 ,'x': 7 }]\n",
    "g = {}\n",
    "w = {}\n",
    "k = 0\n",
    "for v in (vertices):\n",
    "    g[v] = edges[k]\n",
    "    w[v] = weights[k]  \n",
    "    k = k + 1\n",
    "print(g)\n",
    "print(w)"
   ]
  },
  {
   "cell_type": "code",
   "execution_count": 7,
   "metadata": {},
   "outputs": [
    {
     "name": "stdout",
     "output_type": "stream",
     "text": [
      "{'y': {'x', 'z'}, 't': {'y', 'x', 'z'}, 's': {'y', 't'}, 'x': {'t'}, 'z': {'s', 'x'}}\n",
      " node dictionary : \n",
      "{'y': <__main__.node object at 0x7f03487a3048>, 't': <__main__.node object at 0x7f03487a3f28>, 's': <__main__.node object at 0x7f03487a3668>, 'x': <__main__.node object at 0x7f03487a38d0>, 'z': <__main__.node object at 0x7f03487a30b8>}\n",
      ">> [  y  node Info] : \n",
      "y , edge:  {'x': -3, 'z': 9}\n",
      "y , pi:  None\n",
      "y , d:  inf\n",
      ">> [  t  node Info] : \n",
      "t , edge:  {'y': 8, 'x': 5, 'z': -4}\n",
      "t , pi:  None\n",
      "t , d:  inf\n",
      ">> [  s  node Info] : \n",
      "s , edge:  {'y': 7, 't': 6}\n",
      "s , pi:  None\n",
      "s , d:  0\n",
      ">> [  x  node Info] : \n",
      "x , edge:  {'t': -2}\n",
      "x , pi:  None\n",
      "x , d:  inf\n",
      ">> [  z  node Info] : \n",
      "z , edge:  {'s': 2, 'x': 7}\n",
      "z , pi:  None\n",
      "z , d:  inf\n",
      " #######################relaxation 후 ############################ \n",
      "{'y': {'x', 'z'}, 't': {'y', 'x', 'z'}, 's': {'y', 't'}, 'x': {'t'}, 'z': {'s', 'x'}}\n",
      " node dictionary : \n",
      "{'y': <__main__.node object at 0x7f03487a3048>, 't': <__main__.node object at 0x7f03487a3f28>, 's': <__main__.node object at 0x7f03487a3668>, 'x': <__main__.node object at 0x7f03487a38d0>, 'z': <__main__.node object at 0x7f03487a30b8>}\n",
      ">> [  y  node Info] : \n",
      "y , edge:  {'x': -3, 'z': 9}\n",
      "y , pi:  None\n",
      "y , d:  inf\n",
      ">> [  t  node Info] : \n",
      "t , edge:  {'y': 8, 'x': 5, 'z': -4}\n",
      "t , pi:  s\n",
      "t , d:  6\n",
      ">> [  s  node Info] : \n",
      "s , edge:  {'y': 7, 't': 6}\n",
      "s , pi:  None\n",
      "s , d:  0\n",
      ">> [  x  node Info] : \n",
      "x , edge:  {'t': -2}\n",
      "x , pi:  None\n",
      "x , d:  inf\n",
      ">> [  z  node Info] : \n",
      "z , edge:  {'s': 2, 'x': 7}\n",
      "z , pi:  None\n",
      "z , d:  inf\n"
     ]
    },
    {
     "data": {
      "text/plain": [
       "' t vertex infomation updated !! '"
      ]
     },
     "execution_count": 7,
     "metadata": {},
     "output_type": "execute_result"
    }
   ],
   "source": [
    "G = Graph(g,w)\n",
    "\n",
    "G.initialize_single_source('s')\n",
    "G.showinfo()\n",
    "G.relax('s','t')\n",
    "\"\"\" relax 후 \"\"\"\n",
    "print(\" #######################relaxation 후 ############################ \")\n",
    "G.showinfo()\n",
    "\n",
    "\"\"\" t vertex infomation updated !! \"\"\""
   ]
  }
 ],
 "metadata": {
  "kernelspec": {
   "display_name": "Python 3",
   "language": "python",
   "name": "python3"
  },
  "language_info": {
   "codemirror_mode": {
    "name": "ipython",
    "version": 3
   },
   "file_extension": ".py",
   "mimetype": "text/x-python",
   "name": "python",
   "nbconvert_exporter": "python",
   "pygments_lexer": "ipython3",
   "version": "3.5.2"
  }
 },
 "nbformat": 4,
 "nbformat_minor": 2
}
