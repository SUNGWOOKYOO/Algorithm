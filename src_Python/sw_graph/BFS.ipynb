{
 "cells": [
  {
   "cell_type": "markdown",
   "metadata": {},
   "source": [
    "# BinaryFirstSearch\n",
    "\n",
    " running time O(V + E)"
   ]
  },
  {
   "cell_type": "code",
   "execution_count": 1,
   "metadata": {},
   "outputs": [
    {
     "name": "stdout",
     "output_type": "stream",
     "text": [
      "/home/swyoo\n",
      "\u001b[0m\u001b[01;34mDesktop\u001b[0m/    \u001b[01;34mDownloads\u001b[0m/     examples.desktop  \u001b[01;34mPictures\u001b[0m/  \u001b[01;34mTemplates\u001b[0m/\n",
      "\u001b[01;34mDocuments\u001b[0m/  \u001b[01;34menvironments\u001b[0m/  \u001b[01;34mMusic\u001b[0m/            \u001b[01;34mPublic\u001b[0m/    \u001b[01;34mVideos\u001b[0m/\n",
      "/home/swyoo/environments/my_env/CLRS-master/swyoo/sw_graph\n",
      "BasicGraph.ipynb  BasicGraph.py  BFS.ipynb  \u001b[0m\u001b[01;34m__pycache__\u001b[0m/\n"
     ]
    }
   ],
   "source": [
    "%cd \n",
    "%ls\n",
    "%cd environments/my_env/CLRS-master/swyoo/sw_graph\n",
    "%ls"
   ]
  },
  {
   "cell_type": "code",
   "execution_count": 2,
   "metadata": {},
   "outputs": [
    {
     "data": {
      "text/plain": [
       "'/home/swyoo/environments/my_env/CLRS-master/swyoo/sw_graph'"
      ]
     },
     "execution_count": 2,
     "metadata": {},
     "output_type": "execute_result"
    }
   ],
   "source": [
    "%pwd"
   ]
  },
  {
   "cell_type": "code",
   "execution_count": 3,
   "metadata": {},
   "outputs": [
    {
     "name": "stdout",
     "output_type": "stream",
     "text": [
      "hi! I'm BasicGraph.py file \n",
      "hi! I'm BasicGraph.py file \n"
     ]
    }
   ],
   "source": [
    "import BasicGraph\n",
    "%run BasicGraph.py"
   ]
  },
  {
   "cell_type": "code",
   "execution_count": 4,
   "metadata": {},
   "outputs": [],
   "source": [
    "from collections import deque\n",
    "\n",
    "def BFS(G): # s 에서 시작하도록 함. \n",
    "    \n",
    "    # running time O(V + E)\n",
    "    \n",
    "    for u in list(G.graph_dict.keys() - {'s'}):   \n",
    "        G.nm[u].color = 'white'\n",
    "        G.nm[u].d = float('inf')\n",
    "        G.nm[u].pi = None\n",
    "    \n",
    "    G.nm['s'].color = 'gray'\n",
    "    G.nm['s'].d = 0\n",
    "    G.nm['s'].pi = None\n",
    "    \n",
    "    Q = deque()\n",
    "    Q.append('s')\n",
    "    \n",
    "    while deque([]) != Q:\n",
    "        u = Q.popleft()                    # Dequeue \n",
    "        \n",
    "        for v in list(G.graph_dict[u]):    # vertex u 에 대한 adjacent 표현  u 가 가리키는 list의 vertex들을 의미(edge들)\n",
    "            if G.nm[v].color == 'white':\n",
    "                G.nm[v].color = 'gray'\n",
    "                G.nm[v].d = G.nm[u].d + 1\n",
    "                G.nm[v].pi  = u            # updating predecessor \n",
    "                Q.append(v)                # Enqueue \n",
    "        G.nm[u].color = 'black'\n",
    "    \n",
    "    print(Q)\n",
    "    \n",
    "    for x in list(G.graph_dict.keys()):\n",
    "        print(\"vertex name\", G.nm[x].name)\n",
    "        print(\"color 값\", G.nm[x].color)\n",
    "        print(\"d 값\", G.nm[x].d)\n",
    "        print(\"pi 값\", G.nm[x].pi)"
   ]
  },
  {
   "cell_type": "code",
   "execution_count": 5,
   "metadata": {},
   "outputs": [],
   "source": [
    "def print_path(G,s,v):\n",
    "    if v == s:\n",
    "        print(s)\n",
    "    elif G.nm[v].pi == None:\n",
    "        print(\"no path from s to v \")\n",
    "    else:\n",
    "        print_path(G,s,G.nm[v].pi)\n",
    "        print(v)"
   ]
  },
  {
   "cell_type": "code",
   "execution_count": 6,
   "metadata": {},
   "outputs": [
    {
     "name": "stdout",
     "output_type": "stream",
     "text": [
      "dict_keys(['v', 't', 'x', 's', 'w', 'y', 'r', 'u'])\n",
      "[<__main__.node object at 0x7f12ac6809e8>, <__main__.node object at 0x7f12ac680a20>, <__main__.node object at 0x7f12ac680ac8>, <__main__.node object at 0x7f12ac680780>, <__main__.node object at 0x7f12ac6807b8>, <__main__.node object at 0x7f12ac6807f0>, <__main__.node object at 0x7f12ac680898>, <__main__.node object at 0x7f12ac6808d0>]\n",
      "0\n",
      "Breadh first search result: \n",
      "deque([])\n",
      "vertex name v\n",
      "color 값 black\n",
      "d 값 2\n",
      "pi 값 r\n",
      "vertex name t\n",
      "color 값 black\n",
      "d 값 2\n",
      "pi 값 w\n",
      "vertex name x\n",
      "color 값 black\n",
      "d 값 2\n",
      "pi 값 w\n",
      "vertex name s\n",
      "color 값 black\n",
      "d 값 0\n",
      "pi 값 None\n",
      "vertex name w\n",
      "color 값 black\n",
      "d 값 1\n",
      "pi 값 s\n",
      "vertex name y\n",
      "color 값 black\n",
      "d 값 3\n",
      "pi 값 x\n",
      "vertex name r\n",
      "color 값 black\n",
      "d 값 1\n",
      "pi 값 s\n",
      "vertex name u\n",
      "color 값 black\n",
      "d 값 3\n",
      "pi 값 t\n"
     ]
    }
   ],
   "source": [
    "g = {'r': set(['s', 'v']),\n",
    "     's': set(['r', 'w']),\n",
    "     't': set(['u', 'w', 'x']),\n",
    "     'u': set(['t', 'w', 'x']),\n",
    "     'v': set(['r']),\n",
    "     'w': set(['s', 't', 'x']),\n",
    "     'x': set(['t', 'u', 'w', 'y']),\n",
    "     'y': set(['u', 'x'])}\n",
    "\n",
    "G= Graph(g)\n",
    "\n",
    "print(G.graph_dict.keys())\n",
    "print(G.nodes)\n",
    "print(G.nm['x'].d)\n",
    "\n",
    "print(\"Breadh first search result: \")\n",
    "BFS(G) # s 에서 시작하도록 함 (s값을 넣지 않아도)"
   ]
  },
  {
   "cell_type": "code",
   "execution_count": 7,
   "metadata": {},
   "outputs": [
    {
     "name": "stdout",
     "output_type": "stream",
     "text": [
      "print shortest path from s to y result: \n",
      "s\n",
      "w\n",
      "x\n",
      "y\n"
     ]
    }
   ],
   "source": [
    "print(\"print shortest path from s to y result: \")\n",
    "print_path(G,'s','y')"
   ]
  }
 ],
 "metadata": {
  "kernelspec": {
   "display_name": "Python 3",
   "language": "python",
   "name": "python3"
  },
  "language_info": {
   "codemirror_mode": {
    "name": "ipython",
    "version": 3
   },
   "file_extension": ".py",
   "mimetype": "text/x-python",
   "name": "python",
   "nbconvert_exporter": "python",
   "pygments_lexer": "ipython3",
   "version": "3.5.2"
  }
 },
 "nbformat": 4,
 "nbformat_minor": 2
}
