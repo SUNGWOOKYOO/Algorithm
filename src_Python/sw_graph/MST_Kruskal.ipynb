{
 "cells": [
  {
   "cell_type": "markdown",
   "metadata": {},
   "source": [
    "# Kruskal's Algorithm "
   ]
  },
  {
   "cell_type": "code",
   "execution_count": 3,
   "metadata": {},
   "outputs": [
    {
     "data": {
      "text/plain": [
       "'/home/swyoo/environments/my_env/CLRS-master/swyoo/sw_graph'"
      ]
     },
     "execution_count": 3,
     "metadata": {},
     "output_type": "execute_result"
    }
   ],
   "source": [
    "%pwd"
   ]
  },
  {
   "cell_type": "code",
   "execution_count": 4,
   "metadata": {},
   "outputs": [],
   "source": [
    "import WeightGraph\n",
    "%run WeightGraph.py"
   ]
  },
  {
   "cell_type": "code",
   "execution_count": 5,
   "metadata": {},
   "outputs": [],
   "source": [
    "class Treenode:\n",
    "    def __init__(self, nodename = 'unkown'):\n",
    "        self.d = 0\n",
    "        self.p = self\n",
    "        self.rank = 0\n",
    "        self.name =  nodename\n",
    "        \n",
    "class DisjointSetForest:\n",
    "\n",
    "    def make_set(self, x):\n",
    "        x.p = x\n",
    "        x.rank = 0\n",
    "      \n",
    "    def union(self, x, y):\n",
    "        self.link(self.find_set(x), self.find_set(y))  \n",
    "\n",
    "    def link(self, x, y):\n",
    "        if x.rank > y.rank: # y 의 rank 가 x 보다 작으면, x를 y.p로 한다 (x가 representative가 됨)  \n",
    "            y.p = x \n",
    "        else:               # y 의 rank 가  x 보다 같거나 크면, y를 x.p 로 한다. (y를 representative 로 하고, y rank만 1증가) \n",
    "            x.p = y\n",
    "            if x.rank == y.rank:  \n",
    "                y.rank = y.rank + 1 \n",
    "                \n",
    "    def find_set(self, x):\n",
    "        if x != x.p:\n",
    "            x.p  = self.find_set(x.p)\n",
    "        return x.p"
   ]
  },
  {
   "cell_type": "code",
   "execution_count": 6,
   "metadata": {},
   "outputs": [],
   "source": [
    "import operator\n",
    "\n",
    "def sort_edge(G):\n",
    "   \n",
    "    temp = []\n",
    "    \n",
    "    for v in list(G.graph_dict.keys()):\n",
    "        for i in list(G.nm[v].edge):\n",
    "            temp.append((v,i,G.nm[v].edge[i]))\n",
    "\n",
    "    t = sorted(temp, key = operator.itemgetter(2), reverse = False)\n",
    "    print(t)\n",
    "\n",
    "    srt = []\n",
    "    for m in range(len(t)): \n",
    "         srt.append([t[m][0],t[m][1]])\n",
    "    \n",
    "    print(srt,\"sort 이후 edge\")\n",
    "    return srt"
   ]
  },
  {
   "cell_type": "code",
   "execution_count": 7,
   "metadata": {},
   "outputs": [],
   "source": [
    "def Mst_kruskal(G):\n",
    "    \n",
    "    D = DisjointSetForest()\n",
    "    A = []\n",
    "    tree_dict = {}\n",
    "\n",
    "    for v in list(G.graph_dict.keys()):\n",
    "        tree_dict[v] = Treenode(v)\n",
    "    \n",
    "    for v in list(tree_dict.values()):\n",
    "        D.make_set(v)\n",
    "        \n",
    "    # sort the edge of G.E into nondecreasing order by weight w \n",
    "    srt = sort_edge(G)           \n",
    "    \n",
    "    for [u,v] in srt: \n",
    "        if D.find_set(tree_dict[u]).name != D.find_set(tree_dict[v]).name :\n",
    "            A.append([tree_dict[u].name,tree_dict[v].name])\n",
    "            D.union(tree_dict[u],tree_dict[v])\n",
    "        \n",
    "    return A \n",
    "    "
   ]
  },
  {
   "cell_type": "code",
   "execution_count": 8,
   "metadata": {},
   "outputs": [
    {
     "name": "stdout",
     "output_type": "stream",
     "text": [
      "{'d': 7, 'i': 2, 'f': 4, 'b': 8}\n",
      "{'a': 4, 'c': 8, 'h': 11}\n",
      "{'f': 2, 'h': 1, 'i': 6}\n",
      "{'b': 4, 'h': 8}\n",
      "{'f': 10, 'd': 9}\n",
      "{'c': 2, 'h': 7, 'g': 6}\n",
      "{'c': 7, 'e': 9, 'f': 14}\n",
      "{'a': 8, 'i': 7, 'b': 11, 'g': 1}\n",
      "{'c': 4, 'e': 10, 'd': 14, 'g': 2}\n",
      "[('g', 'h', 1), ('h', 'g', 1), ('c', 'i', 2), ('g', 'f', 2), ('i', 'c', 2), ('f', 'g', 2), ('c', 'f', 4), ('b', 'a', 4), ('a', 'b', 4), ('f', 'c', 4), ('g', 'i', 6), ('i', 'g', 6), ('c', 'd', 7), ('i', 'h', 7), ('d', 'c', 7), ('h', 'i', 7), ('c', 'b', 8), ('b', 'c', 8), ('a', 'h', 8), ('h', 'a', 8), ('e', 'd', 9), ('d', 'e', 9), ('e', 'f', 10), ('f', 'e', 10), ('b', 'h', 11), ('h', 'b', 11), ('d', 'f', 14), ('f', 'd', 14)]\n",
      "[['g', 'h'], ['h', 'g'], ['c', 'i'], ['g', 'f'], ['i', 'c'], ['f', 'g'], ['c', 'f'], ['b', 'a'], ['a', 'b'], ['f', 'c'], ['g', 'i'], ['i', 'g'], ['c', 'd'], ['i', 'h'], ['d', 'c'], ['h', 'i'], ['c', 'b'], ['b', 'c'], ['a', 'h'], ['h', 'a'], ['e', 'd'], ['d', 'e'], ['e', 'f'], ['f', 'e'], ['b', 'h'], ['h', 'b'], ['d', 'f'], ['f', 'd']] sort 이후 edge\n",
      "A의 크기:  8\n",
      "A :  [['g', 'h'], ['c', 'i'], ['g', 'f'], ['c', 'f'], ['b', 'a'], ['c', 'd'], ['c', 'b'], ['e', 'd']]\n"
     ]
    }
   ],
   "source": [
    "g = {'a': set(['b','h']),\n",
    "     'b': set(['a','h','c']),\n",
    "     'c': set(['b', 'i','f','d']),\n",
    "     'd': set(['c','e','f']),\n",
    "     'e': set(['d','f']),\n",
    "     'f': set(['g','c','d','e']),\n",
    "     'g': set(['h','i','f']),\n",
    "     'h': set(['a','b','i','g']),\n",
    "     'i': set(['c','h','g'])}\n",
    "\n",
    "w = {'a': {'b': 4, 'h': 8},\n",
    "     'b': {'a': 4, 'h': 11, 'c': 8},\n",
    "     'c': {'b': 8 , 'i': 2, 'f' : 4 ,'d' : 7},\n",
    "     'd': {'c': 7 ,'e': 9 ,'f': 14 },\n",
    "     'e': {'d': 9 ,'f': 10 },\n",
    "     'f': {'g': 2,'c': 4 ,'d': 14 ,'e': 10 },\n",
    "     'g': {'h': 1 ,'i': 6 ,'f': 2},\n",
    "     'h': {'a': 8 ,'b': 11,'i': 7 ,'g': 1 },\n",
    "     'i': {'c': 2 ,'h': 7,'g': 6}}\n",
    "\n",
    "\n",
    "G = Graph(g,w)\n",
    "\n",
    "for v in list(G.graph_dict.keys()):\n",
    "    print(G.nm[v].edge)\n",
    "    \n",
    "A = Mst_kruskal(G)\n",
    "print(\"A의 크기: \", len(A))\n",
    "print(\"A : \",A)\n"
   ]
  }
 ],
 "metadata": {
  "kernelspec": {
   "display_name": "Python 3",
   "language": "python",
   "name": "python3"
  },
  "language_info": {
   "codemirror_mode": {
    "name": "ipython",
    "version": 3
   },
   "file_extension": ".py",
   "mimetype": "text/x-python",
   "name": "python",
   "nbconvert_exporter": "python",
   "pygments_lexer": "ipython3",
   "version": "3.5.2"
  }
 },
 "nbformat": 4,
 "nbformat_minor": 2
}
