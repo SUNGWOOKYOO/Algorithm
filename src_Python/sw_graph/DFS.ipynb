{
 "cells": [
  {
   "cell_type": "markdown",
   "metadata": {},
   "source": [
    "# Depth First Search \n",
    "\n",
    " running time O(V + E)\n",
    " \n",
    " DFS Algorithm running time : Θ(|V|+ |E|), 왜냐면, white 인 경우만 DFS_vist을 하므로\n",
    " \n",
    " \n",
    " except DFS_vist, T = Θ(|V|)"
   ]
  },
  {
   "cell_type": "code",
   "execution_count": 2,
   "metadata": {},
   "outputs": [
    {
     "data": {
      "text/plain": [
       "'/home/swyoo/environments/my_env/CLRS-master/swyoo/sw_graph'"
      ]
     },
     "execution_count": 2,
     "metadata": {},
     "output_type": "execute_result"
    }
   ],
   "source": [
    "%pwd"
   ]
  },
  {
   "cell_type": "code",
   "execution_count": 4,
   "metadata": {},
   "outputs": [
    {
     "name": "stdout",
     "output_type": "stream",
     "text": [
      "hi! I'm BasicGraph.py file \n"
     ]
    }
   ],
   "source": [
    "import BasicGraph\n",
    "%run BasicGraph.py"
   ]
  },
  {
   "cell_type": "code",
   "execution_count": 6,
   "metadata": {},
   "outputs": [],
   "source": [
    "def DFS(G): # s 에서 시작하도록 함.\n",
    "    \n",
    "    # running time O(V + E)\n",
    "    \n",
    "    for u in list(G.graph_dict.keys()):   \n",
    "        G.nm[u].color = 'white'\n",
    "        G.nm[u].pi = None\n",
    "        \n",
    "    G.time = 0\n",
    "    \n",
    "    a = list(G.graph_dict.keys())\n",
    "    #a.sort() # # ['u', 'v', 'w', 'x', 'y', 'z'] 순서로 search 하게 된다.\n",
    "    print(a, \"순서로 search 하게 된다\")\n",
    "    \n",
    "    for u in list(a): \n",
    "        if G.nm[u].color == 'white':\n",
    "            DFS_visit(G,u)\n",
    "    \n",
    "    \n",
    "    for x in list(G.graph_dict.keys()):\n",
    "        print(\"vertex name: \", G.nm[x].name)\n",
    "        print(\"color 값: \", G.nm[x].color)\n",
    "        print(\"d 값: \", G.nm[x].d)\n",
    "        print(\"f 값: \", G.nm[x].f)\n",
    "        print(\"pi 값: \", G.nm[x].pi)\n",
    "    \n",
    "    \n",
    "def DFS_visit(G,u):\n",
    "    G.time  = G.time + 1 \n",
    "    G.nm[u].d = G.time \n",
    "    G.nm[u].color = 'gray'\n",
    "    for v in list(G.graph_dict[u]):\n",
    "        if G.nm[v].color == 'white':\n",
    "            G.nm[v].pi  = u\n",
    "            DFS_visit(G,v)\n",
    "    G.nm[u].color = 'black'\n",
    "    G.time = G.time + 1 \n",
    "    G.nm[u].f = G.time\n"
   ]
  },
  {
   "cell_type": "code",
   "execution_count": 7,
   "metadata": {},
   "outputs": [
    {
     "name": "stdout",
     "output_type": "stream",
     "text": [
      "Depth first search result: \n",
      "['y', 'x', 'z', 'w', 'u', 'v'] 순서로 search 하게 된다\n",
      "vertex name:  y\n",
      "color 값:  black\n",
      "d 값:  1\n",
      "f 값:  6\n",
      "pi 값:  None\n",
      "vertex name:  x\n",
      "color 값:  black\n",
      "d 값:  2\n",
      "f 값:  5\n",
      "pi 값:  y\n",
      "vertex name:  z\n",
      "color 값:  black\n",
      "d 값:  7\n",
      "f 값:  8\n",
      "pi 값:  None\n",
      "vertex name:  w\n",
      "color 값:  black\n",
      "d 값:  9\n",
      "f 값:  10\n",
      "pi 값:  None\n",
      "vertex name:  u\n",
      "color 값:  black\n",
      "d 값:  11\n",
      "f 값:  12\n",
      "pi 값:  None\n",
      "vertex name:  v\n",
      "color 값:  black\n",
      "d 값:  3\n",
      "f 값:  4\n",
      "pi 값:  x\n"
     ]
    }
   ],
   "source": [
    "g = {'u': set(['v', 'x']),\n",
    "     'v': set(['y']),\n",
    "     'w': set(['y', 'z']),\n",
    "     'x': set(['v']),\n",
    "     'y': set(['x']),\n",
    "     'z': set(['z'])}\n",
    "\n",
    "#a= list(g.keys())\n",
    "#a.sort()\n",
    "#print(a) # ['u', 'v', 'w', 'x', 'y', 'z'] 순서로 search 하게 된다. (Depth first tree는 여러가지가 될 수 있다.)\n",
    "G=Graph(g)\n",
    "\n",
    "print(\"Depth first search result: \")\n",
    "DFS(G)"
   ]
  }
 ],
 "metadata": {
  "kernelspec": {
   "display_name": "Python 3",
   "language": "python",
   "name": "python3"
  },
  "language_info": {
   "codemirror_mode": {
    "name": "ipython",
    "version": 3
   },
   "file_extension": ".py",
   "mimetype": "text/x-python",
   "name": "python",
   "nbconvert_exporter": "python",
   "pygments_lexer": "ipython3",
   "version": "3.5.2"
  }
 },
 "nbformat": 4,
 "nbformat_minor": 2
}
