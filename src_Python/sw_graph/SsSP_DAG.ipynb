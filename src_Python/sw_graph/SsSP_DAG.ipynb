{
 "cells": [
  {
   "cell_type": "markdown",
   "metadata": {},
   "source": [
    "# DAG shortest path \n",
    "\n",
    "assumption : DAG 이어야한다. (directed acyclic graph) \n",
    "\n",
    "using :  Topological sort : O(V + E)\n",
    "\n",
    "total running time : O(V + E)\n",
    "\n",
    "DAG Algo 이후, v.pi 에는 path 정보가, v.d 에는 shortest weight 가 입력된다. "
   ]
  },
  {
   "cell_type": "code",
   "execution_count": 1,
   "metadata": {},
   "outputs": [],
   "source": [
    "import WeightGraph\n",
    "%run WeightGraph.py"
   ]
  },
  {
   "cell_type": "code",
   "execution_count": 3,
   "metadata": {},
   "outputs": [],
   "source": [
    "def DAG_shortest_paths(G,s):\n",
    "    topo = G.Topological_sort()         # O(V + E)\n",
    "    G.initialize_single_source(s)       # O(V)    \n",
    "    for u in topo:\n",
    "        # each v ∈ G.adj[u]\n",
    "        for v in list(G.graph_dict[u]): # O(E) \n",
    "            G.relax(u,v)\n",
    "    # running time: O(V + E)"
   ]
  },
  {
   "cell_type": "code",
   "execution_count": 4,
   "metadata": {},
   "outputs": [
    {
     "name": "stdout",
     "output_type": "stream",
     "text": [
      "{'t': {'x', 'z', 'y'}, 's': {'t', 'x'}, 'r': {'t', 's'}, 'x': {'z', 'y'}, 'z': {}, 'y': {'z'}}\n",
      "{'t': {'x': 7, 'z': 2, 'y': 4}, 's': {'t': 2, 'x': 6}, 'r': {'t': 3, 's': 5}, 'x': {'z': 1, 'y': -1}, 'z': {}, 'y': {'z': -2}}\n"
     ]
    }
   ],
   "source": [
    "vertices = ['r','s','t','x','y','z']\n",
    "edges = [{'t','s'},{'x','t'},{'x','y','z'},{'y','z'},{'z'},{}]\n",
    "weights = [{'t':3,'s':5},{'x':6,'t':2},{'x':7,'y':4,'z':2},{'y':-1,'z':1},{'z':-2},{}]\n",
    "g = {}\n",
    "w = {}\n",
    "k = 0\n",
    "for v in (vertices):\n",
    "    g[v] = edges[k]\n",
    "    w[v] = weights[k]  \n",
    "    k = k + 1\n",
    "print(g)\n",
    "print(w)\n",
    "G = Graph(g,w)\n"
   ]
  },
  {
   "cell_type": "code",
   "execution_count": 5,
   "metadata": {},
   "outputs": [
    {
     "name": "stdout",
     "output_type": "stream",
     "text": [
      "Topological_sort사용\n",
      "['r', 's', 't', 'x', 'y', 'z'] Topological sort 결과 \n",
      "{'t': {'x', 'z', 'y'}, 's': {'t', 'x'}, 'r': {'t', 's'}, 'x': {'z', 'y'}, 'z': {}, 'y': {'z'}}\n",
      " node dictionary : \n",
      "{'t': <__main__.node object at 0x7fee88b7dc88>, 's': <__main__.node object at 0x7fee88b7dc50>, 'r': <__main__.node object at 0x7fee88b7dc18>, 'x': <__main__.node object at 0x7fee88b7dcc0>, 'z': <__main__.node object at 0x7fee88b7dd30>, 'y': <__main__.node object at 0x7fee88b7dcf8>}\n",
      ">> [  t  node Info] : \n",
      "t , edge:  {'x': 7, 'z': 2, 'y': 4}\n",
      "t , pi:  s\n",
      "t , d:  2\n",
      ">> [  s  node Info] : \n",
      "s , edge:  {'t': 2, 'x': 6}\n",
      "s , pi:  None\n",
      "s , d:  0\n",
      ">> [  r  node Info] : \n",
      "r , edge:  {'t': 3, 's': 5}\n",
      "r , pi:  None\n",
      "r , d:  inf\n",
      ">> [  x  node Info] : \n",
      "x , edge:  {'z': 1, 'y': -1}\n",
      "x , pi:  s\n",
      "x , d:  6\n",
      ">> [  z  node Info] : \n",
      "z , edge:  {}\n",
      "z , pi:  y\n",
      "z , d:  3\n",
      ">> [  y  node Info] : \n",
      "y , edge:  {'z': -2}\n",
      "y , pi:  x\n",
      "y , d:  5\n"
     ]
    }
   ],
   "source": [
    "DAG_shortest_paths(G,'s')\n",
    "G.showinfo()"
   ]
  }
 ],
 "metadata": {
  "kernelspec": {
   "display_name": "Python 3",
   "language": "python",
   "name": "python3"
  },
  "language_info": {
   "codemirror_mode": {
    "name": "ipython",
    "version": 3
   },
   "file_extension": ".py",
   "mimetype": "text/x-python",
   "name": "python",
   "nbconvert_exporter": "python",
   "pygments_lexer": "ipython3",
   "version": "3.5.2"
  }
 },
 "nbformat": 4,
 "nbformat_minor": 2
}
